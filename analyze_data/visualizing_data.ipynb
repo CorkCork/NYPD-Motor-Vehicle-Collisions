{
 "cells": [
  {
   "cell_type": "markdown",
   "metadata": {},
   "source": [
    "## Visualizing Data\n",
    "\n",
    "Here, we will visualize the data that was cleaned and analysed by another script. We will visually explore the data, try to draw conclusions, and explain our findings.\n",
    "\n",
    "We will create an exploratory visualization of:\n",
    "\n",
    "* [Number of Deaths by Borough](#Fataities_by_borough)\n",
    "* [Crash Fatalities by Borough](#crash_fatalities_by_borough)\n",
    "* [Number of Deaths by Hour](#Fataities_by_hour)\n",
    "* [Number of Accidents by Season](#accidents_by_season)\n",
    "* [Fatal Car Crash Locations](#car_crash_locations)\n",
    "* [Contributing Factor Trends](#contributing_factor_trends)\n",
    "* [Contributing Factors to Crash Fatalities](#Factor_Bar_Plot)\n",
    "* [Fatalities to Pedestrians vs Cyclists vs Motorist](#Fataity_Grouped_Series)\n",
    "* [Fatal Crash Frequency Over Time](#Fatality_Time_Scatterplot)\n",
    "* [Crash Factor Percentages in Queens](#queens_crash_causes)\n",
    "\n",
    "First, let's bring in the cleaned, prepared data. Since it was saved as a .csv, we'll have to reconvert a few things (dates to datetime, for example)."
   ]
  },
  {
   "cell_type": "code",
   "execution_count": 1,
   "metadata": {},
   "outputs": [],
   "source": [
    "import numpy as np\n",
    "import pandas as pd\n",
    "import datetime as dt\n",
    "import sys\n",
    "from IPython.core.display import display, HTML\n",
    "\n",
    "clean_nyc1 = pd.read_csv(r\"C:\\Users\\Inspiration\\Desktop\\nyc_data\\clean_nyc1_data.csv\", low_memory=False)"
   ]
  },
  {
   "cell_type": "markdown",
   "metadata": {},
   "source": [
    "Let's look the first few rows of the dataset. "
   ]
  },
  {
   "cell_type": "code",
   "execution_count": 2,
   "metadata": {},
   "outputs": [
    {
     "data": {
      "text/html": [
       "<div>\n",
       "<style scoped>\n",
       "    .dataframe tbody tr th:only-of-type {\n",
       "        vertical-align: middle;\n",
       "    }\n",
       "\n",
       "    .dataframe tbody tr th {\n",
       "        vertical-align: top;\n",
       "    }\n",
       "\n",
       "    .dataframe thead th {\n",
       "        text-align: right;\n",
       "    }\n",
       "</style>\n",
       "<table border=\"1\" class=\"dataframe\">\n",
       "  <thead>\n",
       "    <tr style=\"text-align: right;\">\n",
       "      <th></th>\n",
       "      <th>crash_date</th>\n",
       "      <th>crash_time</th>\n",
       "      <th>borough</th>\n",
       "      <th>zip_code</th>\n",
       "      <th>latitude</th>\n",
       "      <th>longitude</th>\n",
       "      <th>persons_injured</th>\n",
       "      <th>persons_killed</th>\n",
       "      <th>pedestrians_injured</th>\n",
       "      <th>pedestrians_killed</th>\n",
       "      <th>cyclist_injured</th>\n",
       "      <th>cyclist_killed</th>\n",
       "      <th>motorist_injured</th>\n",
       "      <th>motorist_killed</th>\n",
       "      <th>contributing_factor_vehicle_1</th>\n",
       "      <th>contributing_factor_vehicle_2</th>\n",
       "      <th>vehicle_type_code_1</th>\n",
       "      <th>vehicle_type_code_2</th>\n",
       "      <th>hour</th>\n",
       "      <th>season</th>\n",
       "    </tr>\n",
       "  </thead>\n",
       "  <tbody>\n",
       "    <tr>\n",
       "      <th>0</th>\n",
       "      <td>2019-08-05 00:00:00</td>\n",
       "      <td>2019-12-03 16:30:00</td>\n",
       "      <td>queens</td>\n",
       "      <td>11434</td>\n",
       "      <td>40.676052</td>\n",
       "      <td>-73.790184</td>\n",
       "      <td>0.0</td>\n",
       "      <td>0.0</td>\n",
       "      <td>0</td>\n",
       "      <td>0</td>\n",
       "      <td>0</td>\n",
       "      <td>0</td>\n",
       "      <td>0</td>\n",
       "      <td>0</td>\n",
       "      <td>driver inexperience</td>\n",
       "      <td>unspecified</td>\n",
       "      <td>sedan</td>\n",
       "      <td>pick-up truck</td>\n",
       "      <td>16</td>\n",
       "      <td>Summer</td>\n",
       "    </tr>\n",
       "    <tr>\n",
       "      <th>1</th>\n",
       "      <td>2019-08-27 00:00:00</td>\n",
       "      <td>2019-12-03 16:02:00</td>\n",
       "      <td>brooklyn</td>\n",
       "      <td>11225</td>\n",
       "      <td>40.657780</td>\n",
       "      <td>-73.951096</td>\n",
       "      <td>0.0</td>\n",
       "      <td>0.0</td>\n",
       "      <td>0</td>\n",
       "      <td>0</td>\n",
       "      <td>0</td>\n",
       "      <td>0</td>\n",
       "      <td>0</td>\n",
       "      <td>0</td>\n",
       "      <td>driver inexperience</td>\n",
       "      <td>unspecified</td>\n",
       "      <td>suv</td>\n",
       "      <td>station wagon/sport utility vehicle</td>\n",
       "      <td>16</td>\n",
       "      <td>Summer</td>\n",
       "    </tr>\n",
       "    <tr>\n",
       "      <th>2</th>\n",
       "      <td>2019-08-15 00:00:00</td>\n",
       "      <td>2019-12-03 17:57:00</td>\n",
       "      <td>manhattan</td>\n",
       "      <td>10002</td>\n",
       "      <td>40.718143</td>\n",
       "      <td>-73.993835</td>\n",
       "      <td>1.0</td>\n",
       "      <td>0.0</td>\n",
       "      <td>0</td>\n",
       "      <td>0</td>\n",
       "      <td>0</td>\n",
       "      <td>0</td>\n",
       "      <td>1</td>\n",
       "      <td>0</td>\n",
       "      <td>driver inattention/distraction</td>\n",
       "      <td>NaN</td>\n",
       "      <td>sedan</td>\n",
       "      <td>NaN</td>\n",
       "      <td>17</td>\n",
       "      <td>Summer</td>\n",
       "    </tr>\n",
       "    <tr>\n",
       "      <th>3</th>\n",
       "      <td>2019-08-06 00:00:00</td>\n",
       "      <td>2019-12-03 09:45:00</td>\n",
       "      <td>manhattan</td>\n",
       "      <td>10016</td>\n",
       "      <td>40.745440</td>\n",
       "      <td>-73.975400</td>\n",
       "      <td>1.0</td>\n",
       "      <td>0.0</td>\n",
       "      <td>0</td>\n",
       "      <td>0</td>\n",
       "      <td>1</td>\n",
       "      <td>0</td>\n",
       "      <td>0</td>\n",
       "      <td>0</td>\n",
       "      <td>driver inattention/distraction</td>\n",
       "      <td>driver inattention/distraction</td>\n",
       "      <td>suv</td>\n",
       "      <td>bike</td>\n",
       "      <td>9</td>\n",
       "      <td>Summer</td>\n",
       "    </tr>\n",
       "    <tr>\n",
       "      <th>4</th>\n",
       "      <td>2019-08-11 00:00:00</td>\n",
       "      <td>2019-12-03 22:23:00</td>\n",
       "      <td>NaN</td>\n",
       "      <td>NaN</td>\n",
       "      <td>40.858210</td>\n",
       "      <td>-73.916790</td>\n",
       "      <td>0.0</td>\n",
       "      <td>1.0</td>\n",
       "      <td>0</td>\n",
       "      <td>0</td>\n",
       "      <td>0</td>\n",
       "      <td>0</td>\n",
       "      <td>0</td>\n",
       "      <td>1</td>\n",
       "      <td>driver inexperience</td>\n",
       "      <td>unspecified</td>\n",
       "      <td>motorcycle</td>\n",
       "      <td>station wagon/sport utility vehicle</td>\n",
       "      <td>22</td>\n",
       "      <td>Summer</td>\n",
       "    </tr>\n",
       "  </tbody>\n",
       "</table>\n",
       "</div>"
      ],
      "text/plain": [
       "            crash_date           crash_time    borough zip_code   latitude  \\\n",
       "0  2019-08-05 00:00:00  2019-12-03 16:30:00     queens    11434  40.676052   \n",
       "1  2019-08-27 00:00:00  2019-12-03 16:02:00   brooklyn    11225  40.657780   \n",
       "2  2019-08-15 00:00:00  2019-12-03 17:57:00  manhattan    10002  40.718143   \n",
       "3  2019-08-06 00:00:00  2019-12-03 09:45:00  manhattan    10016  40.745440   \n",
       "4  2019-08-11 00:00:00  2019-12-03 22:23:00        NaN      NaN  40.858210   \n",
       "\n",
       "   longitude  persons_injured  persons_killed  pedestrians_injured  \\\n",
       "0 -73.790184              0.0             0.0                    0   \n",
       "1 -73.951096              0.0             0.0                    0   \n",
       "2 -73.993835              1.0             0.0                    0   \n",
       "3 -73.975400              1.0             0.0                    0   \n",
       "4 -73.916790              0.0             1.0                    0   \n",
       "\n",
       "   pedestrians_killed  cyclist_injured  cyclist_killed  motorist_injured  \\\n",
       "0                   0                0               0                 0   \n",
       "1                   0                0               0                 0   \n",
       "2                   0                0               0                 1   \n",
       "3                   0                1               0                 0   \n",
       "4                   0                0               0                 0   \n",
       "\n",
       "   motorist_killed   contributing_factor_vehicle_1  \\\n",
       "0                0             driver inexperience   \n",
       "1                0             driver inexperience   \n",
       "2                0  driver inattention/distraction   \n",
       "3                0  driver inattention/distraction   \n",
       "4                1             driver inexperience   \n",
       "\n",
       "    contributing_factor_vehicle_2 vehicle_type_code_1  \\\n",
       "0                     unspecified               sedan   \n",
       "1                     unspecified                 suv   \n",
       "2                             NaN               sedan   \n",
       "3  driver inattention/distraction                 suv   \n",
       "4                     unspecified          motorcycle   \n",
       "\n",
       "                   vehicle_type_code_2  hour  season  \n",
       "0                        pick-up truck    16  Summer  \n",
       "1  station wagon/sport utility vehicle    16  Summer  \n",
       "2                                  NaN    17  Summer  \n",
       "3                                 bike     9  Summer  \n",
       "4  station wagon/sport utility vehicle    22  Summer  "
      ]
     },
     "execution_count": 2,
     "metadata": {},
     "output_type": "execute_result"
    }
   ],
   "source": [
    "pd.set_option('display.max_columns', None) # This allows us to view all columns in a dataframe when called\n",
    "pd.set_option('display.max_rows', 200) # This returns 200 rows at max to prevent accidents when writing code\n",
    "clean_nyc1.head()"
   ]
  },
  {
   "cell_type": "code",
   "execution_count": 3,
   "metadata": {},
   "outputs": [
    {
     "name": "stdout",
     "output_type": "stream",
     "text": [
      "<class 'pandas.core.frame.DataFrame'>\n",
      "RangeIndex: 1016002 entries, 0 to 1016001\n",
      "Data columns (total 20 columns):\n",
      "crash_date                       1016002 non-null object\n",
      "crash_time                       1016002 non-null object\n",
      "borough                          667250 non-null object\n",
      "zip_code                         667111 non-null object\n",
      "latitude                         895478 non-null float64\n",
      "longitude                        895478 non-null float64\n",
      "persons_injured                  1016002 non-null float64\n",
      "persons_killed                   1016002 non-null float64\n",
      "pedestrians_injured              1016002 non-null int64\n",
      "pedestrians_killed               1016002 non-null int64\n",
      "cyclist_injured                  1016002 non-null int64\n",
      "cyclist_killed                   1016002 non-null int64\n",
      "motorist_injured                 1016002 non-null int64\n",
      "motorist_killed                  1016002 non-null int64\n",
      "contributing_factor_vehicle_1    1016002 non-null object\n",
      "contributing_factor_vehicle_2    926542 non-null object\n",
      "vehicle_type_code_1              1013691 non-null object\n",
      "vehicle_type_code_2              869145 non-null object\n",
      "hour                             1016002 non-null int64\n",
      "season                           1016002 non-null object\n",
      "dtypes: float64(4), int64(7), object(9)\n",
      "memory usage: 155.0+ MB\n"
     ]
    }
   ],
   "source": [
    "clean_nyc1.info()"
   ]
  },
  {
   "cell_type": "markdown",
   "metadata": {},
   "source": [
    "Let's  change the `crash_date` and `crash_time` columns into a datetime object."
   ]
  },
  {
   "cell_type": "code",
   "execution_count": 5,
   "metadata": {},
   "outputs": [
    {
     "name": "stdout",
     "output_type": "stream",
     "text": [
      "<class 'pandas.core.frame.DataFrame'>\n",
      "RangeIndex: 1016002 entries, 0 to 1016001\n",
      "Data columns (total 20 columns):\n",
      "crash_date                       1016002 non-null datetime64[ns]\n",
      "crash_time                       1016002 non-null datetime64[ns]\n",
      "borough                          667250 non-null object\n",
      "zip_code                         667111 non-null object\n",
      "latitude                         895478 non-null float64\n",
      "longitude                        895478 non-null float64\n",
      "persons_injured                  1016002 non-null float64\n",
      "persons_killed                   1016002 non-null float64\n",
      "pedestrians_injured              1016002 non-null int64\n",
      "pedestrians_killed               1016002 non-null int64\n",
      "cyclist_injured                  1016002 non-null int64\n",
      "cyclist_killed                   1016002 non-null int64\n",
      "motorist_injured                 1016002 non-null int64\n",
      "motorist_killed                  1016002 non-null int64\n",
      "contributing_factor_vehicle_1    1016002 non-null object\n",
      "contributing_factor_vehicle_2    926542 non-null object\n",
      "vehicle_type_code_1              1013691 non-null object\n",
      "vehicle_type_code_2              869145 non-null object\n",
      "hour                             1016002 non-null int64\n",
      "season                           1016002 non-null object\n",
      "dtypes: datetime64[ns](2), float64(4), int64(7), object(7)\n",
      "memory usage: 155.0+ MB\n"
     ]
    }
   ],
   "source": [
    "clean_nyc1['crash_date'] = pd.to_datetime(clean_nyc1['crash_date'])\n",
    "clean_nyc1['crash_time'] = pd.to_datetime(clean_nyc1['crash_time'])\n",
    "clean_nyc1.info()"
   ]
  },
  {
   "cell_type": "markdown",
   "metadata": {},
   "source": [
    "We also want to create a new column which will carry the values for hours only. We think that can be helpful when grouping the times and visualizing the data. We will create a new column called `hour` in which we will only have the hours instead of hours and minutes."
   ]
  },
  {
   "cell_type": "code",
   "execution_count": 6,
   "metadata": {},
   "outputs": [
    {
     "data": {
      "text/html": [
       "<div>\n",
       "<style scoped>\n",
       "    .dataframe tbody tr th:only-of-type {\n",
       "        vertical-align: middle;\n",
       "    }\n",
       "\n",
       "    .dataframe tbody tr th {\n",
       "        vertical-align: top;\n",
       "    }\n",
       "\n",
       "    .dataframe thead th {\n",
       "        text-align: right;\n",
       "    }\n",
       "</style>\n",
       "<table border=\"1\" class=\"dataframe\">\n",
       "  <thead>\n",
       "    <tr style=\"text-align: right;\">\n",
       "      <th></th>\n",
       "      <th>crash_date</th>\n",
       "      <th>crash_time</th>\n",
       "      <th>borough</th>\n",
       "      <th>zip_code</th>\n",
       "      <th>latitude</th>\n",
       "      <th>longitude</th>\n",
       "      <th>persons_injured</th>\n",
       "      <th>persons_killed</th>\n",
       "      <th>pedestrians_injured</th>\n",
       "      <th>pedestrians_killed</th>\n",
       "      <th>cyclist_injured</th>\n",
       "      <th>cyclist_killed</th>\n",
       "      <th>motorist_injured</th>\n",
       "      <th>motorist_killed</th>\n",
       "      <th>contributing_factor_vehicle_1</th>\n",
       "      <th>contributing_factor_vehicle_2</th>\n",
       "      <th>vehicle_type_code_1</th>\n",
       "      <th>vehicle_type_code_2</th>\n",
       "      <th>hour</th>\n",
       "      <th>season</th>\n",
       "      <th>crash_hour</th>\n",
       "    </tr>\n",
       "  </thead>\n",
       "  <tbody>\n",
       "    <tr>\n",
       "      <th>0</th>\n",
       "      <td>2019-08-05</td>\n",
       "      <td>2019-12-03 16:30:00</td>\n",
       "      <td>queens</td>\n",
       "      <td>11434</td>\n",
       "      <td>40.676052</td>\n",
       "      <td>-73.790184</td>\n",
       "      <td>0.0</td>\n",
       "      <td>0.0</td>\n",
       "      <td>0</td>\n",
       "      <td>0</td>\n",
       "      <td>0</td>\n",
       "      <td>0</td>\n",
       "      <td>0</td>\n",
       "      <td>0</td>\n",
       "      <td>driver inexperience</td>\n",
       "      <td>unspecified</td>\n",
       "      <td>sedan</td>\n",
       "      <td>pick-up truck</td>\n",
       "      <td>16</td>\n",
       "      <td>Summer</td>\n",
       "      <td>16</td>\n",
       "    </tr>\n",
       "    <tr>\n",
       "      <th>1</th>\n",
       "      <td>2019-08-27</td>\n",
       "      <td>2019-12-03 16:02:00</td>\n",
       "      <td>brooklyn</td>\n",
       "      <td>11225</td>\n",
       "      <td>40.657780</td>\n",
       "      <td>-73.951096</td>\n",
       "      <td>0.0</td>\n",
       "      <td>0.0</td>\n",
       "      <td>0</td>\n",
       "      <td>0</td>\n",
       "      <td>0</td>\n",
       "      <td>0</td>\n",
       "      <td>0</td>\n",
       "      <td>0</td>\n",
       "      <td>driver inexperience</td>\n",
       "      <td>unspecified</td>\n",
       "      <td>suv</td>\n",
       "      <td>station wagon/sport utility vehicle</td>\n",
       "      <td>16</td>\n",
       "      <td>Summer</td>\n",
       "      <td>16</td>\n",
       "    </tr>\n",
       "    <tr>\n",
       "      <th>2</th>\n",
       "      <td>2019-08-15</td>\n",
       "      <td>2019-12-03 17:57:00</td>\n",
       "      <td>manhattan</td>\n",
       "      <td>10002</td>\n",
       "      <td>40.718143</td>\n",
       "      <td>-73.993835</td>\n",
       "      <td>1.0</td>\n",
       "      <td>0.0</td>\n",
       "      <td>0</td>\n",
       "      <td>0</td>\n",
       "      <td>0</td>\n",
       "      <td>0</td>\n",
       "      <td>1</td>\n",
       "      <td>0</td>\n",
       "      <td>driver inattention/distraction</td>\n",
       "      <td>NaN</td>\n",
       "      <td>sedan</td>\n",
       "      <td>NaN</td>\n",
       "      <td>17</td>\n",
       "      <td>Summer</td>\n",
       "      <td>17</td>\n",
       "    </tr>\n",
       "    <tr>\n",
       "      <th>3</th>\n",
       "      <td>2019-08-06</td>\n",
       "      <td>2019-12-03 09:45:00</td>\n",
       "      <td>manhattan</td>\n",
       "      <td>10016</td>\n",
       "      <td>40.745440</td>\n",
       "      <td>-73.975400</td>\n",
       "      <td>1.0</td>\n",
       "      <td>0.0</td>\n",
       "      <td>0</td>\n",
       "      <td>0</td>\n",
       "      <td>1</td>\n",
       "      <td>0</td>\n",
       "      <td>0</td>\n",
       "      <td>0</td>\n",
       "      <td>driver inattention/distraction</td>\n",
       "      <td>driver inattention/distraction</td>\n",
       "      <td>suv</td>\n",
       "      <td>bike</td>\n",
       "      <td>9</td>\n",
       "      <td>Summer</td>\n",
       "      <td>9</td>\n",
       "    </tr>\n",
       "    <tr>\n",
       "      <th>4</th>\n",
       "      <td>2019-08-11</td>\n",
       "      <td>2019-12-03 22:23:00</td>\n",
       "      <td>NaN</td>\n",
       "      <td>NaN</td>\n",
       "      <td>40.858210</td>\n",
       "      <td>-73.916790</td>\n",
       "      <td>0.0</td>\n",
       "      <td>1.0</td>\n",
       "      <td>0</td>\n",
       "      <td>0</td>\n",
       "      <td>0</td>\n",
       "      <td>0</td>\n",
       "      <td>0</td>\n",
       "      <td>1</td>\n",
       "      <td>driver inexperience</td>\n",
       "      <td>unspecified</td>\n",
       "      <td>motorcycle</td>\n",
       "      <td>station wagon/sport utility vehicle</td>\n",
       "      <td>22</td>\n",
       "      <td>Summer</td>\n",
       "      <td>22</td>\n",
       "    </tr>\n",
       "  </tbody>\n",
       "</table>\n",
       "</div>"
      ],
      "text/plain": [
       "  crash_date          crash_time    borough zip_code   latitude  longitude  \\\n",
       "0 2019-08-05 2019-12-03 16:30:00     queens    11434  40.676052 -73.790184   \n",
       "1 2019-08-27 2019-12-03 16:02:00   brooklyn    11225  40.657780 -73.951096   \n",
       "2 2019-08-15 2019-12-03 17:57:00  manhattan    10002  40.718143 -73.993835   \n",
       "3 2019-08-06 2019-12-03 09:45:00  manhattan    10016  40.745440 -73.975400   \n",
       "4 2019-08-11 2019-12-03 22:23:00        NaN      NaN  40.858210 -73.916790   \n",
       "\n",
       "   persons_injured  persons_killed  pedestrians_injured  pedestrians_killed  \\\n",
       "0              0.0             0.0                    0                   0   \n",
       "1              0.0             0.0                    0                   0   \n",
       "2              1.0             0.0                    0                   0   \n",
       "3              1.0             0.0                    0                   0   \n",
       "4              0.0             1.0                    0                   0   \n",
       "\n",
       "   cyclist_injured  cyclist_killed  motorist_injured  motorist_killed  \\\n",
       "0                0               0                 0                0   \n",
       "1                0               0                 0                0   \n",
       "2                0               0                 1                0   \n",
       "3                1               0                 0                0   \n",
       "4                0               0                 0                1   \n",
       "\n",
       "    contributing_factor_vehicle_1   contributing_factor_vehicle_2  \\\n",
       "0             driver inexperience                     unspecified   \n",
       "1             driver inexperience                     unspecified   \n",
       "2  driver inattention/distraction                             NaN   \n",
       "3  driver inattention/distraction  driver inattention/distraction   \n",
       "4             driver inexperience                     unspecified   \n",
       "\n",
       "  vehicle_type_code_1                  vehicle_type_code_2  hour  season  \\\n",
       "0               sedan                        pick-up truck    16  Summer   \n",
       "1                 suv  station wagon/sport utility vehicle    16  Summer   \n",
       "2               sedan                                  NaN    17  Summer   \n",
       "3                 suv                                 bike     9  Summer   \n",
       "4          motorcycle  station wagon/sport utility vehicle    22  Summer   \n",
       "\n",
       "   crash_hour  \n",
       "0          16  \n",
       "1          16  \n",
       "2          17  \n",
       "3           9  \n",
       "4          22  "
      ]
     },
     "execution_count": 6,
     "metadata": {},
     "output_type": "execute_result"
    }
   ],
   "source": [
    "clean_nyc1['crash_time'] = pd.to_datetime(clean_nyc1.crash_time)\n",
    "clean_nyc1['crash_hour'] = clean_nyc1['crash_time'].dt.hour\n",
    "clean_nyc1.head()"
   ]
  },
  {
   "cell_type": "markdown",
   "metadata": {},
   "source": [
    "## Number of deaths by borough <a id='Fataities_by_borough'></a>"
   ]
  },
  {
   "cell_type": "markdown",
   "metadata": {},
   "source": [
    "Let's see the average of killed persons by borough with the collisions count."
   ]
  },
  {
   "cell_type": "code",
   "execution_count": 7,
   "metadata": {},
   "outputs": [
    {
     "data": {
      "text/html": [
       "<div>\n",
       "<style scoped>\n",
       "    .dataframe tbody tr th:only-of-type {\n",
       "        vertical-align: middle;\n",
       "    }\n",
       "\n",
       "    .dataframe tbody tr th {\n",
       "        vertical-align: top;\n",
       "    }\n",
       "\n",
       "    .dataframe thead th {\n",
       "        text-align: right;\n",
       "    }\n",
       "</style>\n",
       "<table border=\"1\" class=\"dataframe\">\n",
       "  <thead>\n",
       "    <tr style=\"text-align: right;\">\n",
       "      <th></th>\n",
       "      <th>count</th>\n",
       "      <th>mean</th>\n",
       "    </tr>\n",
       "    <tr>\n",
       "      <th>borough</th>\n",
       "      <th></th>\n",
       "      <th></th>\n",
       "    </tr>\n",
       "  </thead>\n",
       "  <tbody>\n",
       "    <tr>\n",
       "      <th>bronx</th>\n",
       "      <td>85905</td>\n",
       "      <td>0.001129</td>\n",
       "    </tr>\n",
       "    <tr>\n",
       "      <th>brooklyn</th>\n",
       "      <td>191127</td>\n",
       "      <td>0.001287</td>\n",
       "    </tr>\n",
       "    <tr>\n",
       "      <th>manhattan</th>\n",
       "      <td>178725</td>\n",
       "      <td>0.000783</td>\n",
       "    </tr>\n",
       "    <tr>\n",
       "      <th>queens</th>\n",
       "      <td>183489</td>\n",
       "      <td>0.001210</td>\n",
       "    </tr>\n",
       "    <tr>\n",
       "      <th>staten island</th>\n",
       "      <td>28004</td>\n",
       "      <td>0.001571</td>\n",
       "    </tr>\n",
       "  </tbody>\n",
       "</table>\n",
       "</div>"
      ],
      "text/plain": [
       "                count      mean\n",
       "borough                        \n",
       "bronx           85905  0.001129\n",
       "brooklyn       191127  0.001287\n",
       "manhattan      178725  0.000783\n",
       "queens         183489  0.001210\n",
       "staten island   28004  0.001571"
      ]
     },
     "execution_count": 7,
     "metadata": {},
     "output_type": "execute_result"
    }
   ],
   "source": [
    "clean_nyc1.groupby('borough').persons_killed.agg(['count', 'mean'])"
   ]
  },
  {
   "cell_type": "markdown",
   "metadata": {},
   "source": [
    "Let's graph this with a bar chart."
   ]
  },
  {
   "cell_type": "code",
   "execution_count": 8,
   "metadata": {},
   "outputs": [
    {
     "data": {
      "text/plain": [
       "Text(0.5, 0, ' ')"
      ]
     },
     "execution_count": 8,
     "metadata": {},
     "output_type": "execute_result"
    },
    {
     "data": {
      "image/png": "[encoded data removed]",
      "text/plain": [
       "<Figure size 720x432 with 1 Axes>"
      ]
     },
     "metadata": {
      "needs_background": "light"
     },
     "output_type": "display_data"
    }
   ],
   "source": [
    "import matplotlib.pyplot as plt\n",
    "%matplotlib inline\n",
    "clean_nyc1.groupby('borough').persons_killed.count().plot(kind='bar', figsize=(10, 6))\n",
    "plt.ylabel('Number persons killed')\n",
    "plt.title('Number of Deaths by Borough', fontsize=15)\n",
    "plt.xticks(rotation=0, fontsize='large')\n",
    "plt.xlabel(' ')"
   ]
  },
  {
   "cell_type": "markdown",
   "metadata": {},
   "source": [
    "It looks like Staten Island and Queens have the highest probability of death, meanwhile Manhattan has the lowest, which may be due to its smaller size."
   ]
  },
  {
   "cell_type": "markdown",
   "metadata": {},
   "source": [
    "## Crash fatalities by borough <a id='crash_fatalities_by_borough'></a>"
   ]
  },
  {
   "cell_type": "markdown",
   "metadata": {},
   "source": [
    "In order to build a visualization from the dataframe, we will need to manipulate the data. We will pull a few columns into a new dataframe, grouping crashes by borough and month, along with the sum of persons killed.\n",
    "\n",
    "Before we start slicing data to examine it, we will quickly change the `crash_date` column into a datetime object, making the date easier to work with later."
   ]
  },
  {
   "cell_type": "code",
   "execution_count": 9,
   "metadata": {},
   "outputs": [
    {
     "data": {
      "text/html": [
       "<div>\n",
       "<style scoped>\n",
       "    .dataframe tbody tr th:only-of-type {\n",
       "        vertical-align: middle;\n",
       "    }\n",
       "\n",
       "    .dataframe tbody tr th {\n",
       "        vertical-align: top;\n",
       "    }\n",
       "\n",
       "    .dataframe thead th {\n",
       "        text-align: right;\n",
       "    }\n",
       "</style>\n",
       "<table border=\"1\" class=\"dataframe\">\n",
       "  <thead>\n",
       "    <tr style=\"text-align: right;\">\n",
       "      <th></th>\n",
       "      <th>crash_date</th>\n",
       "      <th>crash_time</th>\n",
       "      <th>borough</th>\n",
       "      <th>zip_code</th>\n",
       "      <th>latitude</th>\n",
       "      <th>longitude</th>\n",
       "      <th>persons_injured</th>\n",
       "      <th>persons_killed</th>\n",
       "      <th>pedestrians_injured</th>\n",
       "      <th>pedestrians_killed</th>\n",
       "      <th>cyclist_injured</th>\n",
       "      <th>cyclist_killed</th>\n",
       "      <th>motorist_injured</th>\n",
       "      <th>motorist_killed</th>\n",
       "      <th>contributing_factor_vehicle_1</th>\n",
       "      <th>contributing_factor_vehicle_2</th>\n",
       "      <th>vehicle_type_code_1</th>\n",
       "      <th>vehicle_type_code_2</th>\n",
       "      <th>hour</th>\n",
       "      <th>season</th>\n",
       "      <th>crash_hour</th>\n",
       "    </tr>\n",
       "  </thead>\n",
       "  <tbody>\n",
       "    <tr>\n",
       "      <th>1015997</th>\n",
       "      <td>2012-07-08</td>\n",
       "      <td>2019-12-03 22:30:00</td>\n",
       "      <td>queens</td>\n",
       "      <td>11368</td>\n",
       "      <td>40.742096</td>\n",
       "      <td>-73.867473</td>\n",
       "      <td>0.0</td>\n",
       "      <td>0.0</td>\n",
       "      <td>0</td>\n",
       "      <td>0</td>\n",
       "      <td>0</td>\n",
       "      <td>0</td>\n",
       "      <td>0</td>\n",
       "      <td>0</td>\n",
       "      <td>driver inattention/distraction</td>\n",
       "      <td>unspecified</td>\n",
       "      <td>passenger vehicle</td>\n",
       "      <td>passenger vehicle</td>\n",
       "      <td>22</td>\n",
       "      <td>Summer</td>\n",
       "      <td>22</td>\n",
       "    </tr>\n",
       "    <tr>\n",
       "      <th>1015998</th>\n",
       "      <td>2012-07-21</td>\n",
       "      <td>2019-12-03 22:46:00</td>\n",
       "      <td>brooklyn</td>\n",
       "      <td>11226</td>\n",
       "      <td>40.651741</td>\n",
       "      <td>-73.965241</td>\n",
       "      <td>0.0</td>\n",
       "      <td>0.0</td>\n",
       "      <td>0</td>\n",
       "      <td>0</td>\n",
       "      <td>0</td>\n",
       "      <td>0</td>\n",
       "      <td>0</td>\n",
       "      <td>0</td>\n",
       "      <td>road defects</td>\n",
       "      <td>unspecified</td>\n",
       "      <td>suv</td>\n",
       "      <td>unknown</td>\n",
       "      <td>22</td>\n",
       "      <td>Summer</td>\n",
       "      <td>22</td>\n",
       "    </tr>\n",
       "    <tr>\n",
       "      <th>1015999</th>\n",
       "      <td>2012-07-09</td>\n",
       "      <td>2019-12-03 16:45:00</td>\n",
       "      <td>NaN</td>\n",
       "      <td>NaN</td>\n",
       "      <td>NaN</td>\n",
       "      <td>NaN</td>\n",
       "      <td>5.0</td>\n",
       "      <td>0.0</td>\n",
       "      <td>0</td>\n",
       "      <td>0</td>\n",
       "      <td>0</td>\n",
       "      <td>0</td>\n",
       "      <td>5</td>\n",
       "      <td>0</td>\n",
       "      <td>driver inattention/distraction</td>\n",
       "      <td>fatigued/drowsy</td>\n",
       "      <td>passenger vehicle</td>\n",
       "      <td>livery vehicle</td>\n",
       "      <td>16</td>\n",
       "      <td>Summer</td>\n",
       "      <td>16</td>\n",
       "    </tr>\n",
       "    <tr>\n",
       "      <th>1016000</th>\n",
       "      <td>2012-07-09</td>\n",
       "      <td>2019-12-03 14:35:00</td>\n",
       "      <td>NaN</td>\n",
       "      <td>NaN</td>\n",
       "      <td>40.791492</td>\n",
       "      <td>-73.935763</td>\n",
       "      <td>0.0</td>\n",
       "      <td>0.0</td>\n",
       "      <td>0</td>\n",
       "      <td>0</td>\n",
       "      <td>0</td>\n",
       "      <td>0</td>\n",
       "      <td>0</td>\n",
       "      <td>0</td>\n",
       "      <td>driver inattention/distraction</td>\n",
       "      <td>unspecified</td>\n",
       "      <td>passenger vehicle</td>\n",
       "      <td>passenger vehicle</td>\n",
       "      <td>14</td>\n",
       "      <td>Summer</td>\n",
       "      <td>14</td>\n",
       "    </tr>\n",
       "    <tr>\n",
       "      <th>1016001</th>\n",
       "      <td>2012-07-18</td>\n",
       "      <td>2019-12-03 09:20:00</td>\n",
       "      <td>manhattan</td>\n",
       "      <td>10024</td>\n",
       "      <td>40.779479</td>\n",
       "      <td>-73.973573</td>\n",
       "      <td>0.0</td>\n",
       "      <td>0.0</td>\n",
       "      <td>0</td>\n",
       "      <td>0</td>\n",
       "      <td>0</td>\n",
       "      <td>0</td>\n",
       "      <td>0</td>\n",
       "      <td>0</td>\n",
       "      <td>driver inattention/distraction</td>\n",
       "      <td>unspecified</td>\n",
       "      <td>suv</td>\n",
       "      <td>van</td>\n",
       "      <td>9</td>\n",
       "      <td>Summer</td>\n",
       "      <td>9</td>\n",
       "    </tr>\n",
       "  </tbody>\n",
       "</table>\n",
       "</div>"
      ],
      "text/plain": [
       "        crash_date          crash_time    borough zip_code   latitude  \\\n",
       "1015997 2012-07-08 2019-12-03 22:30:00     queens    11368  40.742096   \n",
       "1015998 2012-07-21 2019-12-03 22:46:00   brooklyn    11226  40.651741   \n",
       "1015999 2012-07-09 2019-12-03 16:45:00        NaN      NaN        NaN   \n",
       "1016000 2012-07-09 2019-12-03 14:35:00        NaN      NaN  40.791492   \n",
       "1016001 2012-07-18 2019-12-03 09:20:00  manhattan    10024  40.779479   \n",
       "\n",
       "         longitude  persons_injured  persons_killed  pedestrians_injured  \\\n",
       "1015997 -73.867473              0.0             0.0                    0   \n",
       "1015998 -73.965241              0.0             0.0                    0   \n",
       "1015999        NaN              5.0             0.0                    0   \n",
       "1016000 -73.935763              0.0             0.0                    0   \n",
       "1016001 -73.973573              0.0             0.0                    0   \n",
       "\n",
       "         pedestrians_killed  cyclist_injured  cyclist_killed  \\\n",
       "1015997                   0                0               0   \n",
       "1015998                   0                0               0   \n",
       "1015999                   0                0               0   \n",
       "1016000                   0                0               0   \n",
       "1016001                   0                0               0   \n",
       "\n",
       "         motorist_injured  motorist_killed   contributing_factor_vehicle_1  \\\n",
       "1015997                 0                0  driver inattention/distraction   \n",
       "1015998                 0                0                    road defects   \n",
       "1015999                 5                0  driver inattention/distraction   \n",
       "1016000                 0                0  driver inattention/distraction   \n",
       "1016001                 0                0  driver inattention/distraction   \n",
       "\n",
       "        contributing_factor_vehicle_2 vehicle_type_code_1 vehicle_type_code_2  \\\n",
       "1015997                   unspecified   passenger vehicle   passenger vehicle   \n",
       "1015998                   unspecified                 suv             unknown   \n",
       "1015999               fatigued/drowsy   passenger vehicle      livery vehicle   \n",
       "1016000                   unspecified   passenger vehicle   passenger vehicle   \n",
       "1016001                   unspecified                 suv                 van   \n",
       "\n",
       "         hour  season  crash_hour  \n",
       "1015997    22  Summer          22  \n",
       "1015998    22  Summer          22  \n",
       "1015999    16  Summer          16  \n",
       "1016000    14  Summer          14  \n",
       "1016001     9  Summer           9  "
      ]
     },
     "execution_count": 9,
     "metadata": {},
     "output_type": "execute_result"
    }
   ],
   "source": [
    "clean_nyc1['crash_date'] = pd.to_datetime(clean_nyc1['crash_date'])\n",
    "clean_nyc1.tail()"
   ]
  },
  {
   "cell_type": "code",
   "execution_count": 10,
   "metadata": {},
   "outputs": [
    {
     "data": {
      "text/plain": [
       "borough  crash_date\n",
       "bronx    2012-07-31    3.0\n",
       "         2012-08-31    4.0\n",
       "         2012-09-30    2.0\n",
       "         2012-10-31    1.0\n",
       "         2012-11-30    0.0\n",
       "Name: persons_killed, dtype: float64"
      ]
     },
     "execution_count": 10,
     "metadata": {},
     "output_type": "execute_result"
    }
   ],
   "source": [
    "crashes_by_month = clean_nyc1.groupby(['borough', pd.Grouper(key='crash_date', freq='M')]).persons_killed.sum().copy()\n",
    "crashes_by_month.head()"
   ]
  },
  {
   "cell_type": "markdown",
   "metadata": {},
   "source": [
    "This looks nice and grouped to us, but computers will have a hard time manipulating this data without an index. We will set one now with the 'reset_index' function."
   ]
  },
  {
   "cell_type": "code",
   "execution_count": 11,
   "metadata": {},
   "outputs": [
    {
     "data": {
      "text/html": [
       "<div>\n",
       "<style scoped>\n",
       "    .dataframe tbody tr th:only-of-type {\n",
       "        vertical-align: middle;\n",
       "    }\n",
       "\n",
       "    .dataframe tbody tr th {\n",
       "        vertical-align: top;\n",
       "    }\n",
       "\n",
       "    .dataframe thead th {\n",
       "        text-align: right;\n",
       "    }\n",
       "</style>\n",
       "<table border=\"1\" class=\"dataframe\">\n",
       "  <thead>\n",
       "    <tr style=\"text-align: right;\">\n",
       "      <th></th>\n",
       "      <th>borough</th>\n",
       "      <th>crash_date</th>\n",
       "      <th>persons_killed</th>\n",
       "    </tr>\n",
       "  </thead>\n",
       "  <tbody>\n",
       "    <tr>\n",
       "      <th>440</th>\n",
       "      <td>staten island</td>\n",
       "      <td>2019-07-31</td>\n",
       "      <td>1.0</td>\n",
       "    </tr>\n",
       "    <tr>\n",
       "      <th>441</th>\n",
       "      <td>staten island</td>\n",
       "      <td>2019-08-31</td>\n",
       "      <td>0.0</td>\n",
       "    </tr>\n",
       "    <tr>\n",
       "      <th>442</th>\n",
       "      <td>staten island</td>\n",
       "      <td>2019-09-30</td>\n",
       "      <td>0.0</td>\n",
       "    </tr>\n",
       "    <tr>\n",
       "      <th>443</th>\n",
       "      <td>staten island</td>\n",
       "      <td>2019-10-31</td>\n",
       "      <td>0.0</td>\n",
       "    </tr>\n",
       "    <tr>\n",
       "      <th>444</th>\n",
       "      <td>staten island</td>\n",
       "      <td>2019-11-30</td>\n",
       "      <td>0.0</td>\n",
       "    </tr>\n",
       "  </tbody>\n",
       "</table>\n",
       "</div>"
      ],
      "text/plain": [
       "           borough crash_date  persons_killed\n",
       "440  staten island 2019-07-31             1.0\n",
       "441  staten island 2019-08-31             0.0\n",
       "442  staten island 2019-09-30             0.0\n",
       "443  staten island 2019-10-31             0.0\n",
       "444  staten island 2019-11-30             0.0"
      ]
     },
     "execution_count": 11,
     "metadata": {},
     "output_type": "execute_result"
    }
   ],
   "source": [
    "crashes_by_month = crashes_by_month.reset_index()\n",
    "crashes_by_month.tail()"
   ]
  },
  {
   "cell_type": "markdown",
   "metadata": {},
   "source": [
    "Finally, we can get to the good stuff and look at this data visually."
   ]
  },
  {
   "cell_type": "code",
   "execution_count": null,
   "metadata": {},
   "outputs": [],
   "source": [
    "import plotly.express as px\n",
    "fig = px.scatter(crashes_by_month,x ='crash_date',y ='persons_killed', color='borough', opacity=0.9)\n",
    "fig\n",
    "\n",
    "# Edit the layout\n",
    "fig.update_layout(title='Crash Fatalities by Borough',\n",
    "                  xaxis_title='Month',\n",
    "                  yaxis_title='Number of People Killed'\n",
    "                 )\n",
    "\n",
    "# please use google colab to see the visualization."
   ]
  },
  {
   "cell_type": "markdown",
   "metadata": {},
   "source": [
    "While this information is useful analytically, it does not give a good sense of the dangers to nyc residents and visitors. We will attempt to show that in the next visualization."
   ]
  },
  {
   "cell_type": "markdown",
   "metadata": {},
   "source": [
    "## Number of deaths by hour  <a id='Fataities_by_hour'></a>"
   ]
  },
  {
   "cell_type": "markdown",
   "metadata": {},
   "source": [
    "Let's see the mean of persons killed by hour. We are interested in seeing the percentage rate of persons killed for each hour. We want to see this information hourly to get a better general idea. "
   ]
  },
  {
   "cell_type": "code",
   "execution_count": 12,
   "metadata": {},
   "outputs": [
    {
     "data": {
      "text/plain": [
       "Text(0.5, 0, 'time')"
      ]
     },
     "execution_count": 12,
     "metadata": {},
     "output_type": "execute_result"
    },
    {
     "data": {
      "image/png": "[encoded data removed]",
      "text/plain": [
       "<Figure size 720x432 with 1 Axes>"
      ]
     },
     "metadata": {
      "needs_background": "light"
     },
     "output_type": "display_data"
    }
   ],
   "source": [
    "clean_nyc1.groupby(clean_nyc1.hour).persons_killed.count().plot(figsize=(10, 6))\n",
    "plt.title('Number of Deaths by Hour', fontsize=18)\n",
    "plt.ylabel('Number of persons killed', fontsize=13)\n",
    "plt.xticks(np.arange(0, 24, step=3))\n",
    "plt.xlabel('time', fontsize=13)"
   ]
  },
  {
   "cell_type": "markdown",
   "metadata": {},
   "source": [
    "It looks like number of deaths goes up between 14:00 and 17:00. It decreases between 2:00 and 7:00, during when most people sleep."
   ]
  },
  {
   "cell_type": "markdown",
   "metadata": {},
   "source": [
    "## Number of accidents by season <a id='accidents_by_season'></a>"
   ]
  },
  {
   "cell_type": "markdown",
   "metadata": {},
   "source": [
    "Let's see the number of accidents by season."
   ]
  },
  {
   "cell_type": "code",
   "execution_count": 13,
   "metadata": {},
   "outputs": [
    {
     "data": {
      "image/png": "[encoded data removed]",
      "text/plain": [
       "<Figure size 432x288 with 1 Axes>"
      ]
     },
     "metadata": {
      "needs_background": "light"
     },
     "output_type": "display_data"
    }
   ],
   "source": [
    "import seaborn as sns\n",
    "ax = sns.countplot(x='season', data=clean_nyc1, palette='Set3')"
   ]
  },
  {
   "cell_type": "markdown",
   "metadata": {},
   "source": [
    "Autumn and Summer have higher number of accidents compared to Spring and Winter."
   ]
  },
  {
   "cell_type": "markdown",
   "metadata": {},
   "source": [
    "## Fatal Car Crash Locations <a id='car_crash_locations'></a>"
   ]
  },
  {
   "cell_type": "markdown",
   "metadata": {},
   "source": [
    "We will have to prepare a new dataframe with the latitude and longitutde values, before this can work. We'll also include other columns we may want to display in the visualiztion in some way, shape, or form."
   ]
  },
  {
   "cell_type": "code",
   "execution_count": 14,
   "metadata": {},
   "outputs": [
    {
     "data": {
      "text/html": [
       "<div>\n",
       "<style scoped>\n",
       "    .dataframe tbody tr th:only-of-type {\n",
       "        vertical-align: middle;\n",
       "    }\n",
       "\n",
       "    .dataframe tbody tr th {\n",
       "        vertical-align: top;\n",
       "    }\n",
       "\n",
       "    .dataframe thead th {\n",
       "        text-align: right;\n",
       "    }\n",
       "</style>\n",
       "<table border=\"1\" class=\"dataframe\">\n",
       "  <thead>\n",
       "    <tr style=\"text-align: right;\">\n",
       "      <th></th>\n",
       "      <th>borough</th>\n",
       "      <th>crash_date</th>\n",
       "      <th>latitude</th>\n",
       "      <th>longitude</th>\n",
       "      <th>persons_killed</th>\n",
       "      <th>cyclist_killed</th>\n",
       "      <th>pedestrians_killed</th>\n",
       "      <th>motorist_killed</th>\n",
       "    </tr>\n",
       "  </thead>\n",
       "  <tbody>\n",
       "    <tr>\n",
       "      <th>0</th>\n",
       "      <td>queens</td>\n",
       "      <td>2019-08-05</td>\n",
       "      <td>40.676052</td>\n",
       "      <td>-73.790184</td>\n",
       "      <td>0.0</td>\n",
       "      <td>0</td>\n",
       "      <td>0</td>\n",
       "      <td>0</td>\n",
       "    </tr>\n",
       "    <tr>\n",
       "      <th>1</th>\n",
       "      <td>brooklyn</td>\n",
       "      <td>2019-08-27</td>\n",
       "      <td>40.657780</td>\n",
       "      <td>-73.951096</td>\n",
       "      <td>0.0</td>\n",
       "      <td>0</td>\n",
       "      <td>0</td>\n",
       "      <td>0</td>\n",
       "    </tr>\n",
       "    <tr>\n",
       "      <th>2</th>\n",
       "      <td>manhattan</td>\n",
       "      <td>2019-08-15</td>\n",
       "      <td>40.718143</td>\n",
       "      <td>-73.993835</td>\n",
       "      <td>0.0</td>\n",
       "      <td>0</td>\n",
       "      <td>0</td>\n",
       "      <td>0</td>\n",
       "    </tr>\n",
       "    <tr>\n",
       "      <th>3</th>\n",
       "      <td>manhattan</td>\n",
       "      <td>2019-08-06</td>\n",
       "      <td>40.745440</td>\n",
       "      <td>-73.975400</td>\n",
       "      <td>0.0</td>\n",
       "      <td>0</td>\n",
       "      <td>0</td>\n",
       "      <td>0</td>\n",
       "    </tr>\n",
       "    <tr>\n",
       "      <th>4</th>\n",
       "      <td>NaN</td>\n",
       "      <td>2019-08-11</td>\n",
       "      <td>40.858210</td>\n",
       "      <td>-73.916790</td>\n",
       "      <td>1.0</td>\n",
       "      <td>0</td>\n",
       "      <td>0</td>\n",
       "      <td>1</td>\n",
       "    </tr>\n",
       "  </tbody>\n",
       "</table>\n",
       "</div>"
      ],
      "text/plain": [
       "     borough crash_date   latitude  longitude  persons_killed  cyclist_killed  \\\n",
       "0     queens 2019-08-05  40.676052 -73.790184             0.0               0   \n",
       "1   brooklyn 2019-08-27  40.657780 -73.951096             0.0               0   \n",
       "2  manhattan 2019-08-15  40.718143 -73.993835             0.0               0   \n",
       "3  manhattan 2019-08-06  40.745440 -73.975400             0.0               0   \n",
       "4        NaN 2019-08-11  40.858210 -73.916790             1.0               0   \n",
       "\n",
       "   pedestrians_killed  motorist_killed  \n",
       "0                   0                0  \n",
       "1                   0                0  \n",
       "2                   0                0  \n",
       "3                   0                0  \n",
       "4                   0                1  "
      ]
     },
     "execution_count": 14,
     "metadata": {},
     "output_type": "execute_result"
    }
   ],
   "source": [
    "crash_locations = clean_nyc1[['borough', 'crash_date', 'latitude' ,'longitude','persons_killed',\n",
    "                           'cyclist_killed', 'pedestrians_killed','motorist_killed']].copy()\n",
    "crash_locations.head()"
   ]
  },
  {
   "cell_type": "markdown",
   "metadata": {},
   "source": [
    "The first thing we will do is remove any non-fatal rows. To do so, we must change the 0.0 to a 0 in the `persons_killed` column. The problem is that these values are currently not classified as integers."
   ]
  },
  {
   "cell_type": "code",
   "execution_count": 15,
   "metadata": {},
   "outputs": [
    {
     "data": {
      "text/html": [
       "<div>\n",
       "<style scoped>\n",
       "    .dataframe tbody tr th:only-of-type {\n",
       "        vertical-align: middle;\n",
       "    }\n",
       "\n",
       "    .dataframe tbody tr th {\n",
       "        vertical-align: top;\n",
       "    }\n",
       "\n",
       "    .dataframe thead th {\n",
       "        text-align: right;\n",
       "    }\n",
       "</style>\n",
       "<table border=\"1\" class=\"dataframe\">\n",
       "  <thead>\n",
       "    <tr style=\"text-align: right;\">\n",
       "      <th></th>\n",
       "      <th>borough</th>\n",
       "      <th>crash_date</th>\n",
       "      <th>latitude</th>\n",
       "      <th>longitude</th>\n",
       "      <th>persons_killed</th>\n",
       "      <th>cyclist_killed</th>\n",
       "      <th>pedestrians_killed</th>\n",
       "      <th>motorist_killed</th>\n",
       "    </tr>\n",
       "  </thead>\n",
       "  <tbody>\n",
       "    <tr>\n",
       "      <th>0</th>\n",
       "      <td>queens</td>\n",
       "      <td>2019-08-05</td>\n",
       "      <td>40.676052</td>\n",
       "      <td>-73.790184</td>\n",
       "      <td>0</td>\n",
       "      <td>0</td>\n",
       "      <td>0</td>\n",
       "      <td>0</td>\n",
       "    </tr>\n",
       "    <tr>\n",
       "      <th>1</th>\n",
       "      <td>brooklyn</td>\n",
       "      <td>2019-08-27</td>\n",
       "      <td>40.657780</td>\n",
       "      <td>-73.951096</td>\n",
       "      <td>0</td>\n",
       "      <td>0</td>\n",
       "      <td>0</td>\n",
       "      <td>0</td>\n",
       "    </tr>\n",
       "    <tr>\n",
       "      <th>2</th>\n",
       "      <td>manhattan</td>\n",
       "      <td>2019-08-15</td>\n",
       "      <td>40.718143</td>\n",
       "      <td>-73.993835</td>\n",
       "      <td>0</td>\n",
       "      <td>0</td>\n",
       "      <td>0</td>\n",
       "      <td>0</td>\n",
       "    </tr>\n",
       "    <tr>\n",
       "      <th>3</th>\n",
       "      <td>manhattan</td>\n",
       "      <td>2019-08-06</td>\n",
       "      <td>40.745440</td>\n",
       "      <td>-73.975400</td>\n",
       "      <td>0</td>\n",
       "      <td>0</td>\n",
       "      <td>0</td>\n",
       "      <td>0</td>\n",
       "    </tr>\n",
       "    <tr>\n",
       "      <th>4</th>\n",
       "      <td>NaN</td>\n",
       "      <td>2019-08-11</td>\n",
       "      <td>40.858210</td>\n",
       "      <td>-73.916790</td>\n",
       "      <td>1</td>\n",
       "      <td>0</td>\n",
       "      <td>0</td>\n",
       "      <td>1</td>\n",
       "    </tr>\n",
       "  </tbody>\n",
       "</table>\n",
       "</div>"
      ],
      "text/plain": [
       "     borough crash_date   latitude  longitude  persons_killed  cyclist_killed  \\\n",
       "0     queens 2019-08-05  40.676052 -73.790184               0               0   \n",
       "1   brooklyn 2019-08-27  40.657780 -73.951096               0               0   \n",
       "2  manhattan 2019-08-15  40.718143 -73.993835               0               0   \n",
       "3  manhattan 2019-08-06  40.745440 -73.975400               0               0   \n",
       "4        NaN 2019-08-11  40.858210 -73.916790               1               0   \n",
       "\n",
       "   pedestrians_killed  motorist_killed  \n",
       "0                   0                0  \n",
       "1                   0                0  \n",
       "2                   0                0  \n",
       "3                   0                0  \n",
       "4                   0                1  "
      ]
     },
     "execution_count": 15,
     "metadata": {},
     "output_type": "execute_result"
    }
   ],
   "source": [
    "crash_locations.dropna(subset = ['persons_killed'], how='all', inplace=True)\n",
    "crash_locations['persons_killed'] = crash_locations.persons_killed.astype(int)\n",
    "crash_locations.head()"
   ]
  },
  {
   "cell_type": "markdown",
   "metadata": {},
   "source": [
    "Much better. Now to drop the rows."
   ]
  },
  {
   "cell_type": "code",
   "execution_count": 16,
   "metadata": {},
   "outputs": [
    {
     "data": {
      "text/html": [
       "<div>\n",
       "<style scoped>\n",
       "    .dataframe tbody tr th:only-of-type {\n",
       "        vertical-align: middle;\n",
       "    }\n",
       "\n",
       "    .dataframe tbody tr th {\n",
       "        vertical-align: top;\n",
       "    }\n",
       "\n",
       "    .dataframe thead th {\n",
       "        text-align: right;\n",
       "    }\n",
       "</style>\n",
       "<table border=\"1\" class=\"dataframe\">\n",
       "  <thead>\n",
       "    <tr style=\"text-align: right;\">\n",
       "      <th></th>\n",
       "      <th>index</th>\n",
       "      <th>borough</th>\n",
       "      <th>crash_date</th>\n",
       "      <th>latitude</th>\n",
       "      <th>longitude</th>\n",
       "      <th>persons_killed</th>\n",
       "      <th>cyclist_killed</th>\n",
       "      <th>pedestrians_killed</th>\n",
       "      <th>motorist_killed</th>\n",
       "    </tr>\n",
       "  </thead>\n",
       "  <tbody>\n",
       "    <tr>\n",
       "      <th>0</th>\n",
       "      <td>4</td>\n",
       "      <td>NaN</td>\n",
       "      <td>2019-08-11</td>\n",
       "      <td>40.858210</td>\n",
       "      <td>-73.91679</td>\n",
       "      <td>1</td>\n",
       "      <td>0</td>\n",
       "      <td>0</td>\n",
       "      <td>1</td>\n",
       "    </tr>\n",
       "    <tr>\n",
       "      <th>1</th>\n",
       "      <td>345</td>\n",
       "      <td>queens</td>\n",
       "      <td>2019-08-02</td>\n",
       "      <td>40.725918</td>\n",
       "      <td>-73.89535</td>\n",
       "      <td>1</td>\n",
       "      <td>0</td>\n",
       "      <td>1</td>\n",
       "      <td>0</td>\n",
       "    </tr>\n",
       "    <tr>\n",
       "      <th>2</th>\n",
       "      <td>402</td>\n",
       "      <td>brooklyn</td>\n",
       "      <td>2019-08-24</td>\n",
       "      <td>40.644814</td>\n",
       "      <td>-73.90483</td>\n",
       "      <td>1</td>\n",
       "      <td>0</td>\n",
       "      <td>0</td>\n",
       "      <td>1</td>\n",
       "    </tr>\n",
       "    <tr>\n",
       "      <th>3</th>\n",
       "      <td>535</td>\n",
       "      <td>brooklyn</td>\n",
       "      <td>2019-08-11</td>\n",
       "      <td>40.619984</td>\n",
       "      <td>-73.96427</td>\n",
       "      <td>1</td>\n",
       "      <td>1</td>\n",
       "      <td>0</td>\n",
       "      <td>0</td>\n",
       "    </tr>\n",
       "    <tr>\n",
       "      <th>4</th>\n",
       "      <td>687</td>\n",
       "      <td>NaN</td>\n",
       "      <td>2019-08-29</td>\n",
       "      <td>40.834890</td>\n",
       "      <td>-73.86630</td>\n",
       "      <td>1</td>\n",
       "      <td>0</td>\n",
       "      <td>1</td>\n",
       "      <td>0</td>\n",
       "    </tr>\n",
       "  </tbody>\n",
       "</table>\n",
       "</div>"
      ],
      "text/plain": [
       "   index   borough crash_date   latitude  longitude  persons_killed  \\\n",
       "0      4       NaN 2019-08-11  40.858210  -73.91679               1   \n",
       "1    345    queens 2019-08-02  40.725918  -73.89535               1   \n",
       "2    402  brooklyn 2019-08-24  40.644814  -73.90483               1   \n",
       "3    535  brooklyn 2019-08-11  40.619984  -73.96427               1   \n",
       "4    687       NaN 2019-08-29  40.834890  -73.86630               1   \n",
       "\n",
       "   cyclist_killed  pedestrians_killed  motorist_killed  \n",
       "0               0                   0                1  \n",
       "1               0                   1                0  \n",
       "2               0                   0                1  \n",
       "3               1                   0                0  \n",
       "4               0                   1                0  "
      ]
     },
     "execution_count": 16,
     "metadata": {},
     "output_type": "execute_result"
    }
   ],
   "source": [
    "crash_locations = crash_locations[crash_locations.persons_killed != 0].reset_index()\n",
    "crash_locations.head()"
   ]
  },
  {
   "cell_type": "markdown",
   "metadata": {},
   "source": [
    "Let's take a look to see if we can clean up this dataframe anymore."
   ]
  },
  {
   "cell_type": "code",
   "execution_count": 17,
   "metadata": {},
   "outputs": [
    {
     "data": {
      "text/plain": [
       "(1126, 9)"
      ]
     },
     "execution_count": 17,
     "metadata": {},
     "output_type": "execute_result"
    }
   ],
   "source": [
    "crash_locations.shape"
   ]
  },
  {
   "cell_type": "code",
   "execution_count": 18,
   "metadata": {},
   "outputs": [
    {
     "data": {
      "text/html": [
       "<div>\n",
       "<style scoped>\n",
       "    .dataframe tbody tr th:only-of-type {\n",
       "        vertical-align: middle;\n",
       "    }\n",
       "\n",
       "    .dataframe tbody tr th {\n",
       "        vertical-align: top;\n",
       "    }\n",
       "\n",
       "    .dataframe thead th {\n",
       "        text-align: right;\n",
       "    }\n",
       "</style>\n",
       "<table border=\"1\" class=\"dataframe\">\n",
       "  <thead>\n",
       "    <tr style=\"text-align: right;\">\n",
       "      <th></th>\n",
       "      <th>index</th>\n",
       "      <th>latitude</th>\n",
       "      <th>longitude</th>\n",
       "      <th>persons_killed</th>\n",
       "      <th>cyclist_killed</th>\n",
       "      <th>pedestrians_killed</th>\n",
       "      <th>motorist_killed</th>\n",
       "    </tr>\n",
       "  </thead>\n",
       "  <tbody>\n",
       "    <tr>\n",
       "      <th>count</th>\n",
       "      <td>1.126000e+03</td>\n",
       "      <td>982.000000</td>\n",
       "      <td>982.000000</td>\n",
       "      <td>1126.000000</td>\n",
       "      <td>1126.000000</td>\n",
       "      <td>1126.000000</td>\n",
       "      <td>1126.000000</td>\n",
       "    </tr>\n",
       "    <tr>\n",
       "      <th>mean</th>\n",
       "      <td>5.552735e+05</td>\n",
       "      <td>40.679274</td>\n",
       "      <td>-73.840205</td>\n",
       "      <td>1.052398</td>\n",
       "      <td>0.087922</td>\n",
       "      <td>0.459147</td>\n",
       "      <td>0.504440</td>\n",
       "    </tr>\n",
       "    <tr>\n",
       "      <th>std</th>\n",
       "      <td>3.026693e+05</td>\n",
       "      <td>1.302225</td>\n",
       "      <td>2.360520</td>\n",
       "      <td>0.345007</td>\n",
       "      <td>0.286427</td>\n",
       "      <td>0.534682</td>\n",
       "      <td>0.594402</td>\n",
       "    </tr>\n",
       "    <tr>\n",
       "      <th>min</th>\n",
       "      <td>4.000000e+00</td>\n",
       "      <td>0.000000</td>\n",
       "      <td>-74.236680</td>\n",
       "      <td>1.000000</td>\n",
       "      <td>0.000000</td>\n",
       "      <td>0.000000</td>\n",
       "      <td>0.000000</td>\n",
       "    </tr>\n",
       "    <tr>\n",
       "      <th>25%</th>\n",
       "      <td>2.868272e+05</td>\n",
       "      <td>40.660287</td>\n",
       "      <td>-73.966117</td>\n",
       "      <td>1.000000</td>\n",
       "      <td>0.000000</td>\n",
       "      <td>0.000000</td>\n",
       "      <td>0.000000</td>\n",
       "    </tr>\n",
       "    <tr>\n",
       "      <th>50%</th>\n",
       "      <td>5.945780e+05</td>\n",
       "      <td>40.718328</td>\n",
       "      <td>-73.917549</td>\n",
       "      <td>1.000000</td>\n",
       "      <td>0.000000</td>\n",
       "      <td>0.000000</td>\n",
       "      <td>0.000000</td>\n",
       "    </tr>\n",
       "    <tr>\n",
       "      <th>75%</th>\n",
       "      <td>8.315675e+05</td>\n",
       "      <td>40.775512</td>\n",
       "      <td>-73.858000</td>\n",
       "      <td>1.000000</td>\n",
       "      <td>0.000000</td>\n",
       "      <td>1.000000</td>\n",
       "      <td>1.000000</td>\n",
       "    </tr>\n",
       "    <tr>\n",
       "      <th>max</th>\n",
       "      <td>1.015496e+06</td>\n",
       "      <td>40.906340</td>\n",
       "      <td>0.000000</td>\n",
       "      <td>8.000000</td>\n",
       "      <td>2.000000</td>\n",
       "      <td>6.000000</td>\n",
       "      <td>5.000000</td>\n",
       "    </tr>\n",
       "  </tbody>\n",
       "</table>\n",
       "</div>"
      ],
      "text/plain": [
       "              index    latitude   longitude  persons_killed  cyclist_killed  \\\n",
       "count  1.126000e+03  982.000000  982.000000     1126.000000     1126.000000   \n",
       "mean   5.552735e+05   40.679274  -73.840205        1.052398        0.087922   \n",
       "std    3.026693e+05    1.302225    2.360520        0.345007        0.286427   \n",
       "min    4.000000e+00    0.000000  -74.236680        1.000000        0.000000   \n",
       "25%    2.868272e+05   40.660287  -73.966117        1.000000        0.000000   \n",
       "50%    5.945780e+05   40.718328  -73.917549        1.000000        0.000000   \n",
       "75%    8.315675e+05   40.775512  -73.858000        1.000000        0.000000   \n",
       "max    1.015496e+06   40.906340    0.000000        8.000000        2.000000   \n",
       "\n",
       "       pedestrians_killed  motorist_killed  \n",
       "count         1126.000000      1126.000000  \n",
       "mean             0.459147         0.504440  \n",
       "std              0.534682         0.594402  \n",
       "min              0.000000         0.000000  \n",
       "25%              0.000000         0.000000  \n",
       "50%              0.000000         0.000000  \n",
       "75%              1.000000         1.000000  \n",
       "max              6.000000         5.000000  "
      ]
     },
     "execution_count": 18,
     "metadata": {},
     "output_type": "execute_result"
    }
   ],
   "source": [
    "crash_locations.describe()"
   ]
  },
  {
   "cell_type": "markdown",
   "metadata": {},
   "source": [
    "It looks like we have 1126 rows, and we have missing lat/long values. For our purposes, we will drop those values now. There may be other ways to recover the data, or an approximation thereof, but it is beyond the scope of this notebook."
   ]
  },
  {
   "cell_type": "code",
   "execution_count": 19,
   "metadata": {},
   "outputs": [
    {
     "data": {
      "text/html": [
       "<div>\n",
       "<style scoped>\n",
       "    .dataframe tbody tr th:only-of-type {\n",
       "        vertical-align: middle;\n",
       "    }\n",
       "\n",
       "    .dataframe tbody tr th {\n",
       "        vertical-align: top;\n",
       "    }\n",
       "\n",
       "    .dataframe thead th {\n",
       "        text-align: right;\n",
       "    }\n",
       "</style>\n",
       "<table border=\"1\" class=\"dataframe\">\n",
       "  <thead>\n",
       "    <tr style=\"text-align: right;\">\n",
       "      <th></th>\n",
       "      <th>index</th>\n",
       "      <th>latitude</th>\n",
       "      <th>longitude</th>\n",
       "      <th>persons_killed</th>\n",
       "      <th>cyclist_killed</th>\n",
       "      <th>pedestrians_killed</th>\n",
       "      <th>motorist_killed</th>\n",
       "    </tr>\n",
       "  </thead>\n",
       "  <tbody>\n",
       "    <tr>\n",
       "      <th>count</th>\n",
       "      <td>9.820000e+02</td>\n",
       "      <td>982.000000</td>\n",
       "      <td>982.000000</td>\n",
       "      <td>982.000000</td>\n",
       "      <td>982.000000</td>\n",
       "      <td>982.000000</td>\n",
       "      <td>982.000000</td>\n",
       "    </tr>\n",
       "    <tr>\n",
       "      <th>mean</th>\n",
       "      <td>5.406853e+05</td>\n",
       "      <td>40.679274</td>\n",
       "      <td>-73.840205</td>\n",
       "      <td>1.057026</td>\n",
       "      <td>0.087576</td>\n",
       "      <td>0.476578</td>\n",
       "      <td>0.491853</td>\n",
       "    </tr>\n",
       "    <tr>\n",
       "      <th>std</th>\n",
       "      <td>3.049162e+05</td>\n",
       "      <td>1.302225</td>\n",
       "      <td>2.360520</td>\n",
       "      <td>0.365157</td>\n",
       "      <td>0.286403</td>\n",
       "      <td>0.540850</td>\n",
       "      <td>0.601929</td>\n",
       "    </tr>\n",
       "    <tr>\n",
       "      <th>min</th>\n",
       "      <td>4.000000e+00</td>\n",
       "      <td>0.000000</td>\n",
       "      <td>-74.236680</td>\n",
       "      <td>1.000000</td>\n",
       "      <td>0.000000</td>\n",
       "      <td>0.000000</td>\n",
       "      <td>0.000000</td>\n",
       "    </tr>\n",
       "    <tr>\n",
       "      <th>25%</th>\n",
       "      <td>2.652548e+05</td>\n",
       "      <td>40.660287</td>\n",
       "      <td>-73.966117</td>\n",
       "      <td>1.000000</td>\n",
       "      <td>0.000000</td>\n",
       "      <td>0.000000</td>\n",
       "      <td>0.000000</td>\n",
       "    </tr>\n",
       "    <tr>\n",
       "      <th>50%</th>\n",
       "      <td>5.553075e+05</td>\n",
       "      <td>40.718328</td>\n",
       "      <td>-73.917549</td>\n",
       "      <td>1.000000</td>\n",
       "      <td>0.000000</td>\n",
       "      <td>0.000000</td>\n",
       "      <td>0.000000</td>\n",
       "    </tr>\n",
       "    <tr>\n",
       "      <th>75%</th>\n",
       "      <td>8.199682e+05</td>\n",
       "      <td>40.775512</td>\n",
       "      <td>-73.858000</td>\n",
       "      <td>1.000000</td>\n",
       "      <td>0.000000</td>\n",
       "      <td>1.000000</td>\n",
       "      <td>1.000000</td>\n",
       "    </tr>\n",
       "    <tr>\n",
       "      <th>max</th>\n",
       "      <td>1.015496e+06</td>\n",
       "      <td>40.906340</td>\n",
       "      <td>0.000000</td>\n",
       "      <td>8.000000</td>\n",
       "      <td>2.000000</td>\n",
       "      <td>6.000000</td>\n",
       "      <td>5.000000</td>\n",
       "    </tr>\n",
       "  </tbody>\n",
       "</table>\n",
       "</div>"
      ],
      "text/plain": [
       "              index    latitude   longitude  persons_killed  cyclist_killed  \\\n",
       "count  9.820000e+02  982.000000  982.000000      982.000000      982.000000   \n",
       "mean   5.406853e+05   40.679274  -73.840205        1.057026        0.087576   \n",
       "std    3.049162e+05    1.302225    2.360520        0.365157        0.286403   \n",
       "min    4.000000e+00    0.000000  -74.236680        1.000000        0.000000   \n",
       "25%    2.652548e+05   40.660287  -73.966117        1.000000        0.000000   \n",
       "50%    5.553075e+05   40.718328  -73.917549        1.000000        0.000000   \n",
       "75%    8.199682e+05   40.775512  -73.858000        1.000000        0.000000   \n",
       "max    1.015496e+06   40.906340    0.000000        8.000000        2.000000   \n",
       "\n",
       "       pedestrians_killed  motorist_killed  \n",
       "count          982.000000       982.000000  \n",
       "mean             0.476578         0.491853  \n",
       "std              0.540850         0.601929  \n",
       "min              0.000000         0.000000  \n",
       "25%              0.000000         0.000000  \n",
       "50%              0.000000         0.000000  \n",
       "75%              1.000000         1.000000  \n",
       "max              6.000000         5.000000  "
      ]
     },
     "execution_count": 19,
     "metadata": {},
     "output_type": "execute_result"
    }
   ],
   "source": [
    "crash_locations.dropna(subset = ['latitude'], how='all', inplace=True)\n",
    "crash_locations.dropna(subset = ['longitude'], how='all', inplace=True)\n",
    "crash_locations.describe()"
   ]
  },
  {
   "cell_type": "markdown",
   "metadata": {},
   "source": [
    "And finally, we can map these values."
   ]
  },
  {
   "cell_type": "code",
   "execution_count": null,
   "metadata": {},
   "outputs": [],
   "source": [
    "fig = px.scatter_mapbox(crash_locations, lat='latitude', lon='longitude',\n",
    "                        size = \"persons_killed\",\n",
    "                        hover_name=\"persons_killed\",\n",
    "                        hover_data=[\"pedestrians_killed\", \"cyclist_killed\", \"motorist_killed\"],\n",
    "                        color=\"persons_killed\",\n",
    "                        range_color=[1,8],\n",
    "                        opacity=0.5,\n",
    "                        width =850,\n",
    "                        zoom=9,\n",
    "                       )\n",
    "fig.update_layout(title='Fatal Car Crash Locations')\n",
    "fig.update_layout(mapbox_style=\"stamen-terrain\", mapbox_center_lon=286)\n",
    "fig\n",
    "\n",
    "# please use google colab to see the visualization."
   ]
  },
  {
   "cell_type": "markdown",
   "metadata": {},
   "source": [
    "This looks pretty scary! These deaths represent pedestrians, cyclists, and motorists. It is hard to find roads where people have not been killed by cars in NYC!\n",
    "\n",
    "Though we must remember that this map represents deaths over nearly a decade."
   ]
  },
  {
   "cell_type": "markdown",
   "metadata": {},
   "source": [
    "## Contributing factor trends <a id='contributing_factor_trends'></a>"
   ]
  },
  {
   "cell_type": "markdown",
   "metadata": {},
   "source": [
    "We will use Plotly, specifically, `plotly.express` to visualize some contributing factor trends."
   ]
  },
  {
   "cell_type": "code",
   "execution_count": 20,
   "metadata": {},
   "outputs": [
    {
     "data": {
      "text/plain": [
       "array(['driver inexperience', 'driver inattention/distraction',\n",
       "       'road defects', 'outside error', 'car defects', 'drugs (illegal)',\n",
       "       'illness'], dtype=object)"
      ]
     },
     "execution_count": 20,
     "metadata": {},
     "output_type": "execute_result"
    }
   ],
   "source": [
    "clean_nyc1['contributing_factor_vehicle_1'].unique()"
   ]
  },
  {
   "cell_type": "code",
   "execution_count": null,
   "metadata": {},
   "outputs": [],
   "source": [
    "import plotly.graph_objects as go\n",
    "fig = px.box(clean_nyc1, x=\"persons_killed\", y=\"contributing_factor_vehicle_1\")\n",
    "fig.show()\n",
    "\n",
    "# please use google colab to see the visualization."
   ]
  },
  {
   "cell_type": "markdown",
   "metadata": {},
   "source": [
    "Most collisions that result in one or two persons' death are due to road defects, meanwhile most collisions that result with no  death are due to an outside error.\n",
    "\n",
    "Let's see when the accidents, in which more than one person die, tend to occur."
   ]
  },
  {
   "cell_type": "code",
   "execution_count": null,
   "metadata": {},
   "outputs": [],
   "source": [
    "fig = px.scatter (clean_nyc1, x= 'persons_killed', y= 'hour')\n",
    "fig.show()\n",
    "\n",
    "# please use google colab to see the visualization."
   ]
  },
  {
   "cell_type": "markdown",
   "metadata": {},
   "source": [
    "The collisions that result with more than one persons death tend to occur between 22:00 and 04:00."
   ]
  },
  {
   "cell_type": "markdown",
   "metadata": {},
   "source": [
    "## Contributing factors to crash fatalities <a id='Factor_Bar_Plot'></a>"
   ]
  },
  {
   "cell_type": "markdown",
   "metadata": {},
   "source": [
    "We will use the 'value_counts' function to see how frequently contributing factor values appear in the data."
   ]
  },
  {
   "cell_type": "code",
   "execution_count": 21,
   "metadata": {},
   "outputs": [
    {
     "data": {
      "text/plain": [
       "driver inexperience               449565\n",
       "driver inattention/distraction    366402\n",
       "road defects                       60520\n",
       "outside error                      56837\n",
       "illness                            47225\n",
       "car defects                        19264\n",
       "drugs (illegal)                    16189\n",
       "Name: contributing_factor_vehicle_1, dtype: int64"
      ]
     },
     "execution_count": 21,
     "metadata": {},
     "output_type": "execute_result"
    }
   ],
   "source": [
    "clean_nyc1['contributing_factor_vehicle_1'].value_counts()"
   ]
  },
  {
   "cell_type": "markdown",
   "metadata": {},
   "source": [
    "For now, we'll just analyze the first contributing factor to get a general sense of the data.\n",
    "\n",
    "Next we'll look into the causes of fatal car crashes. We'll start by creating a new dataframe that groups those causes."
   ]
  },
  {
   "cell_type": "code",
   "execution_count": 22,
   "metadata": {},
   "outputs": [
    {
     "data": {
      "text/html": [
       "<div>\n",
       "<style scoped>\n",
       "    .dataframe tbody tr th:only-of-type {\n",
       "        vertical-align: middle;\n",
       "    }\n",
       "\n",
       "    .dataframe tbody tr th {\n",
       "        vertical-align: top;\n",
       "    }\n",
       "\n",
       "    .dataframe thead th {\n",
       "        text-align: right;\n",
       "    }\n",
       "</style>\n",
       "<table border=\"1\" class=\"dataframe\">\n",
       "  <thead>\n",
       "    <tr style=\"text-align: right;\">\n",
       "      <th></th>\n",
       "      <th>contributing_factor_vehicle_1</th>\n",
       "      <th>persons_killed</th>\n",
       "    </tr>\n",
       "  </thead>\n",
       "  <tbody>\n",
       "    <tr>\n",
       "      <th>2</th>\n",
       "      <td>driver inexperience</td>\n",
       "      <td>450.0</td>\n",
       "    </tr>\n",
       "    <tr>\n",
       "      <th>1</th>\n",
       "      <td>driver inattention/distraction</td>\n",
       "      <td>288.0</td>\n",
       "    </tr>\n",
       "    <tr>\n",
       "      <th>6</th>\n",
       "      <td>road defects</td>\n",
       "      <td>201.0</td>\n",
       "    </tr>\n",
       "    <tr>\n",
       "      <th>4</th>\n",
       "      <td>illness</td>\n",
       "      <td>96.0</td>\n",
       "    </tr>\n",
       "    <tr>\n",
       "      <th>5</th>\n",
       "      <td>outside error</td>\n",
       "      <td>73.0</td>\n",
       "    </tr>\n",
       "  </tbody>\n",
       "</table>\n",
       "</div>"
      ],
      "text/plain": [
       "    contributing_factor_vehicle_1  persons_killed\n",
       "2             driver inexperience           450.0\n",
       "1  driver inattention/distraction           288.0\n",
       "6                    road defects           201.0\n",
       "4                         illness            96.0\n",
       "5                   outside error            73.0"
      ]
     },
     "execution_count": 22,
     "metadata": {},
     "output_type": "execute_result"
    }
   ],
   "source": [
    "counted_lethal_crash_factors = clean_nyc1.groupby('contributing_factor_vehicle_1').persons_killed.sum().reset_index().sort_values(\"persons_killed\", ascending = False)\n",
    "counted_lethal_crash_factors.head()"
   ]
  },
  {
   "cell_type": "markdown",
   "metadata": {},
   "source": [
    "Finally, let's drop 0's if we have any."
   ]
  },
  {
   "cell_type": "code",
   "execution_count": 23,
   "metadata": {},
   "outputs": [
    {
     "data": {
      "text/html": [
       "<div>\n",
       "<style scoped>\n",
       "    .dataframe tbody tr th:only-of-type {\n",
       "        vertical-align: middle;\n",
       "    }\n",
       "\n",
       "    .dataframe tbody tr th {\n",
       "        vertical-align: top;\n",
       "    }\n",
       "\n",
       "    .dataframe thead th {\n",
       "        text-align: right;\n",
       "    }\n",
       "</style>\n",
       "<table border=\"1\" class=\"dataframe\">\n",
       "  <thead>\n",
       "    <tr style=\"text-align: right;\">\n",
       "      <th></th>\n",
       "      <th>contributing_factor_vehicle_1</th>\n",
       "      <th>persons_killed</th>\n",
       "    </tr>\n",
       "  </thead>\n",
       "  <tbody>\n",
       "    <tr>\n",
       "      <th>6</th>\n",
       "      <td>road defects</td>\n",
       "      <td>201.0</td>\n",
       "    </tr>\n",
       "    <tr>\n",
       "      <th>4</th>\n",
       "      <td>illness</td>\n",
       "      <td>96.0</td>\n",
       "    </tr>\n",
       "    <tr>\n",
       "      <th>5</th>\n",
       "      <td>outside error</td>\n",
       "      <td>73.0</td>\n",
       "    </tr>\n",
       "    <tr>\n",
       "      <th>3</th>\n",
       "      <td>drugs (illegal)</td>\n",
       "      <td>71.0</td>\n",
       "    </tr>\n",
       "    <tr>\n",
       "      <th>0</th>\n",
       "      <td>car defects</td>\n",
       "      <td>6.0</td>\n",
       "    </tr>\n",
       "  </tbody>\n",
       "</table>\n",
       "</div>"
      ],
      "text/plain": [
       "  contributing_factor_vehicle_1  persons_killed\n",
       "6                  road defects           201.0\n",
       "4                       illness            96.0\n",
       "5                 outside error            73.0\n",
       "3               drugs (illegal)            71.0\n",
       "0                   car defects             6.0"
      ]
     },
     "execution_count": 23,
     "metadata": {},
     "output_type": "execute_result"
    }
   ],
   "source": [
    "counted_lethal_crash_factors.tail()"
   ]
  },
  {
   "cell_type": "markdown",
   "metadata": {},
   "source": [
    "Yes, let's remove those zero values now."
   ]
  },
  {
   "cell_type": "code",
   "execution_count": 24,
   "metadata": {},
   "outputs": [
    {
     "data": {
      "text/html": [
       "<div>\n",
       "<style scoped>\n",
       "    .dataframe tbody tr th:only-of-type {\n",
       "        vertical-align: middle;\n",
       "    }\n",
       "\n",
       "    .dataframe tbody tr th {\n",
       "        vertical-align: top;\n",
       "    }\n",
       "\n",
       "    .dataframe thead th {\n",
       "        text-align: right;\n",
       "    }\n",
       "</style>\n",
       "<table border=\"1\" class=\"dataframe\">\n",
       "  <thead>\n",
       "    <tr style=\"text-align: right;\">\n",
       "      <th></th>\n",
       "      <th>contributing_factor_vehicle_1</th>\n",
       "      <th>persons_killed</th>\n",
       "    </tr>\n",
       "  </thead>\n",
       "  <tbody>\n",
       "    <tr>\n",
       "      <th>6</th>\n",
       "      <td>road defects</td>\n",
       "      <td>201.0</td>\n",
       "    </tr>\n",
       "    <tr>\n",
       "      <th>4</th>\n",
       "      <td>illness</td>\n",
       "      <td>96.0</td>\n",
       "    </tr>\n",
       "    <tr>\n",
       "      <th>5</th>\n",
       "      <td>outside error</td>\n",
       "      <td>73.0</td>\n",
       "    </tr>\n",
       "    <tr>\n",
       "      <th>3</th>\n",
       "      <td>drugs (illegal)</td>\n",
       "      <td>71.0</td>\n",
       "    </tr>\n",
       "    <tr>\n",
       "      <th>0</th>\n",
       "      <td>car defects</td>\n",
       "      <td>6.0</td>\n",
       "    </tr>\n",
       "  </tbody>\n",
       "</table>\n",
       "</div>"
      ],
      "text/plain": [
       "  contributing_factor_vehicle_1  persons_killed\n",
       "6                  road defects           201.0\n",
       "4                       illness            96.0\n",
       "5                 outside error            73.0\n",
       "3               drugs (illegal)            71.0\n",
       "0                   car defects             6.0"
      ]
     },
     "execution_count": 24,
     "metadata": {},
     "output_type": "execute_result"
    }
   ],
   "source": [
    "counted_lethal_crash_factors = counted_lethal_crash_factors[counted_lethal_crash_factors.persons_killed != 0]\n",
    "counted_lethal_crash_factors.tail()"
   ]
  },
  {
   "cell_type": "markdown",
   "metadata": {},
   "source": [
    "Great. Now let's visualize fatal car crash causes in NYC."
   ]
  },
  {
   "cell_type": "code",
   "execution_count": 25,
   "metadata": {},
   "outputs": [
    {
     "data": {
      "image/png": "[encoded data removed]",
      "text/plain": [
       "<Figure size 720x1440 with 1 Axes>"
      ]
     },
     "metadata": {
      "needs_background": "light"
     },
     "output_type": "display_data"
    }
   ],
   "source": [
    "counted_lethal_crash_factors.plot.barh(\"contributing_factor_vehicle_1\", \n",
    "                                      \"persons_killed\",\n",
    "                                      figsize = (10,20)\n",
    "                                      ).invert_yaxis()"
   ]
  },
  {
   "cell_type": "markdown",
   "metadata": {},
   "source": [
    "This horizontal bar chart gives a slightly better sense of the data, that fatal accidents are mostly caused by driver's bad behaviours, or are unrecorded.\n",
    "\n",
    "This is of course only looking at fatal accidents, only at the first recorded cause, and the reports are likely not 100% reliable. However, if NYC's government wanted to do more to reduce fatalities, this is useful information."
   ]
  },
  {
   "cell_type": "markdown",
   "metadata": {},
   "source": [
    "## Fatalities to pedestrians vs cyclists vs motorist <a id='Fataity_Grouped_Series'></a>"
   ]
  },
  {
   "cell_type": "markdown",
   "metadata": {},
   "source": [
    "For this we'll use Seaborn to compare the distributions of fatalities by the category of persons killed. We'll group each category from our original dataframe into it's own dataframe. We will then add a column to each dataframe which creates a running total of persons killed, using the cumsum function."
   ]
  },
  {
   "cell_type": "code",
   "execution_count": 26,
   "metadata": {},
   "outputs": [],
   "source": [
    "killed_motorists = clean_nyc1.groupby('crash_date').motorist_killed.sum().reset_index()\n",
    "killed_motorists['sum'] = killed_motorists['motorist_killed'].cumsum()\n",
    "\n",
    "killed_cyclist = clean_nyc1.groupby('crash_date').cyclist_killed.sum().reset_index()\n",
    "killed_cyclist['sum'] = killed_cyclist['cyclist_killed'].cumsum()\n",
    "\n",
    "killed_pedestrians = clean_nyc1.groupby('crash_date').pedestrians_killed.sum().reset_index()\n",
    "killed_pedestrians['sum'] = killed_pedestrians['pedestrians_killed'].cumsum()"
   ]
  },
  {
   "cell_type": "markdown",
   "metadata": {},
   "source": [
    "Now we can plot these using Seaborn, a library built to handle python data visualizations.\n",
    "\n",
    "For this graph, we will overlay the rolling sum of fatalities (grouped by travel type) on the same graph, to get a sense of relative danger."
   ]
  },
  {
   "cell_type": "code",
   "execution_count": 27,
   "metadata": {},
   "outputs": [
    {
     "data": {
      "image/png": "[encoded data removed]",
      "text/plain": [
       "<Figure size 1440x720 with 1 Axes>"
      ]
     },
     "metadata": {},
     "output_type": "display_data"
    }
   ],
   "source": [
    "sns.set(style=\"whitegrid\")\n",
    "\n",
    "fig, ax = plt.subplots(figsize=(20, 10))\n",
    "\n",
    "sns.lineplot(x='crash_date', y='sum', color = 'red', data=killed_motorists, ax=ax)\n",
    "sns.lineplot( x='crash_date', y='sum', color = 'blue', data=killed_cyclist, ax=ax)\n",
    "sns.lineplot( x='crash_date', y='sum', color = 'green', data=killed_pedestrians, ax=ax)\n",
    "ax.legend(['Motorists', 'Cyclists', 'Pedestrians'], facecolor='w')\n",
    "\n",
    "plt.show()"
   ]
  },
  {
   "cell_type": "markdown",
   "metadata": {},
   "source": [
    "This is interesting. More pedestrians are killed than motorists by car crashes. I guess that is not entirely surprising, but it is disheartening.\n",
    "\n",
    "This analysis lends itself well to comparing injury rates as well, which we would expect to be significantly higher.\n",
    "\n",
    "Assuming there was more time, further analysis into the rates of change in the fatality set (to see if NYC is getting safer or more dangerous) would be manageable with another function over these data sets."
   ]
  },
  {
   "cell_type": "markdown",
   "metadata": {},
   "source": [
    "### Fatal crash frequency over time <a id='Fatality_Time_Scatterplot'></a>"
   ]
  },
  {
   "cell_type": "markdown",
   "metadata": {},
   "source": [
    "To visualize the data we need to refine our dataframe. We'll try to sort rows where fatalities occured into a new dataframe, then we need to group by date and sum."
   ]
  },
  {
   "cell_type": "code",
   "execution_count": 28,
   "metadata": {},
   "outputs": [
    {
     "data": {
      "text/html": [
       "<div>\n",
       "<style scoped>\n",
       "    .dataframe tbody tr th:only-of-type {\n",
       "        vertical-align: middle;\n",
       "    }\n",
       "\n",
       "    .dataframe tbody tr th {\n",
       "        vertical-align: top;\n",
       "    }\n",
       "\n",
       "    .dataframe thead th {\n",
       "        text-align: right;\n",
       "    }\n",
       "</style>\n",
       "<table border=\"1\" class=\"dataframe\">\n",
       "  <thead>\n",
       "    <tr style=\"text-align: right;\">\n",
       "      <th></th>\n",
       "      <th>crash_date</th>\n",
       "      <th>crash_time</th>\n",
       "      <th>borough</th>\n",
       "      <th>zip_code</th>\n",
       "      <th>latitude</th>\n",
       "      <th>longitude</th>\n",
       "      <th>persons_injured</th>\n",
       "      <th>persons_killed</th>\n",
       "      <th>pedestrians_injured</th>\n",
       "      <th>pedestrians_killed</th>\n",
       "      <th>cyclist_injured</th>\n",
       "      <th>cyclist_killed</th>\n",
       "      <th>motorist_injured</th>\n",
       "      <th>motorist_killed</th>\n",
       "      <th>contributing_factor_vehicle_1</th>\n",
       "      <th>contributing_factor_vehicle_2</th>\n",
       "      <th>vehicle_type_code_1</th>\n",
       "      <th>vehicle_type_code_2</th>\n",
       "      <th>hour</th>\n",
       "      <th>season</th>\n",
       "      <th>crash_hour</th>\n",
       "    </tr>\n",
       "  </thead>\n",
       "  <tbody>\n",
       "    <tr>\n",
       "      <th>4</th>\n",
       "      <td>2019-08-11</td>\n",
       "      <td>2019-12-03 22:23:00</td>\n",
       "      <td>NaN</td>\n",
       "      <td>NaN</td>\n",
       "      <td>40.858210</td>\n",
       "      <td>-73.91679</td>\n",
       "      <td>0.0</td>\n",
       "      <td>1.0</td>\n",
       "      <td>0</td>\n",
       "      <td>0</td>\n",
       "      <td>0</td>\n",
       "      <td>0</td>\n",
       "      <td>0</td>\n",
       "      <td>1</td>\n",
       "      <td>driver inexperience</td>\n",
       "      <td>unspecified</td>\n",
       "      <td>motorcycle</td>\n",
       "      <td>station wagon/sport utility vehicle</td>\n",
       "      <td>22</td>\n",
       "      <td>Summer</td>\n",
       "      <td>22</td>\n",
       "    </tr>\n",
       "    <tr>\n",
       "      <th>345</th>\n",
       "      <td>2019-08-02</td>\n",
       "      <td>2019-12-03 10:25:00</td>\n",
       "      <td>queens</td>\n",
       "      <td>11378</td>\n",
       "      <td>40.725918</td>\n",
       "      <td>-73.89535</td>\n",
       "      <td>0.0</td>\n",
       "      <td>1.0</td>\n",
       "      <td>0</td>\n",
       "      <td>1</td>\n",
       "      <td>0</td>\n",
       "      <td>0</td>\n",
       "      <td>0</td>\n",
       "      <td>0</td>\n",
       "      <td>driver inexperience</td>\n",
       "      <td>NaN</td>\n",
       "      <td>dump</td>\n",
       "      <td>NaN</td>\n",
       "      <td>10</td>\n",
       "      <td>Summer</td>\n",
       "      <td>10</td>\n",
       "    </tr>\n",
       "    <tr>\n",
       "      <th>402</th>\n",
       "      <td>2019-08-24</td>\n",
       "      <td>2019-12-03 16:30:00</td>\n",
       "      <td>brooklyn</td>\n",
       "      <td>11236</td>\n",
       "      <td>40.644814</td>\n",
       "      <td>-73.90483</td>\n",
       "      <td>0.0</td>\n",
       "      <td>1.0</td>\n",
       "      <td>0</td>\n",
       "      <td>0</td>\n",
       "      <td>0</td>\n",
       "      <td>0</td>\n",
       "      <td>0</td>\n",
       "      <td>1</td>\n",
       "      <td>driver inexperience</td>\n",
       "      <td>unspecified</td>\n",
       "      <td>motorcycle</td>\n",
       "      <td>pick-up truck</td>\n",
       "      <td>16</td>\n",
       "      <td>Summer</td>\n",
       "      <td>16</td>\n",
       "    </tr>\n",
       "    <tr>\n",
       "      <th>535</th>\n",
       "      <td>2019-08-11</td>\n",
       "      <td>2019-12-03 12:27:00</td>\n",
       "      <td>brooklyn</td>\n",
       "      <td>11230</td>\n",
       "      <td>40.619984</td>\n",
       "      <td>-73.96427</td>\n",
       "      <td>1.0</td>\n",
       "      <td>1.0</td>\n",
       "      <td>0</td>\n",
       "      <td>0</td>\n",
       "      <td>0</td>\n",
       "      <td>1</td>\n",
       "      <td>1</td>\n",
       "      <td>0</td>\n",
       "      <td>driver inexperience</td>\n",
       "      <td>unspecified</td>\n",
       "      <td>sedan</td>\n",
       "      <td>bike</td>\n",
       "      <td>12</td>\n",
       "      <td>Summer</td>\n",
       "      <td>12</td>\n",
       "    </tr>\n",
       "    <tr>\n",
       "      <th>687</th>\n",
       "      <td>2019-08-29</td>\n",
       "      <td>2019-12-03 02:35:00</td>\n",
       "      <td>NaN</td>\n",
       "      <td>NaN</td>\n",
       "      <td>40.834890</td>\n",
       "      <td>-73.86630</td>\n",
       "      <td>0.0</td>\n",
       "      <td>1.0</td>\n",
       "      <td>0</td>\n",
       "      <td>1</td>\n",
       "      <td>0</td>\n",
       "      <td>0</td>\n",
       "      <td>0</td>\n",
       "      <td>0</td>\n",
       "      <td>driver inattention/distraction</td>\n",
       "      <td>NaN</td>\n",
       "      <td>dump</td>\n",
       "      <td>NaN</td>\n",
       "      <td>2</td>\n",
       "      <td>Summer</td>\n",
       "      <td>2</td>\n",
       "    </tr>\n",
       "  </tbody>\n",
       "</table>\n",
       "</div>"
      ],
      "text/plain": [
       "    crash_date          crash_time   borough zip_code   latitude  longitude  \\\n",
       "4   2019-08-11 2019-12-03 22:23:00       NaN      NaN  40.858210  -73.91679   \n",
       "345 2019-08-02 2019-12-03 10:25:00    queens    11378  40.725918  -73.89535   \n",
       "402 2019-08-24 2019-12-03 16:30:00  brooklyn    11236  40.644814  -73.90483   \n",
       "535 2019-08-11 2019-12-03 12:27:00  brooklyn    11230  40.619984  -73.96427   \n",
       "687 2019-08-29 2019-12-03 02:35:00       NaN      NaN  40.834890  -73.86630   \n",
       "\n",
       "     persons_injured  persons_killed  pedestrians_injured  pedestrians_killed  \\\n",
       "4                0.0             1.0                    0                   0   \n",
       "345              0.0             1.0                    0                   1   \n",
       "402              0.0             1.0                    0                   0   \n",
       "535              1.0             1.0                    0                   0   \n",
       "687              0.0             1.0                    0                   1   \n",
       "\n",
       "     cyclist_injured  cyclist_killed  motorist_injured  motorist_killed  \\\n",
       "4                  0               0                 0                1   \n",
       "345                0               0                 0                0   \n",
       "402                0               0                 0                1   \n",
       "535                0               1                 1                0   \n",
       "687                0               0                 0                0   \n",
       "\n",
       "      contributing_factor_vehicle_1 contributing_factor_vehicle_2  \\\n",
       "4               driver inexperience                   unspecified   \n",
       "345             driver inexperience                           NaN   \n",
       "402             driver inexperience                   unspecified   \n",
       "535             driver inexperience                   unspecified   \n",
       "687  driver inattention/distraction                           NaN   \n",
       "\n",
       "    vehicle_type_code_1                  vehicle_type_code_2  hour  season  \\\n",
       "4            motorcycle  station wagon/sport utility vehicle    22  Summer   \n",
       "345                dump                                  NaN    10  Summer   \n",
       "402          motorcycle                        pick-up truck    16  Summer   \n",
       "535               sedan                                 bike    12  Summer   \n",
       "687                dump                                  NaN     2  Summer   \n",
       "\n",
       "     crash_hour  \n",
       "4            22  \n",
       "345          10  \n",
       "402          16  \n",
       "535          12  \n",
       "687           2  "
      ]
     },
     "execution_count": 28,
     "metadata": {},
     "output_type": "execute_result"
    }
   ],
   "source": [
    "lethal_crashes = clean_nyc1[clean_nyc1['persons_killed'] > 0]\n",
    "lethal_crashes.head()"
   ]
  },
  {
   "cell_type": "markdown",
   "metadata": {},
   "source": [
    "Now to group by `crash_date`... We are going to use a number of chained functions here. We are adding up the number of fatalities per day, and sorting chronologically.\n",
    "\n",
    "Sidenote: We changed the format in the time column, accidentally adding today's date, but that will not have an impact on our analysis."
   ]
  },
  {
   "cell_type": "code",
   "execution_count": 29,
   "metadata": {},
   "outputs": [
    {
     "data": {
      "text/html": [
       "<div>\n",
       "<style scoped>\n",
       "    .dataframe tbody tr th:only-of-type {\n",
       "        vertical-align: middle;\n",
       "    }\n",
       "\n",
       "    .dataframe tbody tr th {\n",
       "        vertical-align: top;\n",
       "    }\n",
       "\n",
       "    .dataframe thead th {\n",
       "        text-align: right;\n",
       "    }\n",
       "</style>\n",
       "<table border=\"1\" class=\"dataframe\">\n",
       "  <thead>\n",
       "    <tr style=\"text-align: right;\">\n",
       "      <th></th>\n",
       "      <th>crash_date</th>\n",
       "      <th>persons_killed</th>\n",
       "    </tr>\n",
       "  </thead>\n",
       "  <tbody>\n",
       "    <tr>\n",
       "      <th>0</th>\n",
       "      <td>2012-07-01</td>\n",
       "      <td>0.0</td>\n",
       "    </tr>\n",
       "    <tr>\n",
       "      <th>1</th>\n",
       "      <td>2012-07-02</td>\n",
       "      <td>1.0</td>\n",
       "    </tr>\n",
       "    <tr>\n",
       "      <th>2</th>\n",
       "      <td>2012-07-03</td>\n",
       "      <td>1.0</td>\n",
       "    </tr>\n",
       "    <tr>\n",
       "      <th>3</th>\n",
       "      <td>2012-07-04</td>\n",
       "      <td>0.0</td>\n",
       "    </tr>\n",
       "    <tr>\n",
       "      <th>4</th>\n",
       "      <td>2012-07-05</td>\n",
       "      <td>1.0</td>\n",
       "    </tr>\n",
       "    <tr>\n",
       "      <th>5</th>\n",
       "      <td>2012-07-06</td>\n",
       "      <td>0.0</td>\n",
       "    </tr>\n",
       "    <tr>\n",
       "      <th>6</th>\n",
       "      <td>2012-07-07</td>\n",
       "      <td>0.0</td>\n",
       "    </tr>\n",
       "    <tr>\n",
       "      <th>7</th>\n",
       "      <td>2012-07-08</td>\n",
       "      <td>0.0</td>\n",
       "    </tr>\n",
       "    <tr>\n",
       "      <th>8</th>\n",
       "      <td>2012-07-09</td>\n",
       "      <td>0.0</td>\n",
       "    </tr>\n",
       "    <tr>\n",
       "      <th>9</th>\n",
       "      <td>2012-07-10</td>\n",
       "      <td>1.0</td>\n",
       "    </tr>\n",
       "    <tr>\n",
       "      <th>10</th>\n",
       "      <td>2012-07-11</td>\n",
       "      <td>0.0</td>\n",
       "    </tr>\n",
       "    <tr>\n",
       "      <th>11</th>\n",
       "      <td>2012-07-12</td>\n",
       "      <td>0.0</td>\n",
       "    </tr>\n",
       "    <tr>\n",
       "      <th>12</th>\n",
       "      <td>2012-07-13</td>\n",
       "      <td>1.0</td>\n",
       "    </tr>\n",
       "    <tr>\n",
       "      <th>13</th>\n",
       "      <td>2012-07-14</td>\n",
       "      <td>1.0</td>\n",
       "    </tr>\n",
       "    <tr>\n",
       "      <th>14</th>\n",
       "      <td>2012-07-15</td>\n",
       "      <td>0.0</td>\n",
       "    </tr>\n",
       "    <tr>\n",
       "      <th>15</th>\n",
       "      <td>2012-07-16</td>\n",
       "      <td>1.0</td>\n",
       "    </tr>\n",
       "    <tr>\n",
       "      <th>16</th>\n",
       "      <td>2012-07-17</td>\n",
       "      <td>0.0</td>\n",
       "    </tr>\n",
       "    <tr>\n",
       "      <th>17</th>\n",
       "      <td>2012-07-18</td>\n",
       "      <td>0.0</td>\n",
       "    </tr>\n",
       "    <tr>\n",
       "      <th>18</th>\n",
       "      <td>2012-07-19</td>\n",
       "      <td>0.0</td>\n",
       "    </tr>\n",
       "    <tr>\n",
       "      <th>19</th>\n",
       "      <td>2012-07-20</td>\n",
       "      <td>0.0</td>\n",
       "    </tr>\n",
       "  </tbody>\n",
       "</table>\n",
       "</div>"
      ],
      "text/plain": [
       "   crash_date  persons_killed\n",
       "0  2012-07-01             0.0\n",
       "1  2012-07-02             1.0\n",
       "2  2012-07-03             1.0\n",
       "3  2012-07-04             0.0\n",
       "4  2012-07-05             1.0\n",
       "5  2012-07-06             0.0\n",
       "6  2012-07-07             0.0\n",
       "7  2012-07-08             0.0\n",
       "8  2012-07-09             0.0\n",
       "9  2012-07-10             1.0\n",
       "10 2012-07-11             0.0\n",
       "11 2012-07-12             0.0\n",
       "12 2012-07-13             1.0\n",
       "13 2012-07-14             1.0\n",
       "14 2012-07-15             0.0\n",
       "15 2012-07-16             1.0\n",
       "16 2012-07-17             0.0\n",
       "17 2012-07-18             0.0\n",
       "18 2012-07-19             0.0\n",
       "19 2012-07-20             0.0"
      ]
     },
     "execution_count": 29,
     "metadata": {},
     "output_type": "execute_result"
    }
   ],
   "source": [
    "clean_nyc1.groupby('crash_date').persons_killed.sum().reset_index().head(20)"
   ]
  },
  {
   "cell_type": "markdown",
   "metadata": {},
   "source": [
    "Next, we'll port this into a new dataframe with some other fields we are interested in for analysis, then try to use matplotlib."
   ]
  },
  {
   "cell_type": "code",
   "execution_count": 30,
   "metadata": {},
   "outputs": [
    {
     "name": "stdout",
     "output_type": "stream",
     "text": [
      "<class 'pandas.core.frame.DataFrame'>\n",
      "RangeIndex: 69477 entries, 0 to 69476\n",
      "Data columns (total 4 columns):\n",
      "crash_date                       69477 non-null datetime64[ns]\n",
      "borough                          69477 non-null object\n",
      "contributing_factor_vehicle_1    69477 non-null object\n",
      "persons_killed                   69477 non-null float64\n",
      "dtypes: datetime64[ns](1), float64(1), object(2)\n",
      "memory usage: 2.1+ MB\n"
     ]
    }
   ],
   "source": [
    "counted_lethal_crashes = clean_nyc1.groupby(['crash_date','borough', 'contributing_factor_vehicle_1']).persons_killed.sum().reset_index()\n",
    "counted_lethal_crashes.info()"
   ]
  },
  {
   "cell_type": "markdown",
   "metadata": {},
   "source": [
    "Let's visualize it!"
   ]
  },
  {
   "cell_type": "code",
   "execution_count": 31,
   "metadata": {},
   "outputs": [
    {
     "data": {
      "text/plain": [
       "[Text(0, 0.5, 'Killed Count'),\n",
       " Text(0.5, 0, 'Date'),\n",
       " Text(0.5, 1.0, 'Number of people killed by motorists in NYC')]"
      ]
     },
     "execution_count": 31,
     "metadata": {},
     "output_type": "execute_result"
    },
    {
     "data": {
      "image/png": "[encoded data removed]",
      "text/plain": [
       "<Figure size 1440x720 with 1 Axes>"
      ]
     },
     "metadata": {},
     "output_type": "display_data"
    }
   ],
   "source": [
    "import matplotlib.pyplot as plt\n",
    "plt.show() #makes graph space appear\n",
    "fig, ax = plt.subplots(figsize=(20,10)) # Create the plot space upon which to plot the data\n",
    "ax.margins(0.05) # Optional, just adds 5% padding to the autoscaling\n",
    "\n",
    "\n",
    "x = counted_lethal_crashes['crash_date']\n",
    "y = counted_lethal_crashes['persons_killed']\n",
    "\n",
    "ax.plot(x,y,\n",
    "        linestyle='',\n",
    "        marker='x',\n",
    "        alpha = 0.5,\n",
    "        color='Red'\n",
    "       )\n",
    "\n",
    "ax.set(xlabel=\"Date\",\n",
    "       ylabel=\"Killed Count\",\n",
    "       title=\"Number of people killed by motorists in NYC\") # Set title and labels for axes"
   ]
  },
  {
   "cell_type": "markdown",
   "metadata": {},
   "source": [
    "We have succesfully plotted the Car crash fatalities in NYC over time!\n",
    "\n",
    "We can see from this that the majority of crashes have either 0 or 1 persons killed. Though there are some outliers. We could plug other columns into this chart, and see distributions of pedestrians, cyclists, motorists killed, but it will be easier and more visually appealing with pandas and seaborn. Here it is hard to get a precise view of the data, though it does help us know where to look."
   ]
  },
  {
   "cell_type": "markdown",
   "metadata": {},
   "source": [
    "## Crash factor percentages in Queens <a id='queens_crash_causes'></a>"
   ]
  },
  {
   "cell_type": "markdown",
   "metadata": {},
   "source": [
    "Let's check out our data."
   ]
  },
  {
   "cell_type": "code",
   "execution_count": 32,
   "metadata": {},
   "outputs": [
    {
     "data": {
      "text/plain": [
       "brooklyn         191127\n",
       "queens           183489\n",
       "manhattan        178725\n",
       "bronx             85905\n",
       "staten island     28004\n",
       "Name: borough, dtype: int64"
      ]
     },
     "execution_count": 32,
     "metadata": {},
     "output_type": "execute_result"
    }
   ],
   "source": [
    "top_boroughs = clean_nyc1['borough'].value_counts()\n",
    "top_boroughs"
   ]
  },
  {
   "cell_type": "markdown",
   "metadata": {},
   "source": [
    "Now we'll look at the crashes to see what factor contributed first to the crash by each borough. We select out these columns and put into a dataframe to look at the information.\n",
    "\n",
    "I would like to select out for the borough of Queens and look just at this neighborhood for crash data. So, I select only this variable from the borough column and make a dataframe for factor contributing to vehicle crash for neighborhood Queens. This comparison is for the first vehicle involved in the crash."
   ]
  },
  {
   "cell_type": "code",
   "execution_count": 33,
   "metadata": {},
   "outputs": [
    {
     "data": {
      "text/html": [
       "<div>\n",
       "<style scoped>\n",
       "    .dataframe tbody tr th:only-of-type {\n",
       "        vertical-align: middle;\n",
       "    }\n",
       "\n",
       "    .dataframe tbody tr th {\n",
       "        vertical-align: top;\n",
       "    }\n",
       "\n",
       "    .dataframe thead th {\n",
       "        text-align: right;\n",
       "    }\n",
       "</style>\n",
       "<table border=\"1\" class=\"dataframe\">\n",
       "  <thead>\n",
       "    <tr style=\"text-align: right;\">\n",
       "      <th></th>\n",
       "      <th>borough</th>\n",
       "      <th>contributing_factor_vehicle_1</th>\n",
       "    </tr>\n",
       "  </thead>\n",
       "  <tbody>\n",
       "    <tr>\n",
       "      <th>0</th>\n",
       "      <td>queens</td>\n",
       "      <td>driver inexperience</td>\n",
       "    </tr>\n",
       "    <tr>\n",
       "      <th>5</th>\n",
       "      <td>queens</td>\n",
       "      <td>driver inexperience</td>\n",
       "    </tr>\n",
       "    <tr>\n",
       "      <th>10</th>\n",
       "      <td>queens</td>\n",
       "      <td>road defects</td>\n",
       "    </tr>\n",
       "    <tr>\n",
       "      <th>21</th>\n",
       "      <td>queens</td>\n",
       "      <td>driver inexperience</td>\n",
       "    </tr>\n",
       "    <tr>\n",
       "      <th>25</th>\n",
       "      <td>queens</td>\n",
       "      <td>car defects</td>\n",
       "    </tr>\n",
       "  </tbody>\n",
       "</table>\n",
       "</div>"
      ],
      "text/plain": [
       "   borough contributing_factor_vehicle_1\n",
       "0   queens           driver inexperience\n",
       "5   queens           driver inexperience\n",
       "10  queens                  road defects\n",
       "21  queens           driver inexperience\n",
       "25  queens                   car defects"
      ]
     },
     "execution_count": 33,
     "metadata": {},
     "output_type": "execute_result"
    }
   ],
   "source": [
    "borough_factor = clean_nyc1.loc[:, ['borough', 'contributing_factor_vehicle_1']]\n",
    "queens_data = borough_factor[borough_factor.borough == 'queens']\n",
    "queens_data.head()"
   ]
  },
  {
   "cell_type": "markdown",
   "metadata": {},
   "source": [
    "For this data, what are the numbers for each contributing factor. "
   ]
  },
  {
   "cell_type": "code",
   "execution_count": 34,
   "metadata": {},
   "outputs": [
    {
     "data": {
      "text/plain": [
       "driver inexperience               80963\n",
       "driver inattention/distraction    69629\n",
       "road defects                      12134\n",
       "illness                            8863\n",
       "outside error                      5550\n",
       "drugs (illegal)                    3436\n",
       "car defects                        2914\n",
       "Name: contributing_factor_vehicle_1, dtype: int64"
      ]
     },
     "execution_count": 34,
     "metadata": {},
     "output_type": "execute_result"
    }
   ],
   "source": [
    "reason_counts = queens_data['contributing_factor_vehicle_1'].value_counts()\n",
    "reason_counts"
   ]
  },
  {
   "cell_type": "markdown",
   "metadata": {},
   "source": [
    "Now we will find the percentage contribution of each factor for the burough Queens and the first vehicle involved in the crash to determine which factor had the greatest impact for this group. This will be expressed as a percentage of the total number of contributing factors. "
   ]
  },
  {
   "cell_type": "code",
   "execution_count": 35,
   "metadata": {},
   "outputs": [
    {
     "data": {
      "text/plain": [
       "183489"
      ]
     },
     "execution_count": 35,
     "metadata": {},
     "output_type": "execute_result"
    }
   ],
   "source": [
    "total_reason_counts = reason_counts.sum()\n",
    "total_reason_counts"
   ]
  },
  {
   "cell_type": "code",
   "execution_count": 36,
   "metadata": {},
   "outputs": [
    {
     "data": {
      "text/plain": [
       "driver inexperience               44.124171\n",
       "driver inattention/distraction    37.947234\n",
       "road defects                       6.612930\n",
       "illness                            4.830262\n",
       "outside error                      3.024704\n",
       "drugs (illegal)                    1.872592\n",
       "car defects                        1.588106\n",
       "Name: contributing_factor_vehicle_1, dtype: float64"
      ]
     },
     "execution_count": 36,
     "metadata": {},
     "output_type": "execute_result"
    }
   ],
   "source": [
    "reason_counts1 = reason_counts/total_reason_counts*100\n",
    "reason_counts1"
   ]
  },
  {
   "cell_type": "markdown",
   "metadata": {},
   "source": [
    "The greatest impact to crash was 'driver inexperience'. 'Driver Inattention/Distraction' follows that. "
   ]
  },
  {
   "cell_type": "code",
   "execution_count": 37,
   "metadata": {},
   "outputs": [
    {
     "data": {
      "text/plain": [
       "Text(0.5, 1.0, 'Percentage of Factors leading to crashes in Queens')"
      ]
     },
     "execution_count": 37,
     "metadata": {},
     "output_type": "execute_result"
    },
    {
     "data": {
      "image/png": "[encoded data removed]",
      "text/plain": [
       "<Figure size 720x1440 with 1 Axes>"
      ]
     },
     "metadata": {},
     "output_type": "display_data"
    }
   ],
   "source": [
    "reason_counts1.plot.barh(figsize = (10,20)\n",
    "                        ).invert_yaxis()\n",
    "plt.title('Percentage of Factors leading to crashes in Queens', fontsize=15)"
   ]
  },
  {
   "cell_type": "markdown",
   "metadata": {},
   "source": [
    "# <center> <br>[Begining of the page](#Top)</center> <a id='Bottom'></a>"
   ]
  }
 ],
 "metadata": {
  "kernelspec": {
   "display_name": "Python 3",
   "language": "python",
   "name": "python3"
  },
  "language_info": {
   "codemirror_mode": {
    "name": "ipython",
    "version": 3
   },
   "file_extension": ".py",
   "mimetype": "text/x-python",
   "name": "python",
   "nbconvert_exporter": "python",
   "pygments_lexer": "ipython3",
   "version": "3.7.3"
  }
 },
 "nbformat": 4,
 "nbformat_minor": 2
}
