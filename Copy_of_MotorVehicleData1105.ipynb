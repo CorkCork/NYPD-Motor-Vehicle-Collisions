{
  "nbformat": 4,
  "nbformat_minor": 0,
  "metadata": {
    "colab": {
      "name": "Copy of MotorVehicleData1105.ipynb",
      "provenance": [],
      "include_colab_link": true
    },
    "kernelspec": {
      "name": "python3",
      "display_name": "Python 3"
    }
  },
  "cells": [
    {
      "cell_type": "markdown",
      "metadata": {
        "id": "view-in-github",
        "colab_type": "text"
      },
      "source": [
        "<a href=\"https://colab.research.google.com/github/CorkCork/NYPD-Motor-Vehicle-Collisions/blob/master/Copy_of_MotorVehicleData1105.ipynb\" target=\"_parent\"><img src=\"https://colab.research.google.com/assets/colab-badge.svg\" alt=\"Open In Colab\"/></a>"
      ]
    },
    {
      "cell_type": "code",
      "metadata": {
        "id": "mjEh-B6zrlNm",
        "colab_type": "code",
        "colab": {}
      },
      "source": [
        "import pandas as pd\n",
        "mv_data = pd.read_csv('https://data.cityofnewyork.us/resource/h9gi-nx95.csv?$limit=50000')   "
      ],
      "execution_count": 0,
      "outputs": []
    },
    {
      "cell_type": "markdown",
      "metadata": {
        "id": "rf3gxPp9i0gY",
        "colab_type": "text"
      },
      "source": [
        "We start by importing the data set from NYPD on motor vehicle crashes. We can look at the different boroughs and reasons for crashes."
      ]
    },
    {
      "cell_type": "markdown",
      "metadata": {
        "id": "iBGNq7q0xQmN",
        "colab_type": "text"
      },
      "source": [
        "### We import the data set from NYPD motor vehicle crash and limit 50,000 rows. This will allow us to work with some of the dataset and look at crashes involving driver inexperience in the borough of Brooklyn.\n"
      ]
    },
    {
      "cell_type": "markdown",
      "metadata": {
        "id": "IUtTPfHlxm_u",
        "colab_type": "text"
      },
      "source": [
        "### Next, look at the number of rows and columns in the data set imported using shape command"
      ]
    },
    {
      "cell_type": "code",
      "metadata": {
        "id": "YOorx-dvrt7o",
        "colab_type": "code",
        "outputId": "450c5c9c-b994-405f-ddd1-66af7377e510",
        "colab": {
          "base_uri": "https://localhost:8080/",
          "height": 34
        }
      },
      "source": [
        "mv_data.shape\n"
      ],
      "execution_count": 123,
      "outputs": [
        {
          "output_type": "execute_result",
          "data": {
            "text/plain": [
              "(50000, 29)"
            ]
          },
          "metadata": {
            "tags": []
          },
          "execution_count": 123
        }
      ]
    },
    {
      "cell_type": "markdown",
      "metadata": {
        "id": "4qhJq9cwxz5O",
        "colab_type": "text"
      },
      "source": [
        "### We have 50,000 rows and 29 columns of data in the information imported. Let's put it into an array with headers for each column"
      ]
    },
    {
      "cell_type": "code",
      "metadata": {
        "id": "cktt_QJrtuIo",
        "colab_type": "code",
        "outputId": "0dacf4a0-68eb-44b1-b1cf-c0bfb36eac27",
        "colab": {
          "base_uri": "https://localhost:8080/",
          "height": 343
        }
      },
      "source": [
        "mv_data.head()"
      ],
      "execution_count": 150,
      "outputs": [
        {
          "output_type": "execute_result",
          "data": {
            "text/html": [
              "<div>\n",
              "<style scoped>\n",
              "    .dataframe tbody tr th:only-of-type {\n",
              "        vertical-align: middle;\n",
              "    }\n",
              "\n",
              "    .dataframe tbody tr th {\n",
              "        vertical-align: top;\n",
              "    }\n",
              "\n",
              "    .dataframe thead th {\n",
              "        text-align: right;\n",
              "    }\n",
              "</style>\n",
              "<table border=\"1\" class=\"dataframe\">\n",
              "  <thead>\n",
              "    <tr style=\"text-align: right;\">\n",
              "      <th></th>\n",
              "      <th>date</th>\n",
              "      <th>time</th>\n",
              "      <th>borough</th>\n",
              "      <th>zip_code</th>\n",
              "      <th>latitude</th>\n",
              "      <th>longitude</th>\n",
              "      <th>location</th>\n",
              "      <th>on_street_name</th>\n",
              "      <th>off_street_name</th>\n",
              "      <th>cross_street_name</th>\n",
              "      <th>number_of_persons_injured</th>\n",
              "      <th>number_of_persons_killed</th>\n",
              "      <th>number_of_pedestrians_injured</th>\n",
              "      <th>number_of_pedestrians_killed</th>\n",
              "      <th>number_of_cyclist_injured</th>\n",
              "      <th>number_of_cyclist_killed</th>\n",
              "      <th>number_of_motorist_injured</th>\n",
              "      <th>number_of_motorist_killed</th>\n",
              "      <th>contributing_factor_vehicle_1</th>\n",
              "      <th>contributing_factor_vehicle_2</th>\n",
              "      <th>contributing_factor_vehicle_3</th>\n",
              "      <th>contributing_factor_vehicle_4</th>\n",
              "      <th>contributing_factor_vehicle_5</th>\n",
              "      <th>collision_id</th>\n",
              "      <th>vehicle_type_code1</th>\n",
              "      <th>vehicle_type_code2</th>\n",
              "      <th>vehicle_type_code_3</th>\n",
              "      <th>vehicle_type_code_4</th>\n",
              "      <th>vehicle_type_code_5</th>\n",
              "    </tr>\n",
              "  </thead>\n",
              "  <tbody>\n",
              "    <tr>\n",
              "      <th>0</th>\n",
              "      <td>2013-06-30T00:00:00.000</td>\n",
              "      <td>16:40</td>\n",
              "      <td>NaN</td>\n",
              "      <td>NaN</td>\n",
              "      <td>NaN</td>\n",
              "      <td>NaN</td>\n",
              "      <td>NaN</td>\n",
              "      <td>NaN</td>\n",
              "      <td>NaN</td>\n",
              "      <td>NaN</td>\n",
              "      <td>2.0</td>\n",
              "      <td>0.0</td>\n",
              "      <td>0</td>\n",
              "      <td>0</td>\n",
              "      <td>0</td>\n",
              "      <td>0</td>\n",
              "      <td>2</td>\n",
              "      <td>0</td>\n",
              "      <td>Fatigued/Drowsy</td>\n",
              "      <td>Unspecified</td>\n",
              "      <td>NaN</td>\n",
              "      <td>NaN</td>\n",
              "      <td>NaN</td>\n",
              "      <td>2919091</td>\n",
              "      <td>SUV</td>\n",
              "      <td>SPORT UTILITY / STATION WAGON</td>\n",
              "      <td>NaN</td>\n",
              "      <td>NaN</td>\n",
              "      <td>NaN</td>\n",
              "    </tr>\n",
              "    <tr>\n",
              "      <th>1</th>\n",
              "      <td>2019-05-20T00:00:00.000</td>\n",
              "      <td>17:40</td>\n",
              "      <td>NaN</td>\n",
              "      <td>NaN</td>\n",
              "      <td>NaN</td>\n",
              "      <td>NaN</td>\n",
              "      <td>NaN</td>\n",
              "      <td>AMBOY ROAD</td>\n",
              "      <td>TIMBER RIDGE DRIVE</td>\n",
              "      <td>NaN</td>\n",
              "      <td>1.0</td>\n",
              "      <td>0.0</td>\n",
              "      <td>0</td>\n",
              "      <td>0</td>\n",
              "      <td>0</td>\n",
              "      <td>0</td>\n",
              "      <td>1</td>\n",
              "      <td>0</td>\n",
              "      <td>Unsafe Lane Changing</td>\n",
              "      <td>Unsafe Lane Changing</td>\n",
              "      <td>NaN</td>\n",
              "      <td>NaN</td>\n",
              "      <td>NaN</td>\n",
              "      <td>4135542</td>\n",
              "      <td>Motorcycle</td>\n",
              "      <td>Sedan</td>\n",
              "      <td>NaN</td>\n",
              "      <td>NaN</td>\n",
              "      <td>NaN</td>\n",
              "    </tr>\n",
              "    <tr>\n",
              "      <th>2</th>\n",
              "      <td>2014-12-12T00:00:00.000</td>\n",
              "      <td>21:32</td>\n",
              "      <td>NaN</td>\n",
              "      <td>NaN</td>\n",
              "      <td>NaN</td>\n",
              "      <td>NaN</td>\n",
              "      <td>NaN</td>\n",
              "      <td>NaN</td>\n",
              "      <td>NaN</td>\n",
              "      <td>NaN</td>\n",
              "      <td>0.0</td>\n",
              "      <td>0.0</td>\n",
              "      <td>0</td>\n",
              "      <td>0</td>\n",
              "      <td>0</td>\n",
              "      <td>0</td>\n",
              "      <td>0</td>\n",
              "      <td>0</td>\n",
              "      <td>Lost Consciousness</td>\n",
              "      <td>Unspecified</td>\n",
              "      <td>NaN</td>\n",
              "      <td>NaN</td>\n",
              "      <td>NaN</td>\n",
              "      <td>3136004</td>\n",
              "      <td>PASSENGER VEHICLE</td>\n",
              "      <td>LARGE COM VEH(6 OR MORE TIRES)</td>\n",
              "      <td>NaN</td>\n",
              "      <td>NaN</td>\n",
              "      <td>NaN</td>\n",
              "    </tr>\n",
              "    <tr>\n",
              "      <th>3</th>\n",
              "      <td>2018-09-14T00:00:00.000</td>\n",
              "      <td>21:54</td>\n",
              "      <td>BRONX</td>\n",
              "      <td>10472.0</td>\n",
              "      <td>NaN</td>\n",
              "      <td>NaN</td>\n",
              "      <td>NaN</td>\n",
              "      <td>CROSS BRONX EXPWY SERVICE ROAD</td>\n",
              "      <td>CROES AVENUE</td>\n",
              "      <td>NaN</td>\n",
              "      <td>0.0</td>\n",
              "      <td>0.0</td>\n",
              "      <td>0</td>\n",
              "      <td>0</td>\n",
              "      <td>0</td>\n",
              "      <td>0</td>\n",
              "      <td>0</td>\n",
              "      <td>0</td>\n",
              "      <td>Unsafe Lane Changing</td>\n",
              "      <td>Following Too Closely</td>\n",
              "      <td>NaN</td>\n",
              "      <td>NaN</td>\n",
              "      <td>NaN</td>\n",
              "      <td>3981591</td>\n",
              "      <td>Sedan</td>\n",
              "      <td>Sedan</td>\n",
              "      <td>NaN</td>\n",
              "      <td>NaN</td>\n",
              "      <td>NaN</td>\n",
              "    </tr>\n",
              "    <tr>\n",
              "      <th>4</th>\n",
              "      <td>2012-07-01T00:00:00.000</td>\n",
              "      <td>9:57</td>\n",
              "      <td>MANHATTAN</td>\n",
              "      <td>10065.0</td>\n",
              "      <td>40.765242</td>\n",
              "      <td>-73.957868</td>\n",
              "      <td>POINT (-73.9578679 40.7652424)</td>\n",
              "      <td>1 AVENUE</td>\n",
              "      <td>EAST 68 STREET</td>\n",
              "      <td>NaN</td>\n",
              "      <td>0.0</td>\n",
              "      <td>0.0</td>\n",
              "      <td>0</td>\n",
              "      <td>0</td>\n",
              "      <td>0</td>\n",
              "      <td>0</td>\n",
              "      <td>0</td>\n",
              "      <td>0</td>\n",
              "      <td>Other Vehicular</td>\n",
              "      <td>Other Vehicular</td>\n",
              "      <td>NaN</td>\n",
              "      <td>NaN</td>\n",
              "      <td>NaN</td>\n",
              "      <td>44907</td>\n",
              "      <td>PASSENGER VEHICLE</td>\n",
              "      <td>TAXI</td>\n",
              "      <td>NaN</td>\n",
              "      <td>NaN</td>\n",
              "      <td>NaN</td>\n",
              "    </tr>\n",
              "  </tbody>\n",
              "</table>\n",
              "</div>"
            ],
            "text/plain": [
              "                      date   time  ... vehicle_type_code_4  vehicle_type_code_5\n",
              "0  2013-06-30T00:00:00.000  16:40  ...                 NaN                  NaN\n",
              "1  2019-05-20T00:00:00.000  17:40  ...                 NaN                  NaN\n",
              "2  2014-12-12T00:00:00.000  21:32  ...                 NaN                  NaN\n",
              "3  2018-09-14T00:00:00.000  21:54  ...                 NaN                  NaN\n",
              "4  2012-07-01T00:00:00.000   9:57  ...                 NaN                  NaN\n",
              "\n",
              "[5 rows x 29 columns]"
            ]
          },
          "metadata": {
            "tags": []
          },
          "execution_count": 150
        }
      ]
    },
    {
      "cell_type": "markdown",
      "metadata": {
        "id": "Hywde3hSjJzO",
        "colab_type": "text"
      },
      "source": [
        "We look at the information in the column boroughs. This is an object type and contains the borough names as well as NaN values.  \n",
        "\n",
        "---\n",
        "\n"
      ]
    },
    {
      "cell_type": "code",
      "metadata": {
        "id": "MAvz6yxRuUBR",
        "colab_type": "code",
        "outputId": "2aec25c1-cda1-4dc1-b166-ba5452d92b91",
        "colab": {
          "base_uri": "https://localhost:8080/",
          "height": 884
        }
      },
      "source": [
        "mv_data['borough'].head(50)"
      ],
      "execution_count": 151,
      "outputs": [
        {
          "output_type": "execute_result",
          "data": {
            "text/plain": [
              "0               NaN\n",
              "1               NaN\n",
              "2               NaN\n",
              "3             BRONX\n",
              "4         MANHATTAN\n",
              "5          BROOKLYN\n",
              "6             BRONX\n",
              "7          BROOKLYN\n",
              "8             BRONX\n",
              "9            QUEENS\n",
              "10           QUEENS\n",
              "11              NaN\n",
              "12         BROOKLYN\n",
              "13        MANHATTAN\n",
              "14           QUEENS\n",
              "15              NaN\n",
              "16         BROOKLYN\n",
              "17              NaN\n",
              "18              NaN\n",
              "19            BRONX\n",
              "20              NaN\n",
              "21           QUEENS\n",
              "22         BROOKLYN\n",
              "23        MANHATTAN\n",
              "24    STATEN ISLAND\n",
              "25         BROOKLYN\n",
              "26           QUEENS\n",
              "27            BRONX\n",
              "28        MANHATTAN\n",
              "29              NaN\n",
              "30         BROOKLYN\n",
              "31         BROOKLYN\n",
              "32         BROOKLYN\n",
              "33         BROOKLYN\n",
              "34           QUEENS\n",
              "35              NaN\n",
              "36           QUEENS\n",
              "37           QUEENS\n",
              "38           QUEENS\n",
              "39           QUEENS\n",
              "40        MANHATTAN\n",
              "41              NaN\n",
              "42           QUEENS\n",
              "43           QUEENS\n",
              "44            BRONX\n",
              "45              NaN\n",
              "46              NaN\n",
              "47              NaN\n",
              "48            BRONX\n",
              "49              NaN\n",
              "Name: borough, dtype: object"
            ]
          },
          "metadata": {
            "tags": []
          },
          "execution_count": 151
        }
      ]
    },
    {
      "cell_type": "code",
      "metadata": {
        "id": "_unJdenXCvMA",
        "colab_type": "code",
        "colab": {}
      },
      "source": [
        ""
      ],
      "execution_count": 0,
      "outputs": []
    },
    {
      "cell_type": "markdown",
      "metadata": {
        "id": "WhIM1LIdCxER",
        "colab_type": "text"
      },
      "source": [
        "We can look at the numbers for which burough had the most crashes reported. "
      ]
    },
    {
      "cell_type": "code",
      "metadata": {
        "id": "RNPSHSe3Q-61",
        "colab_type": "code",
        "outputId": "4749fb6e-9c45-42e0-bee4-52a7221bc04f",
        "colab": {
          "base_uri": "https://localhost:8080/",
          "height": 119
        }
      },
      "source": [
        "top_boroughs.head(20)"
      ],
      "execution_count": 152,
      "outputs": [
        {
          "output_type": "execute_result",
          "data": {
            "text/plain": [
              "BROOKLYN         10528\n",
              "QUEENS            9501\n",
              "MANHATTAN         7870\n",
              "BRONX             4936\n",
              "STATEN ISLAND     1092\n",
              "Name: borough, dtype: int64"
            ]
          },
          "metadata": {
            "tags": []
          },
          "execution_count": 152
        }
      ]
    },
    {
      "cell_type": "markdown",
      "metadata": {
        "id": "kggqJoTmyONH",
        "colab_type": "text"
      },
      "source": [
        "#### Now we can find the unique types of vehicles involved in these crashes. Let's look at vehcile number one, the first vehicle impacting. This column value is vehicle_type_code1. Take a look to see the first 15 rows. "
      ]
    },
    {
      "cell_type": "code",
      "metadata": {
        "id": "-0vItH7Cs10I",
        "colab_type": "code",
        "outputId": "fc0c252d-2b67-4e7a-9c0d-3b1db448f577",
        "colab": {
          "base_uri": "https://localhost:8080/",
          "height": 289
        }
      },
      "source": [
        "mv_data['vehicle_type_code1'].head(15)"
      ],
      "execution_count": 153,
      "outputs": [
        {
          "output_type": "execute_result",
          "data": {
            "text/plain": [
              "0                   SUV\n",
              "1            Motorcycle\n",
              "2     PASSENGER VEHICLE\n",
              "3                 Sedan\n",
              "4     PASSENGER VEHICLE\n",
              "5     PASSENGER VEHICLE\n",
              "6     PASSENGER VEHICLE\n",
              "7                   SUV\n",
              "8     PASSENGER VEHICLE\n",
              "9                   SUV\n",
              "10        PICK-UP TRUCK\n",
              "11    PASSENGER VEHICLE\n",
              "12                  SUV\n",
              "13                  VAN\n",
              "14    PASSENGER VEHICLE\n",
              "Name: vehicle_type_code1, dtype: object"
            ]
          },
          "metadata": {
            "tags": []
          },
          "execution_count": 153
        }
      ]
    },
    {
      "cell_type": "markdown",
      "metadata": {
        "id": "L507d85qjz_9",
        "colab_type": "text"
      },
      "source": [
        "Let's look to see how many times each borough had crashes that were recorded in the dataset. We do this with a value count for the column borough. "
      ]
    },
    {
      "cell_type": "markdown",
      "metadata": {
        "id": "GhW_aU0pkDEL",
        "colab_type": "text"
      },
      "source": [
        "The borough of Brooklyn had the most crashes and Queens had the second highest number of crashes. "
      ]
    },
    {
      "cell_type": "code",
      "metadata": {
        "id": "kRDqGY2XQtPA",
        "colab_type": "code",
        "outputId": "29a69e26-0a9e-4e4c-bbdb-e454ebec0ba9",
        "colab": {
          "base_uri": "https://localhost:8080/",
          "height": 119
        }
      },
      "source": [
        "top_boroughs = mv_data['borough'].value_counts()\n",
        "top_boroughs"
      ],
      "execution_count": 154,
      "outputs": [
        {
          "output_type": "execute_result",
          "data": {
            "text/plain": [
              "BROOKLYN         9764\n",
              "QUEENS           8739\n",
              "MANHATTAN        6350\n",
              "BRONX            5040\n",
              "STATEN ISLAND     923\n",
              "Name: borough, dtype: int64"
            ]
          },
          "metadata": {
            "tags": []
          },
          "execution_count": 154
        }
      ]
    },
    {
      "cell_type": "markdown",
      "metadata": {
        "id": "RltDdjrdkVRt",
        "colab_type": "text"
      },
      "source": [
        "To find the vehicles involved in the highest number of crashes, we can look at the rows of the data frame"
      ]
    },
    {
      "cell_type": "code",
      "metadata": {
        "id": "YIRSUJzMvasA",
        "colab_type": "code",
        "outputId": "9f2e3829-0330-44d3-bd6b-f8cc0233e3de",
        "colab": {
          "base_uri": "https://localhost:8080/",
          "height": 374
        }
      },
      "source": [
        "top_vehicles.head(20)"
      ],
      "execution_count": 155,
      "outputs": [
        {
          "output_type": "execute_result",
          "data": {
            "text/plain": [
              "Sedan                                  23061\n",
              "Station Wagon/Sport Utility Vehicle    17711\n",
              "Taxi                                    2412\n",
              "Pick-up Truck                           1557\n",
              "Box Truck                               1028\n",
              "Bike                                     734\n",
              "Bus                                      629\n",
              "Tractor Truck Diesel                     417\n",
              "Motorcycle                               381\n",
              "Van                                      367\n",
              "Convertible                              173\n",
              "Dump                                     161\n",
              "Ambulance                                108\n",
              "Flat Bed                                 100\n",
              "Garbage or Refuse                         78\n",
              "PK                                        74\n",
              "Carry All                                 62\n",
              "Tow Truck / Wrecker                       50\n",
              "Tractor Truck Gasoline                    48\n",
              "PASSENGER VEHICLE                         44\n",
              "Name: vehicle_type_code1, dtype: int64"
            ]
          },
          "metadata": {
            "tags": []
          },
          "execution_count": 155
        }
      ]
    },
    {
      "cell_type": "markdown",
      "metadata": {
        "id": "npVZ_2npkg0b",
        "colab_type": "text"
      },
      "source": [
        "The top five types of vehicles involved in crashes were Sedan, Station Wagon/Sport Utility Vehicle, Passenger Vehicle, Sport Utility/ Station Wagon, and Taxi. If we were to combine the Station Wagon and Sport Utility categories, we could include Pick-up Truck in the top five types of vehicles. "
      ]
    },
    {
      "cell_type": "markdown",
      "metadata": {
        "id": "IGThReLO4Oj_",
        "colab_type": "text"
      },
      "source": [
        "Also, look at the unique types of vehicles that contributed to the crash, there are alot of different types of vehicles, so we will need a way to find the vehicles that are involved in the most crashes. Use some descriptive methods to look at what is in the column vehicle type code 1 "
      ]
    },
    {
      "cell_type": "code",
      "metadata": {
        "id": "-lDL1gwpzBT8",
        "colab_type": "code",
        "outputId": "8c2ff5b1-780b-42a1-cc1d-edd1fae2d95a",
        "colab": {
          "base_uri": "https://localhost:8080/",
          "height": 221
        }
      },
      "source": [
        "mv_data['vehicle_type_code1'].value_counts()"
      ],
      "execution_count": 156,
      "outputs": [
        {
          "output_type": "execute_result",
          "data": {
            "text/plain": [
              "SUV                           17934\n",
              "Sedan                         16196\n",
              "PASSENGER VEHICLE              6475\n",
              "Taxi                           1735\n",
              "Pick-up Truck                  1124\n",
              "                              ...  \n",
              "Semi-                             1\n",
              "BOX                               1\n",
              "Pickup with mounted Camper        1\n",
              "Pick-                             1\n",
              "deliv                             1\n",
              "Name: vehicle_type_code1, Length: 214, dtype: int64"
            ]
          },
          "metadata": {
            "tags": []
          },
          "execution_count": 156
        }
      ]
    },
    {
      "cell_type": "code",
      "metadata": {
        "id": "a4ZmKtSTw3pi",
        "colab_type": "code",
        "outputId": "61a3f1f4-84aa-499e-e28d-506a3f47333e",
        "colab": {
          "base_uri": "https://localhost:8080/",
          "height": 612
        }
      },
      "source": [
        "mv_data['vehicle_type_code1'].unique()"
      ],
      "execution_count": 157,
      "outputs": [
        {
          "output_type": "execute_result",
          "data": {
            "text/plain": [
              "array(['SUV', 'Motorcycle', 'PASSENGER VEHICLE', 'Sedan', 'PICK-UP TRUCK',\n",
              "       'VAN', 'OTHER', 'TAXI', 'UNKNOWN',\n",
              "       'LARGE COM VEH(6 OR MORE TIRES)', 'Box Truck', 'Taxi', 'Ambulance',\n",
              "       nan, 'Tractor Truck Diesel', 'Bike', 'Bus', 'Tanker', 'BUS', 'PK',\n",
              "       'Pick-up Truck', 'SMALL COM VEH(4 TIRES) ', 'Van',\n",
              "       'LIVERY VEHICLE', 'Tow Truck', 'MOTORCYCLE', 'Chassis Cab',\n",
              "       'Concrete Mixer', 'Convertible', 'BICYCLE', 'Carry All', 'Moped',\n",
              "       'TRAIL', 'TT', 'BU', 'MS', 'LIMO', 'TRUCK', 'Dump', 'FIRE',\n",
              "       'AMBUL', 'Tractor Truck Gasoline', 'Semi-', 'TRACT', 'E-Bik',\n",
              "       'WHITE', 'Road', 'FIRE TRUCK', 'tract', 'Flat Bed',\n",
              "       'Beverage Truck', 'FORKL', 'COMME', 'BOX T', 'ambul', 'Track',\n",
              "       'ELECT', 'Refrigerated Van', 'mail', 'TK', 'DS', 'VN', 'Flat Rack',\n",
              "       'TR', 'icecr', 'GG', 'FB', 'DP', 'CONV', 'bus', 'Pick-', 'TOW T',\n",
              "       'LL', '3D', 'E-Sco', 'AM', 'CB', 'truck', 'MD',\n",
              "       'Tow Truck / Wrecker', 'AR', 'Smart', 'delv', 'NYC M', 'DIRT',\n",
              "       'FREIG', 'MB', 'LIVER', 'BR', 'nyc a', 'FDNY', 'e amb',\n",
              "       'Motorscooter', 'van', 'Light', 'Sprin', 'bulld', 'ulili', 'DELIV',\n",
              "       'E-BIK', 'Garbage or Refuse', 'Tow-t', 'trail', 'AMB', 'ST', 'COM',\n",
              "       'mcy', 'FR', 'MACK', 'BULLD', 'SANIT', '3-Door', 'DELV', 'LF',\n",
              "       'TN', '15 Pa', 'POWER', 'USPS', 'Fire', 'Lift Boom', 'HWY C', 'CM',\n",
              "       'FORD', 'Pallet', 'OMNIB', 'SCHOO', 'VAN T', 'RF', 'BA', 'PUMP',\n",
              "       'trlr', 'VC', 'DUMP', 'NYC a', 'Inter', 'OMR', 'CUSHM', 'SCOOTER',\n",
              "       'ford', 'Wagon', 'PL', 'AMABU', 'School Bus', 'van t',\n",
              "       '4 dr sedan', 'Motorbike', 'picku', 'Box T', 'Food', 'E bik',\n",
              "       '2 dr sedan', 'SKATE', 'TANKE', 'DELVI', 'FLAT', 'Horse', 'DOT T',\n",
              "       'CRANE', 'VAN/T', 'Forkl', 'REP', 'Armored Truck', '2015', 'BOX',\n",
              "       'road', 'BACKH', 'box t', 'Pickup with mounted Camper', 'AMBU',\n",
              "       'L1', 'Open Body', 'Golf', 'ECONO', 'MTA B', 'fdny', 'Vanette',\n",
              "       'UTILI', 'FLAT/', 'Pedicab', 'Stake or Rack', 'Motorized Home',\n",
              "       'Bulk Agriculture', 'PSH', 'RV', 'TRC', 'tow t', 'TRK', 'schoo',\n",
              "       'FUEL', 'USP M', 'Ambul', 'SANTI', 'G COM',\n",
              "       'Multi-Wheeled Vehicle', 'FIRET', 'SPRIN', 'SELF', 'scoot',\n",
              "       'RMP V', 'COMM', 'GARBA', 'SEMI', 'Ambu', 'Scoot', 'LIEBH', 'CAB',\n",
              "       'STREE', 'ROAD', 'Truck', 'Trail', 'Van Camper', 'FEDEX', '3 WHE',\n",
              "       'acces', 'deliv'], dtype=object)"
            ]
          },
          "metadata": {
            "tags": []
          },
          "execution_count": 157
        }
      ]
    },
    {
      "cell_type": "markdown",
      "metadata": {
        "id": "zfNYeN1V6pno",
        "colab_type": "text"
      },
      "source": [
        "I will combine the categories SPORTS UTILITY / STATION WAGON and Station Wagon/Sport Utility Vehicle into the category SUV since these are really the same type of vehicle and are two of the top five categories in types vehicles contributing to crashes. We reprint the dataframe with this new combined category. "
      ]
    },
    {
      "cell_type": "code",
      "metadata": {
        "id": "HmYgxaJyRG1_",
        "colab_type": "code",
        "colab": {
          "base_uri": "https://localhost:8080/",
          "height": 728
        },
        "outputId": "fbe7b3a0-8dcc-41f0-e0e9-1d39de4bba92"
      },
      "source": [
        "mv_data['vehicle_type_code1'] = mv_data['vehicle_type_code1'].str.replace('SPORT UTILITY / STATION WAGON', 'SUV')\n",
        "mv_data['vehicle_type_code1'] = mv_data['vehicle_type_code1'].str.replace('Station Wagon/Sport Utility Vehicle', 'SUV')\n",
        "mv_data"
      ],
      "execution_count": 158,
      "outputs": [
        {
          "output_type": "execute_result",
          "data": {
            "text/html": [
              "<div>\n",
              "<style scoped>\n",
              "    .dataframe tbody tr th:only-of-type {\n",
              "        vertical-align: middle;\n",
              "    }\n",
              "\n",
              "    .dataframe tbody tr th {\n",
              "        vertical-align: top;\n",
              "    }\n",
              "\n",
              "    .dataframe thead th {\n",
              "        text-align: right;\n",
              "    }\n",
              "</style>\n",
              "<table border=\"1\" class=\"dataframe\">\n",
              "  <thead>\n",
              "    <tr style=\"text-align: right;\">\n",
              "      <th></th>\n",
              "      <th>date</th>\n",
              "      <th>time</th>\n",
              "      <th>borough</th>\n",
              "      <th>zip_code</th>\n",
              "      <th>latitude</th>\n",
              "      <th>longitude</th>\n",
              "      <th>location</th>\n",
              "      <th>on_street_name</th>\n",
              "      <th>off_street_name</th>\n",
              "      <th>cross_street_name</th>\n",
              "      <th>number_of_persons_injured</th>\n",
              "      <th>number_of_persons_killed</th>\n",
              "      <th>number_of_pedestrians_injured</th>\n",
              "      <th>number_of_pedestrians_killed</th>\n",
              "      <th>number_of_cyclist_injured</th>\n",
              "      <th>number_of_cyclist_killed</th>\n",
              "      <th>number_of_motorist_injured</th>\n",
              "      <th>number_of_motorist_killed</th>\n",
              "      <th>contributing_factor_vehicle_1</th>\n",
              "      <th>contributing_factor_vehicle_2</th>\n",
              "      <th>contributing_factor_vehicle_3</th>\n",
              "      <th>contributing_factor_vehicle_4</th>\n",
              "      <th>contributing_factor_vehicle_5</th>\n",
              "      <th>collision_id</th>\n",
              "      <th>vehicle_type_code1</th>\n",
              "      <th>vehicle_type_code2</th>\n",
              "      <th>vehicle_type_code_3</th>\n",
              "      <th>vehicle_type_code_4</th>\n",
              "      <th>vehicle_type_code_5</th>\n",
              "    </tr>\n",
              "  </thead>\n",
              "  <tbody>\n",
              "    <tr>\n",
              "      <th>0</th>\n",
              "      <td>2013-06-30T00:00:00.000</td>\n",
              "      <td>16:40</td>\n",
              "      <td>NaN</td>\n",
              "      <td>NaN</td>\n",
              "      <td>NaN</td>\n",
              "      <td>NaN</td>\n",
              "      <td>NaN</td>\n",
              "      <td>NaN</td>\n",
              "      <td>NaN</td>\n",
              "      <td>NaN</td>\n",
              "      <td>2.0</td>\n",
              "      <td>0.0</td>\n",
              "      <td>0</td>\n",
              "      <td>0</td>\n",
              "      <td>0</td>\n",
              "      <td>0</td>\n",
              "      <td>2</td>\n",
              "      <td>0</td>\n",
              "      <td>Fatigued/Drowsy</td>\n",
              "      <td>Unspecified</td>\n",
              "      <td>NaN</td>\n",
              "      <td>NaN</td>\n",
              "      <td>NaN</td>\n",
              "      <td>2919091</td>\n",
              "      <td>SUV</td>\n",
              "      <td>SPORT UTILITY / STATION WAGON</td>\n",
              "      <td>NaN</td>\n",
              "      <td>NaN</td>\n",
              "      <td>NaN</td>\n",
              "    </tr>\n",
              "    <tr>\n",
              "      <th>1</th>\n",
              "      <td>2019-05-20T00:00:00.000</td>\n",
              "      <td>17:40</td>\n",
              "      <td>NaN</td>\n",
              "      <td>NaN</td>\n",
              "      <td>NaN</td>\n",
              "      <td>NaN</td>\n",
              "      <td>NaN</td>\n",
              "      <td>AMBOY ROAD</td>\n",
              "      <td>TIMBER RIDGE DRIVE</td>\n",
              "      <td>NaN</td>\n",
              "      <td>1.0</td>\n",
              "      <td>0.0</td>\n",
              "      <td>0</td>\n",
              "      <td>0</td>\n",
              "      <td>0</td>\n",
              "      <td>0</td>\n",
              "      <td>1</td>\n",
              "      <td>0</td>\n",
              "      <td>Unsafe Lane Changing</td>\n",
              "      <td>Unsafe Lane Changing</td>\n",
              "      <td>NaN</td>\n",
              "      <td>NaN</td>\n",
              "      <td>NaN</td>\n",
              "      <td>4135542</td>\n",
              "      <td>Motorcycle</td>\n",
              "      <td>Sedan</td>\n",
              "      <td>NaN</td>\n",
              "      <td>NaN</td>\n",
              "      <td>NaN</td>\n",
              "    </tr>\n",
              "    <tr>\n",
              "      <th>2</th>\n",
              "      <td>2014-12-12T00:00:00.000</td>\n",
              "      <td>21:32</td>\n",
              "      <td>NaN</td>\n",
              "      <td>NaN</td>\n",
              "      <td>NaN</td>\n",
              "      <td>NaN</td>\n",
              "      <td>NaN</td>\n",
              "      <td>NaN</td>\n",
              "      <td>NaN</td>\n",
              "      <td>NaN</td>\n",
              "      <td>0.0</td>\n",
              "      <td>0.0</td>\n",
              "      <td>0</td>\n",
              "      <td>0</td>\n",
              "      <td>0</td>\n",
              "      <td>0</td>\n",
              "      <td>0</td>\n",
              "      <td>0</td>\n",
              "      <td>Lost Consciousness</td>\n",
              "      <td>Unspecified</td>\n",
              "      <td>NaN</td>\n",
              "      <td>NaN</td>\n",
              "      <td>NaN</td>\n",
              "      <td>3136004</td>\n",
              "      <td>PASSENGER VEHICLE</td>\n",
              "      <td>LARGE COM VEH(6 OR MORE TIRES)</td>\n",
              "      <td>NaN</td>\n",
              "      <td>NaN</td>\n",
              "      <td>NaN</td>\n",
              "    </tr>\n",
              "    <tr>\n",
              "      <th>3</th>\n",
              "      <td>2018-09-14T00:00:00.000</td>\n",
              "      <td>21:54</td>\n",
              "      <td>BRONX</td>\n",
              "      <td>10472.0</td>\n",
              "      <td>NaN</td>\n",
              "      <td>NaN</td>\n",
              "      <td>NaN</td>\n",
              "      <td>CROSS BRONX EXPWY SERVICE ROAD</td>\n",
              "      <td>CROES AVENUE</td>\n",
              "      <td>NaN</td>\n",
              "      <td>0.0</td>\n",
              "      <td>0.0</td>\n",
              "      <td>0</td>\n",
              "      <td>0</td>\n",
              "      <td>0</td>\n",
              "      <td>0</td>\n",
              "      <td>0</td>\n",
              "      <td>0</td>\n",
              "      <td>Unsafe Lane Changing</td>\n",
              "      <td>Following Too Closely</td>\n",
              "      <td>NaN</td>\n",
              "      <td>NaN</td>\n",
              "      <td>NaN</td>\n",
              "      <td>3981591</td>\n",
              "      <td>Sedan</td>\n",
              "      <td>Sedan</td>\n",
              "      <td>NaN</td>\n",
              "      <td>NaN</td>\n",
              "      <td>NaN</td>\n",
              "    </tr>\n",
              "    <tr>\n",
              "      <th>4</th>\n",
              "      <td>2012-07-01T00:00:00.000</td>\n",
              "      <td>9:57</td>\n",
              "      <td>MANHATTAN</td>\n",
              "      <td>10065.0</td>\n",
              "      <td>40.765242</td>\n",
              "      <td>-73.957868</td>\n",
              "      <td>POINT (-73.9578679 40.7652424)</td>\n",
              "      <td>1 AVENUE</td>\n",
              "      <td>EAST 68 STREET</td>\n",
              "      <td>NaN</td>\n",
              "      <td>0.0</td>\n",
              "      <td>0.0</td>\n",
              "      <td>0</td>\n",
              "      <td>0</td>\n",
              "      <td>0</td>\n",
              "      <td>0</td>\n",
              "      <td>0</td>\n",
              "      <td>0</td>\n",
              "      <td>Other Vehicular</td>\n",
              "      <td>Other Vehicular</td>\n",
              "      <td>NaN</td>\n",
              "      <td>NaN</td>\n",
              "      <td>NaN</td>\n",
              "      <td>44907</td>\n",
              "      <td>PASSENGER VEHICLE</td>\n",
              "      <td>TAXI</td>\n",
              "      <td>NaN</td>\n",
              "      <td>NaN</td>\n",
              "      <td>NaN</td>\n",
              "    </tr>\n",
              "    <tr>\n",
              "      <th>...</th>\n",
              "      <td>...</td>\n",
              "      <td>...</td>\n",
              "      <td>...</td>\n",
              "      <td>...</td>\n",
              "      <td>...</td>\n",
              "      <td>...</td>\n",
              "      <td>...</td>\n",
              "      <td>...</td>\n",
              "      <td>...</td>\n",
              "      <td>...</td>\n",
              "      <td>...</td>\n",
              "      <td>...</td>\n",
              "      <td>...</td>\n",
              "      <td>...</td>\n",
              "      <td>...</td>\n",
              "      <td>...</td>\n",
              "      <td>...</td>\n",
              "      <td>...</td>\n",
              "      <td>...</td>\n",
              "      <td>...</td>\n",
              "      <td>...</td>\n",
              "      <td>...</td>\n",
              "      <td>...</td>\n",
              "      <td>...</td>\n",
              "      <td>...</td>\n",
              "      <td>...</td>\n",
              "      <td>...</td>\n",
              "      <td>...</td>\n",
              "      <td>...</td>\n",
              "    </tr>\n",
              "    <tr>\n",
              "      <th>49995</th>\n",
              "      <td>2019-09-24T00:00:00.000</td>\n",
              "      <td>10:30</td>\n",
              "      <td>QUEENS</td>\n",
              "      <td>11357.0</td>\n",
              "      <td>40.794506</td>\n",
              "      <td>-73.804130</td>\n",
              "      <td>POINT (-73.80413 40.794506)</td>\n",
              "      <td>POWELLS COVE BOULEVARD</td>\n",
              "      <td>157 STREET</td>\n",
              "      <td>NaN</td>\n",
              "      <td>1.0</td>\n",
              "      <td>0.0</td>\n",
              "      <td>0</td>\n",
              "      <td>0</td>\n",
              "      <td>0</td>\n",
              "      <td>0</td>\n",
              "      <td>1</td>\n",
              "      <td>0</td>\n",
              "      <td>Failure to Yield Right-of-Way</td>\n",
              "      <td>Unspecified</td>\n",
              "      <td>NaN</td>\n",
              "      <td>NaN</td>\n",
              "      <td>NaN</td>\n",
              "      <td>4211643</td>\n",
              "      <td>Sedan</td>\n",
              "      <td>Sedan</td>\n",
              "      <td>NaN</td>\n",
              "      <td>NaN</td>\n",
              "      <td>NaN</td>\n",
              "    </tr>\n",
              "    <tr>\n",
              "      <th>49996</th>\n",
              "      <td>2019-10-04T00:00:00.000</td>\n",
              "      <td>0:35</td>\n",
              "      <td>NaN</td>\n",
              "      <td>NaN</td>\n",
              "      <td>40.804832</td>\n",
              "      <td>-73.966230</td>\n",
              "      <td>POINT (-73.96623 40.804832)</td>\n",
              "      <td>BROADWAY</td>\n",
              "      <td>NaN</td>\n",
              "      <td>NaN</td>\n",
              "      <td>0.0</td>\n",
              "      <td>0.0</td>\n",
              "      <td>0</td>\n",
              "      <td>0</td>\n",
              "      <td>0</td>\n",
              "      <td>0</td>\n",
              "      <td>0</td>\n",
              "      <td>0</td>\n",
              "      <td>Turning Improperly</td>\n",
              "      <td>Unspecified</td>\n",
              "      <td>NaN</td>\n",
              "      <td>NaN</td>\n",
              "      <td>NaN</td>\n",
              "      <td>4217455</td>\n",
              "      <td>Taxi</td>\n",
              "      <td>Sedan</td>\n",
              "      <td>NaN</td>\n",
              "      <td>NaN</td>\n",
              "      <td>NaN</td>\n",
              "    </tr>\n",
              "    <tr>\n",
              "      <th>49997</th>\n",
              "      <td>2019-09-18T00:00:00.000</td>\n",
              "      <td>12:00</td>\n",
              "      <td>BROOKLYN</td>\n",
              "      <td>11206.0</td>\n",
              "      <td>40.701520</td>\n",
              "      <td>-73.943230</td>\n",
              "      <td>POINT (-73.94323 40.70152)</td>\n",
              "      <td>BROADWAY</td>\n",
              "      <td>DEBEVOISE STREET</td>\n",
              "      <td>NaN</td>\n",
              "      <td>1.0</td>\n",
              "      <td>0.0</td>\n",
              "      <td>0</td>\n",
              "      <td>0</td>\n",
              "      <td>1</td>\n",
              "      <td>0</td>\n",
              "      <td>0</td>\n",
              "      <td>0</td>\n",
              "      <td>Backing Unsafely</td>\n",
              "      <td>Unspecified</td>\n",
              "      <td>NaN</td>\n",
              "      <td>NaN</td>\n",
              "      <td>NaN</td>\n",
              "      <td>4208511</td>\n",
              "      <td>SUV</td>\n",
              "      <td>Bike</td>\n",
              "      <td>NaN</td>\n",
              "      <td>NaN</td>\n",
              "      <td>NaN</td>\n",
              "    </tr>\n",
              "    <tr>\n",
              "      <th>49998</th>\n",
              "      <td>2019-10-02T00:00:00.000</td>\n",
              "      <td>14:30</td>\n",
              "      <td>QUEENS</td>\n",
              "      <td>11432.0</td>\n",
              "      <td>40.705200</td>\n",
              "      <td>-73.799286</td>\n",
              "      <td>POINT (-73.799286 40.7052)</td>\n",
              "      <td>NaN</td>\n",
              "      <td>NaN</td>\n",
              "      <td>90-14     161 STREET</td>\n",
              "      <td>1.0</td>\n",
              "      <td>0.0</td>\n",
              "      <td>1</td>\n",
              "      <td>0</td>\n",
              "      <td>0</td>\n",
              "      <td>0</td>\n",
              "      <td>0</td>\n",
              "      <td>0</td>\n",
              "      <td>Backing Unsafely</td>\n",
              "      <td>NaN</td>\n",
              "      <td>NaN</td>\n",
              "      <td>NaN</td>\n",
              "      <td>NaN</td>\n",
              "      <td>4216443</td>\n",
              "      <td>Van</td>\n",
              "      <td>NaN</td>\n",
              "      <td>NaN</td>\n",
              "      <td>NaN</td>\n",
              "      <td>NaN</td>\n",
              "    </tr>\n",
              "    <tr>\n",
              "      <th>49999</th>\n",
              "      <td>2019-09-15T00:00:00.000</td>\n",
              "      <td>20:50</td>\n",
              "      <td>MANHATTAN</td>\n",
              "      <td>10010.0</td>\n",
              "      <td>40.739930</td>\n",
              "      <td>-73.985780</td>\n",
              "      <td>POINT (-73.98578 40.73993)</td>\n",
              "      <td>NaN</td>\n",
              "      <td>NaN</td>\n",
              "      <td>110       EAST 23 STREET</td>\n",
              "      <td>0.0</td>\n",
              "      <td>0.0</td>\n",
              "      <td>0</td>\n",
              "      <td>0</td>\n",
              "      <td>0</td>\n",
              "      <td>0</td>\n",
              "      <td>0</td>\n",
              "      <td>0</td>\n",
              "      <td>Following Too Closely</td>\n",
              "      <td>Unspecified</td>\n",
              "      <td>NaN</td>\n",
              "      <td>NaN</td>\n",
              "      <td>NaN</td>\n",
              "      <td>4206123</td>\n",
              "      <td>SUV</td>\n",
              "      <td>Sedan</td>\n",
              "      <td>NaN</td>\n",
              "      <td>NaN</td>\n",
              "      <td>NaN</td>\n",
              "    </tr>\n",
              "  </tbody>\n",
              "</table>\n",
              "<p>50000 rows × 29 columns</p>\n",
              "</div>"
            ],
            "text/plain": [
              "                          date   time  ... vehicle_type_code_4  vehicle_type_code_5\n",
              "0      2013-06-30T00:00:00.000  16:40  ...                 NaN                  NaN\n",
              "1      2019-05-20T00:00:00.000  17:40  ...                 NaN                  NaN\n",
              "2      2014-12-12T00:00:00.000  21:32  ...                 NaN                  NaN\n",
              "3      2018-09-14T00:00:00.000  21:54  ...                 NaN                  NaN\n",
              "4      2012-07-01T00:00:00.000   9:57  ...                 NaN                  NaN\n",
              "...                        ...    ...  ...                 ...                  ...\n",
              "49995  2019-09-24T00:00:00.000  10:30  ...                 NaN                  NaN\n",
              "49996  2019-10-04T00:00:00.000   0:35  ...                 NaN                  NaN\n",
              "49997  2019-09-18T00:00:00.000  12:00  ...                 NaN                  NaN\n",
              "49998  2019-10-02T00:00:00.000  14:30  ...                 NaN                  NaN\n",
              "49999  2019-09-15T00:00:00.000  20:50  ...                 NaN                  NaN\n",
              "\n",
              "[50000 rows x 29 columns]"
            ]
          },
          "metadata": {
            "tags": []
          },
          "execution_count": 158
        }
      ]
    },
    {
      "cell_type": "markdown",
      "metadata": {
        "id": "gU1wfNJU8VHe",
        "colab_type": "text"
      },
      "source": [
        "Now we relook at the numbers of vehicles involved in crashes and we see the new category SUV shows in the count first. Now with the combined category, the top five vehicles involved in crashes are SUV, Sedan, Passenger Vehicle, Taxi and  Pick_up Truck.. "
      ]
    },
    {
      "cell_type": "code",
      "metadata": {
        "id": "QBbsuwdO7ge7",
        "colab_type": "code",
        "colab": {
          "base_uri": "https://localhost:8080/",
          "height": 221
        },
        "outputId": "d1c4422e-d53b-4e57-e033-3792489d9dbe"
      },
      "source": [
        "mv_data_vehicle_df = mv_data['vehicle_type_code1'].value_counts()\n",
        "mv_data_vehicle_df"
      ],
      "execution_count": 159,
      "outputs": [
        {
          "output_type": "execute_result",
          "data": {
            "text/plain": [
              "SUV                           17934\n",
              "Sedan                         16196\n",
              "PASSENGER VEHICLE              6475\n",
              "Taxi                           1735\n",
              "Pick-up Truck                  1124\n",
              "                              ...  \n",
              "Semi-                             1\n",
              "BOX                               1\n",
              "Pickup with mounted Camper        1\n",
              "Pick-                             1\n",
              "deliv                             1\n",
              "Name: vehicle_type_code1, Length: 214, dtype: int64"
            ]
          },
          "metadata": {
            "tags": []
          },
          "execution_count": 159
        }
      ]
    },
    {
      "cell_type": "code",
      "metadata": {
        "id": "55VvZoFe6qZQ",
        "colab_type": "code",
        "colab": {}
      },
      "source": [
        "new_mv_data1 = mv_data.drop(columns = [('vehicle_type_code1')])"
      ],
      "execution_count": 0,
      "outputs": []
    },
    {
      "cell_type": "markdown",
      "metadata": {
        "id": "ktDA0QrSlB49",
        "colab_type": "text"
      },
      "source": [
        "Now we'll look at the crashes to see what factor contributed first to the crash by each borough. We select out these columns and put into a dataframe to look at the information."
      ]
    },
    {
      "cell_type": "code",
      "metadata": {
        "id": "oygpt2_2SHcK",
        "colab_type": "code",
        "colab": {}
      },
      "source": [
        "look_mv_data = mv_data.loc[:, ['borough', 'contributing_factor_vehicle_1']]"
      ],
      "execution_count": 0,
      "outputs": []
    },
    {
      "cell_type": "code",
      "metadata": {
        "id": "mAsIU1zrSYcw",
        "colab_type": "code",
        "outputId": "93de1e3f-7063-47ec-a40e-4eb98dd2f5ca",
        "colab": {
          "base_uri": "https://localhost:8080/",
          "height": 1000
        }
      },
      "source": [
        "look_mv_data.head(60)"
      ],
      "execution_count": 161,
      "outputs": [
        {
          "output_type": "execute_result",
          "data": {
            "text/html": [
              "<div>\n",
              "<style scoped>\n",
              "    .dataframe tbody tr th:only-of-type {\n",
              "        vertical-align: middle;\n",
              "    }\n",
              "\n",
              "    .dataframe tbody tr th {\n",
              "        vertical-align: top;\n",
              "    }\n",
              "\n",
              "    .dataframe thead th {\n",
              "        text-align: right;\n",
              "    }\n",
              "</style>\n",
              "<table border=\"1\" class=\"dataframe\">\n",
              "  <thead>\n",
              "    <tr style=\"text-align: right;\">\n",
              "      <th></th>\n",
              "      <th>borough</th>\n",
              "      <th>contributing_factor_vehicle_1</th>\n",
              "    </tr>\n",
              "  </thead>\n",
              "  <tbody>\n",
              "    <tr>\n",
              "      <th>0</th>\n",
              "      <td>NaN</td>\n",
              "      <td>Fatigued/Drowsy</td>\n",
              "    </tr>\n",
              "    <tr>\n",
              "      <th>1</th>\n",
              "      <td>NaN</td>\n",
              "      <td>Unsafe Lane Changing</td>\n",
              "    </tr>\n",
              "    <tr>\n",
              "      <th>2</th>\n",
              "      <td>NaN</td>\n",
              "      <td>Lost Consciousness</td>\n",
              "    </tr>\n",
              "    <tr>\n",
              "      <th>3</th>\n",
              "      <td>BRONX</td>\n",
              "      <td>Unsafe Lane Changing</td>\n",
              "    </tr>\n",
              "    <tr>\n",
              "      <th>4</th>\n",
              "      <td>MANHATTAN</td>\n",
              "      <td>Other Vehicular</td>\n",
              "    </tr>\n",
              "    <tr>\n",
              "      <th>5</th>\n",
              "      <td>BROOKLYN</td>\n",
              "      <td>Unspecified</td>\n",
              "    </tr>\n",
              "    <tr>\n",
              "      <th>6</th>\n",
              "      <td>BRONX</td>\n",
              "      <td>Backing Unsafely</td>\n",
              "    </tr>\n",
              "    <tr>\n",
              "      <th>7</th>\n",
              "      <td>BROOKLYN</td>\n",
              "      <td>Unspecified</td>\n",
              "    </tr>\n",
              "    <tr>\n",
              "      <th>8</th>\n",
              "      <td>BRONX</td>\n",
              "      <td>Glare</td>\n",
              "    </tr>\n",
              "    <tr>\n",
              "      <th>9</th>\n",
              "      <td>QUEENS</td>\n",
              "      <td>Unspecified</td>\n",
              "    </tr>\n",
              "    <tr>\n",
              "      <th>10</th>\n",
              "      <td>QUEENS</td>\n",
              "      <td>Unspecified</td>\n",
              "    </tr>\n",
              "    <tr>\n",
              "      <th>11</th>\n",
              "      <td>NaN</td>\n",
              "      <td>Driver Inattention/Distraction</td>\n",
              "    </tr>\n",
              "    <tr>\n",
              "      <th>12</th>\n",
              "      <td>BROOKLYN</td>\n",
              "      <td>Unspecified</td>\n",
              "    </tr>\n",
              "    <tr>\n",
              "      <th>13</th>\n",
              "      <td>MANHATTAN</td>\n",
              "      <td>Driver Inattention/Distraction</td>\n",
              "    </tr>\n",
              "    <tr>\n",
              "      <th>14</th>\n",
              "      <td>QUEENS</td>\n",
              "      <td>Unspecified</td>\n",
              "    </tr>\n",
              "    <tr>\n",
              "      <th>15</th>\n",
              "      <td>NaN</td>\n",
              "      <td>Unspecified</td>\n",
              "    </tr>\n",
              "    <tr>\n",
              "      <th>16</th>\n",
              "      <td>BROOKLYN</td>\n",
              "      <td>Driver Inattention/Distraction</td>\n",
              "    </tr>\n",
              "    <tr>\n",
              "      <th>17</th>\n",
              "      <td>NaN</td>\n",
              "      <td>Unspecified</td>\n",
              "    </tr>\n",
              "    <tr>\n",
              "      <th>18</th>\n",
              "      <td>NaN</td>\n",
              "      <td>Traffic Control Disregarded</td>\n",
              "    </tr>\n",
              "    <tr>\n",
              "      <th>19</th>\n",
              "      <td>BRONX</td>\n",
              "      <td>Unspecified</td>\n",
              "    </tr>\n",
              "    <tr>\n",
              "      <th>20</th>\n",
              "      <td>NaN</td>\n",
              "      <td>Fatigued/Drowsy</td>\n",
              "    </tr>\n",
              "    <tr>\n",
              "      <th>21</th>\n",
              "      <td>QUEENS</td>\n",
              "      <td>Unspecified</td>\n",
              "    </tr>\n",
              "    <tr>\n",
              "      <th>22</th>\n",
              "      <td>BROOKLYN</td>\n",
              "      <td>Unspecified</td>\n",
              "    </tr>\n",
              "    <tr>\n",
              "      <th>23</th>\n",
              "      <td>MANHATTAN</td>\n",
              "      <td>Illness</td>\n",
              "    </tr>\n",
              "    <tr>\n",
              "      <th>24</th>\n",
              "      <td>STATEN ISLAND</td>\n",
              "      <td>Unspecified</td>\n",
              "    </tr>\n",
              "    <tr>\n",
              "      <th>25</th>\n",
              "      <td>BROOKLYN</td>\n",
              "      <td>Unspecified</td>\n",
              "    </tr>\n",
              "    <tr>\n",
              "      <th>26</th>\n",
              "      <td>QUEENS</td>\n",
              "      <td>Unspecified</td>\n",
              "    </tr>\n",
              "    <tr>\n",
              "      <th>27</th>\n",
              "      <td>BRONX</td>\n",
              "      <td>Driver Inattention/Distraction</td>\n",
              "    </tr>\n",
              "    <tr>\n",
              "      <th>28</th>\n",
              "      <td>MANHATTAN</td>\n",
              "      <td>Driver Inattention/Distraction</td>\n",
              "    </tr>\n",
              "    <tr>\n",
              "      <th>29</th>\n",
              "      <td>NaN</td>\n",
              "      <td>Unspecified</td>\n",
              "    </tr>\n",
              "    <tr>\n",
              "      <th>30</th>\n",
              "      <td>BROOKLYN</td>\n",
              "      <td>Unspecified</td>\n",
              "    </tr>\n",
              "    <tr>\n",
              "      <th>31</th>\n",
              "      <td>BROOKLYN</td>\n",
              "      <td>Unspecified</td>\n",
              "    </tr>\n",
              "    <tr>\n",
              "      <th>32</th>\n",
              "      <td>BROOKLYN</td>\n",
              "      <td>Unspecified</td>\n",
              "    </tr>\n",
              "    <tr>\n",
              "      <th>33</th>\n",
              "      <td>BROOKLYN</td>\n",
              "      <td>Unspecified</td>\n",
              "    </tr>\n",
              "    <tr>\n",
              "      <th>34</th>\n",
              "      <td>QUEENS</td>\n",
              "      <td>Unspecified</td>\n",
              "    </tr>\n",
              "    <tr>\n",
              "      <th>35</th>\n",
              "      <td>NaN</td>\n",
              "      <td>Unspecified</td>\n",
              "    </tr>\n",
              "    <tr>\n",
              "      <th>36</th>\n",
              "      <td>QUEENS</td>\n",
              "      <td>Unspecified</td>\n",
              "    </tr>\n",
              "    <tr>\n",
              "      <th>37</th>\n",
              "      <td>QUEENS</td>\n",
              "      <td>Unspecified</td>\n",
              "    </tr>\n",
              "    <tr>\n",
              "      <th>38</th>\n",
              "      <td>QUEENS</td>\n",
              "      <td>Unspecified</td>\n",
              "    </tr>\n",
              "    <tr>\n",
              "      <th>39</th>\n",
              "      <td>QUEENS</td>\n",
              "      <td>View Obstructed/Limited</td>\n",
              "    </tr>\n",
              "    <tr>\n",
              "      <th>40</th>\n",
              "      <td>MANHATTAN</td>\n",
              "      <td>Driver Inexperience</td>\n",
              "    </tr>\n",
              "    <tr>\n",
              "      <th>41</th>\n",
              "      <td>NaN</td>\n",
              "      <td>Driver Inattention/Distraction</td>\n",
              "    </tr>\n",
              "    <tr>\n",
              "      <th>42</th>\n",
              "      <td>QUEENS</td>\n",
              "      <td>Failure to Keep Right</td>\n",
              "    </tr>\n",
              "    <tr>\n",
              "      <th>43</th>\n",
              "      <td>QUEENS</td>\n",
              "      <td>Unspecified</td>\n",
              "    </tr>\n",
              "    <tr>\n",
              "      <th>44</th>\n",
              "      <td>BRONX</td>\n",
              "      <td>Unspecified</td>\n",
              "    </tr>\n",
              "    <tr>\n",
              "      <th>45</th>\n",
              "      <td>NaN</td>\n",
              "      <td>Following Too Closely</td>\n",
              "    </tr>\n",
              "    <tr>\n",
              "      <th>46</th>\n",
              "      <td>NaN</td>\n",
              "      <td>Unspecified</td>\n",
              "    </tr>\n",
              "    <tr>\n",
              "      <th>47</th>\n",
              "      <td>NaN</td>\n",
              "      <td>Driver Inattention/Distraction</td>\n",
              "    </tr>\n",
              "    <tr>\n",
              "      <th>48</th>\n",
              "      <td>BRONX</td>\n",
              "      <td>Backing Unsafely</td>\n",
              "    </tr>\n",
              "    <tr>\n",
              "      <th>49</th>\n",
              "      <td>NaN</td>\n",
              "      <td>Unspecified</td>\n",
              "    </tr>\n",
              "    <tr>\n",
              "      <th>50</th>\n",
              "      <td>BROOKLYN</td>\n",
              "      <td>Unspecified</td>\n",
              "    </tr>\n",
              "    <tr>\n",
              "      <th>51</th>\n",
              "      <td>NaN</td>\n",
              "      <td>Passing Too Closely</td>\n",
              "    </tr>\n",
              "    <tr>\n",
              "      <th>52</th>\n",
              "      <td>NaN</td>\n",
              "      <td>Failure to Yield Right-of-Way</td>\n",
              "    </tr>\n",
              "    <tr>\n",
              "      <th>53</th>\n",
              "      <td>MANHATTAN</td>\n",
              "      <td>Unsafe Speed</td>\n",
              "    </tr>\n",
              "    <tr>\n",
              "      <th>54</th>\n",
              "      <td>MANHATTAN</td>\n",
              "      <td>Following Too Closely</td>\n",
              "    </tr>\n",
              "    <tr>\n",
              "      <th>55</th>\n",
              "      <td>NaN</td>\n",
              "      <td>Unspecified</td>\n",
              "    </tr>\n",
              "    <tr>\n",
              "      <th>56</th>\n",
              "      <td>NaN</td>\n",
              "      <td>Oversized Vehicle</td>\n",
              "    </tr>\n",
              "    <tr>\n",
              "      <th>57</th>\n",
              "      <td>MANHATTAN</td>\n",
              "      <td>Unspecified</td>\n",
              "    </tr>\n",
              "    <tr>\n",
              "      <th>58</th>\n",
              "      <td>NaN</td>\n",
              "      <td>Unspecified</td>\n",
              "    </tr>\n",
              "    <tr>\n",
              "      <th>59</th>\n",
              "      <td>NaN</td>\n",
              "      <td>Following Too Closely</td>\n",
              "    </tr>\n",
              "  </tbody>\n",
              "</table>\n",
              "</div>"
            ],
            "text/plain": [
              "          borough   contributing_factor_vehicle_1\n",
              "0             NaN                 Fatigued/Drowsy\n",
              "1             NaN            Unsafe Lane Changing\n",
              "2             NaN              Lost Consciousness\n",
              "3           BRONX            Unsafe Lane Changing\n",
              "4       MANHATTAN                 Other Vehicular\n",
              "5        BROOKLYN                     Unspecified\n",
              "6           BRONX                Backing Unsafely\n",
              "7        BROOKLYN                     Unspecified\n",
              "8           BRONX                           Glare\n",
              "9          QUEENS                     Unspecified\n",
              "10         QUEENS                     Unspecified\n",
              "11            NaN  Driver Inattention/Distraction\n",
              "12       BROOKLYN                     Unspecified\n",
              "13      MANHATTAN  Driver Inattention/Distraction\n",
              "14         QUEENS                     Unspecified\n",
              "15            NaN                     Unspecified\n",
              "16       BROOKLYN  Driver Inattention/Distraction\n",
              "17            NaN                     Unspecified\n",
              "18            NaN     Traffic Control Disregarded\n",
              "19          BRONX                     Unspecified\n",
              "20            NaN                 Fatigued/Drowsy\n",
              "21         QUEENS                     Unspecified\n",
              "22       BROOKLYN                     Unspecified\n",
              "23      MANHATTAN                         Illness\n",
              "24  STATEN ISLAND                     Unspecified\n",
              "25       BROOKLYN                     Unspecified\n",
              "26         QUEENS                     Unspecified\n",
              "27          BRONX  Driver Inattention/Distraction\n",
              "28      MANHATTAN  Driver Inattention/Distraction\n",
              "29            NaN                     Unspecified\n",
              "30       BROOKLYN                     Unspecified\n",
              "31       BROOKLYN                     Unspecified\n",
              "32       BROOKLYN                     Unspecified\n",
              "33       BROOKLYN                     Unspecified\n",
              "34         QUEENS                     Unspecified\n",
              "35            NaN                     Unspecified\n",
              "36         QUEENS                     Unspecified\n",
              "37         QUEENS                     Unspecified\n",
              "38         QUEENS                     Unspecified\n",
              "39         QUEENS         View Obstructed/Limited\n",
              "40      MANHATTAN             Driver Inexperience\n",
              "41            NaN  Driver Inattention/Distraction\n",
              "42         QUEENS           Failure to Keep Right\n",
              "43         QUEENS                     Unspecified\n",
              "44          BRONX                     Unspecified\n",
              "45            NaN           Following Too Closely\n",
              "46            NaN                     Unspecified\n",
              "47            NaN  Driver Inattention/Distraction\n",
              "48          BRONX                Backing Unsafely\n",
              "49            NaN                     Unspecified\n",
              "50       BROOKLYN                     Unspecified\n",
              "51            NaN             Passing Too Closely\n",
              "52            NaN   Failure to Yield Right-of-Way\n",
              "53      MANHATTAN                    Unsafe Speed\n",
              "54      MANHATTAN           Following Too Closely\n",
              "55            NaN                     Unspecified\n",
              "56            NaN               Oversized Vehicle\n",
              "57      MANHATTAN                     Unspecified\n",
              "58            NaN                     Unspecified\n",
              "59            NaN           Following Too Closely"
            ]
          },
          "metadata": {
            "tags": []
          },
          "execution_count": 161
        }
      ]
    },
    {
      "cell_type": "markdown",
      "metadata": {
        "id": "1q4Y4M8rlTkb",
        "colab_type": "text"
      },
      "source": [
        "I would like to select out for the borough of Queens and look just at this neighborhood for crash data. So, I select only this variable from the borough column and make a dataframe for factor contributing to vehicle crash for neighborhood Queens."
      ]
    },
    {
      "cell_type": "code",
      "metadata": {
        "id": "hudtyrgVAL47",
        "colab_type": "code",
        "outputId": "724aadb2-86e1-4a07-e831-3f025b7cfc83",
        "colab": {
          "base_uri": "https://localhost:8080/",
          "height": 419
        }
      },
      "source": [
        "look_mv_data_df = look_mv_data[look_mv_data.borough == 'QUEENS']\n",
        "look_mv_data_df\n"
      ],
      "execution_count": 162,
      "outputs": [
        {
          "output_type": "execute_result",
          "data": {
            "text/html": [
              "<div>\n",
              "<style scoped>\n",
              "    .dataframe tbody tr th:only-of-type {\n",
              "        vertical-align: middle;\n",
              "    }\n",
              "\n",
              "    .dataframe tbody tr th {\n",
              "        vertical-align: top;\n",
              "    }\n",
              "\n",
              "    .dataframe thead th {\n",
              "        text-align: right;\n",
              "    }\n",
              "</style>\n",
              "<table border=\"1\" class=\"dataframe\">\n",
              "  <thead>\n",
              "    <tr style=\"text-align: right;\">\n",
              "      <th></th>\n",
              "      <th>borough</th>\n",
              "      <th>contributing_factor_vehicle_1</th>\n",
              "    </tr>\n",
              "  </thead>\n",
              "  <tbody>\n",
              "    <tr>\n",
              "      <th>9</th>\n",
              "      <td>QUEENS</td>\n",
              "      <td>Unspecified</td>\n",
              "    </tr>\n",
              "    <tr>\n",
              "      <th>10</th>\n",
              "      <td>QUEENS</td>\n",
              "      <td>Unspecified</td>\n",
              "    </tr>\n",
              "    <tr>\n",
              "      <th>14</th>\n",
              "      <td>QUEENS</td>\n",
              "      <td>Unspecified</td>\n",
              "    </tr>\n",
              "    <tr>\n",
              "      <th>21</th>\n",
              "      <td>QUEENS</td>\n",
              "      <td>Unspecified</td>\n",
              "    </tr>\n",
              "    <tr>\n",
              "      <th>26</th>\n",
              "      <td>QUEENS</td>\n",
              "      <td>Unspecified</td>\n",
              "    </tr>\n",
              "    <tr>\n",
              "      <th>...</th>\n",
              "      <td>...</td>\n",
              "      <td>...</td>\n",
              "    </tr>\n",
              "    <tr>\n",
              "      <th>49957</th>\n",
              "      <td>QUEENS</td>\n",
              "      <td>Driver Inattention/Distraction</td>\n",
              "    </tr>\n",
              "    <tr>\n",
              "      <th>49962</th>\n",
              "      <td>QUEENS</td>\n",
              "      <td>Unspecified</td>\n",
              "    </tr>\n",
              "    <tr>\n",
              "      <th>49981</th>\n",
              "      <td>QUEENS</td>\n",
              "      <td>Driver Inattention/Distraction</td>\n",
              "    </tr>\n",
              "    <tr>\n",
              "      <th>49995</th>\n",
              "      <td>QUEENS</td>\n",
              "      <td>Failure to Yield Right-of-Way</td>\n",
              "    </tr>\n",
              "    <tr>\n",
              "      <th>49998</th>\n",
              "      <td>QUEENS</td>\n",
              "      <td>Backing Unsafely</td>\n",
              "    </tr>\n",
              "  </tbody>\n",
              "</table>\n",
              "<p>8739 rows × 2 columns</p>\n",
              "</div>"
            ],
            "text/plain": [
              "      borough   contributing_factor_vehicle_1\n",
              "9      QUEENS                     Unspecified\n",
              "10     QUEENS                     Unspecified\n",
              "14     QUEENS                     Unspecified\n",
              "21     QUEENS                     Unspecified\n",
              "26     QUEENS                     Unspecified\n",
              "...       ...                             ...\n",
              "49957  QUEENS  Driver Inattention/Distraction\n",
              "49962  QUEENS                     Unspecified\n",
              "49981  QUEENS  Driver Inattention/Distraction\n",
              "49995  QUEENS   Failure to Yield Right-of-Way\n",
              "49998  QUEENS                Backing Unsafely\n",
              "\n",
              "[8739 rows x 2 columns]"
            ]
          },
          "metadata": {
            "tags": []
          },
          "execution_count": 162
        }
      ]
    },
    {
      "cell_type": "markdown",
      "metadata": {
        "id": "7xq-m2O7l0vQ",
        "colab_type": "text"
      },
      "source": [
        "Now I would like to look at crashes by neighborhood and pedestrians involved in crashes. I will make a dataframe for pedestrians injured and pedestrians killed by borough. "
      ]
    },
    {
      "cell_type": "code",
      "metadata": {
        "id": "ZNQvGd2fg2h8",
        "colab_type": "code",
        "colab": {
          "base_uri": "https://localhost:8080/",
          "height": 419
        },
        "outputId": "c055ac69-240e-4b9f-c538-232088e53847"
      },
      "source": [
        "ped_mv_data = mv_data.loc[:, ['borough', 'number_of_pedestrians_injured', 'number_of_pedestrians_killed']]\n",
        "ped_mv_data"
      ],
      "execution_count": 163,
      "outputs": [
        {
          "output_type": "execute_result",
          "data": {
            "text/html": [
              "<div>\n",
              "<style scoped>\n",
              "    .dataframe tbody tr th:only-of-type {\n",
              "        vertical-align: middle;\n",
              "    }\n",
              "\n",
              "    .dataframe tbody tr th {\n",
              "        vertical-align: top;\n",
              "    }\n",
              "\n",
              "    .dataframe thead th {\n",
              "        text-align: right;\n",
              "    }\n",
              "</style>\n",
              "<table border=\"1\" class=\"dataframe\">\n",
              "  <thead>\n",
              "    <tr style=\"text-align: right;\">\n",
              "      <th></th>\n",
              "      <th>borough</th>\n",
              "      <th>number_of_pedestrians_injured</th>\n",
              "      <th>number_of_pedestrians_killed</th>\n",
              "    </tr>\n",
              "  </thead>\n",
              "  <tbody>\n",
              "    <tr>\n",
              "      <th>0</th>\n",
              "      <td>NaN</td>\n",
              "      <td>0</td>\n",
              "      <td>0</td>\n",
              "    </tr>\n",
              "    <tr>\n",
              "      <th>1</th>\n",
              "      <td>NaN</td>\n",
              "      <td>0</td>\n",
              "      <td>0</td>\n",
              "    </tr>\n",
              "    <tr>\n",
              "      <th>2</th>\n",
              "      <td>NaN</td>\n",
              "      <td>0</td>\n",
              "      <td>0</td>\n",
              "    </tr>\n",
              "    <tr>\n",
              "      <th>3</th>\n",
              "      <td>BRONX</td>\n",
              "      <td>0</td>\n",
              "      <td>0</td>\n",
              "    </tr>\n",
              "    <tr>\n",
              "      <th>4</th>\n",
              "      <td>MANHATTAN</td>\n",
              "      <td>0</td>\n",
              "      <td>0</td>\n",
              "    </tr>\n",
              "    <tr>\n",
              "      <th>...</th>\n",
              "      <td>...</td>\n",
              "      <td>...</td>\n",
              "      <td>...</td>\n",
              "    </tr>\n",
              "    <tr>\n",
              "      <th>49995</th>\n",
              "      <td>QUEENS</td>\n",
              "      <td>0</td>\n",
              "      <td>0</td>\n",
              "    </tr>\n",
              "    <tr>\n",
              "      <th>49996</th>\n",
              "      <td>NaN</td>\n",
              "      <td>0</td>\n",
              "      <td>0</td>\n",
              "    </tr>\n",
              "    <tr>\n",
              "      <th>49997</th>\n",
              "      <td>BROOKLYN</td>\n",
              "      <td>0</td>\n",
              "      <td>0</td>\n",
              "    </tr>\n",
              "    <tr>\n",
              "      <th>49998</th>\n",
              "      <td>QUEENS</td>\n",
              "      <td>1</td>\n",
              "      <td>0</td>\n",
              "    </tr>\n",
              "    <tr>\n",
              "      <th>49999</th>\n",
              "      <td>MANHATTAN</td>\n",
              "      <td>0</td>\n",
              "      <td>0</td>\n",
              "    </tr>\n",
              "  </tbody>\n",
              "</table>\n",
              "<p>50000 rows × 3 columns</p>\n",
              "</div>"
            ],
            "text/plain": [
              "         borough  number_of_pedestrians_injured  number_of_pedestrians_killed\n",
              "0            NaN                              0                             0\n",
              "1            NaN                              0                             0\n",
              "2            NaN                              0                             0\n",
              "3          BRONX                              0                             0\n",
              "4      MANHATTAN                              0                             0\n",
              "...          ...                            ...                           ...\n",
              "49995     QUEENS                              0                             0\n",
              "49996        NaN                              0                             0\n",
              "49997   BROOKLYN                              0                             0\n",
              "49998     QUEENS                              1                             0\n",
              "49999  MANHATTAN                              0                             0\n",
              "\n",
              "[50000 rows x 3 columns]"
            ]
          },
          "metadata": {
            "tags": []
          },
          "execution_count": 163
        }
      ]
    },
    {
      "cell_type": "markdown",
      "metadata": {
        "id": "wR8DkzfamRWo",
        "colab_type": "text"
      },
      "source": [
        "Now that we have this data frame, we can see not alot of pedestrians overall were involved in the crashes in any neighborhood. I would like to select for the neighborhood of Queens and see how many pedestrians injured and killed in crashes in this neighborhood. I make a new dataframe selecting only for Queens and these factors. "
      ]
    },
    {
      "cell_type": "code",
      "metadata": {
        "id": "d3JPSNXVb_fI",
        "colab_type": "code",
        "colab": {
          "base_uri": "https://localhost:8080/",
          "height": 419
        },
        "outputId": "c156be97-93a8-4f98-fb09-649d5838c7b7"
      },
      "source": [
        "ped_mv_data_borough = ped_mv_data[ped_mv_data.borough == 'QUEENS']\n",
        "ped_mv_data_borough"
      ],
      "execution_count": 136,
      "outputs": [
        {
          "output_type": "execute_result",
          "data": {
            "text/html": [
              "<div>\n",
              "<style scoped>\n",
              "    .dataframe tbody tr th:only-of-type {\n",
              "        vertical-align: middle;\n",
              "    }\n",
              "\n",
              "    .dataframe tbody tr th {\n",
              "        vertical-align: top;\n",
              "    }\n",
              "\n",
              "    .dataframe thead th {\n",
              "        text-align: right;\n",
              "    }\n",
              "</style>\n",
              "<table border=\"1\" class=\"dataframe\">\n",
              "  <thead>\n",
              "    <tr style=\"text-align: right;\">\n",
              "      <th></th>\n",
              "      <th>borough</th>\n",
              "      <th>number_of_pedestrians_injured</th>\n",
              "      <th>number_of_pedestrians_killed</th>\n",
              "    </tr>\n",
              "  </thead>\n",
              "  <tbody>\n",
              "    <tr>\n",
              "      <th>9</th>\n",
              "      <td>QUEENS</td>\n",
              "      <td>0</td>\n",
              "      <td>0</td>\n",
              "    </tr>\n",
              "    <tr>\n",
              "      <th>10</th>\n",
              "      <td>QUEENS</td>\n",
              "      <td>0</td>\n",
              "      <td>0</td>\n",
              "    </tr>\n",
              "    <tr>\n",
              "      <th>14</th>\n",
              "      <td>QUEENS</td>\n",
              "      <td>0</td>\n",
              "      <td>0</td>\n",
              "    </tr>\n",
              "    <tr>\n",
              "      <th>21</th>\n",
              "      <td>QUEENS</td>\n",
              "      <td>0</td>\n",
              "      <td>0</td>\n",
              "    </tr>\n",
              "    <tr>\n",
              "      <th>26</th>\n",
              "      <td>QUEENS</td>\n",
              "      <td>1</td>\n",
              "      <td>0</td>\n",
              "    </tr>\n",
              "    <tr>\n",
              "      <th>...</th>\n",
              "      <td>...</td>\n",
              "      <td>...</td>\n",
              "      <td>...</td>\n",
              "    </tr>\n",
              "    <tr>\n",
              "      <th>49957</th>\n",
              "      <td>QUEENS</td>\n",
              "      <td>0</td>\n",
              "      <td>0</td>\n",
              "    </tr>\n",
              "    <tr>\n",
              "      <th>49962</th>\n",
              "      <td>QUEENS</td>\n",
              "      <td>0</td>\n",
              "      <td>0</td>\n",
              "    </tr>\n",
              "    <tr>\n",
              "      <th>49981</th>\n",
              "      <td>QUEENS</td>\n",
              "      <td>0</td>\n",
              "      <td>0</td>\n",
              "    </tr>\n",
              "    <tr>\n",
              "      <th>49995</th>\n",
              "      <td>QUEENS</td>\n",
              "      <td>0</td>\n",
              "      <td>0</td>\n",
              "    </tr>\n",
              "    <tr>\n",
              "      <th>49998</th>\n",
              "      <td>QUEENS</td>\n",
              "      <td>1</td>\n",
              "      <td>0</td>\n",
              "    </tr>\n",
              "  </tbody>\n",
              "</table>\n",
              "<p>8739 rows × 3 columns</p>\n",
              "</div>"
            ],
            "text/plain": [
              "      borough  number_of_pedestrians_injured  number_of_pedestrians_killed\n",
              "9      QUEENS                              0                             0\n",
              "10     QUEENS                              0                             0\n",
              "14     QUEENS                              0                             0\n",
              "21     QUEENS                              0                             0\n",
              "26     QUEENS                              1                             0\n",
              "...       ...                            ...                           ...\n",
              "49957  QUEENS                              0                             0\n",
              "49962  QUEENS                              0                             0\n",
              "49981  QUEENS                              0                             0\n",
              "49995  QUEENS                              0                             0\n",
              "49998  QUEENS                              1                             0\n",
              "\n",
              "[8739 rows x 3 columns]"
            ]
          },
          "metadata": {
            "tags": []
          },
          "execution_count": 136
        }
      ]
    },
    {
      "cell_type": "markdown",
      "metadata": {
        "id": "iLHbkPNsmoo8",
        "colab_type": "text"
      },
      "source": [
        "Now I also see again, most pedestrians were neither injured nor killed in crashes in Queens. I want to select out and remove these values, since there are alot of them. I will filter for number of pedestrians injured so that this will be any number above zero. "
      ]
    },
    {
      "cell_type": "code",
      "metadata": {
        "id": "toz8OCo8e-u6",
        "colab_type": "code",
        "colab": {
          "base_uri": "https://localhost:8080/",
          "height": 419
        },
        "outputId": "7b335ba0-58ec-4f70-8dc4-f081cf7e3987"
      },
      "source": [
        "ped_mv_data_borough1 = ped_mv_data_borough[ped_mv_data_borough.number_of_pedestrians_injured != 0]\n",
        "ped_mv_data_borough1"
      ],
      "execution_count": 164,
      "outputs": [
        {
          "output_type": "execute_result",
          "data": {
            "text/html": [
              "<div>\n",
              "<style scoped>\n",
              "    .dataframe tbody tr th:only-of-type {\n",
              "        vertical-align: middle;\n",
              "    }\n",
              "\n",
              "    .dataframe tbody tr th {\n",
              "        vertical-align: top;\n",
              "    }\n",
              "\n",
              "    .dataframe thead th {\n",
              "        text-align: right;\n",
              "    }\n",
              "</style>\n",
              "<table border=\"1\" class=\"dataframe\">\n",
              "  <thead>\n",
              "    <tr style=\"text-align: right;\">\n",
              "      <th></th>\n",
              "      <th>borough</th>\n",
              "      <th>number_of_pedestrians_injured</th>\n",
              "      <th>number_of_pedestrians_killed</th>\n",
              "    </tr>\n",
              "  </thead>\n",
              "  <tbody>\n",
              "    <tr>\n",
              "      <th>26</th>\n",
              "      <td>QUEENS</td>\n",
              "      <td>1</td>\n",
              "      <td>0</td>\n",
              "    </tr>\n",
              "    <tr>\n",
              "      <th>381</th>\n",
              "      <td>QUEENS</td>\n",
              "      <td>1</td>\n",
              "      <td>0</td>\n",
              "    </tr>\n",
              "    <tr>\n",
              "      <th>521</th>\n",
              "      <td>QUEENS</td>\n",
              "      <td>1</td>\n",
              "      <td>0</td>\n",
              "    </tr>\n",
              "    <tr>\n",
              "      <th>1141</th>\n",
              "      <td>QUEENS</td>\n",
              "      <td>1</td>\n",
              "      <td>0</td>\n",
              "    </tr>\n",
              "    <tr>\n",
              "      <th>1282</th>\n",
              "      <td>QUEENS</td>\n",
              "      <td>1</td>\n",
              "      <td>0</td>\n",
              "    </tr>\n",
              "    <tr>\n",
              "      <th>...</th>\n",
              "      <td>...</td>\n",
              "      <td>...</td>\n",
              "      <td>...</td>\n",
              "    </tr>\n",
              "    <tr>\n",
              "      <th>49179</th>\n",
              "      <td>QUEENS</td>\n",
              "      <td>1</td>\n",
              "      <td>0</td>\n",
              "    </tr>\n",
              "    <tr>\n",
              "      <th>49345</th>\n",
              "      <td>QUEENS</td>\n",
              "      <td>1</td>\n",
              "      <td>0</td>\n",
              "    </tr>\n",
              "    <tr>\n",
              "      <th>49392</th>\n",
              "      <td>QUEENS</td>\n",
              "      <td>1</td>\n",
              "      <td>0</td>\n",
              "    </tr>\n",
              "    <tr>\n",
              "      <th>49519</th>\n",
              "      <td>QUEENS</td>\n",
              "      <td>1</td>\n",
              "      <td>0</td>\n",
              "    </tr>\n",
              "    <tr>\n",
              "      <th>49998</th>\n",
              "      <td>QUEENS</td>\n",
              "      <td>1</td>\n",
              "      <td>0</td>\n",
              "    </tr>\n",
              "  </tbody>\n",
              "</table>\n",
              "<p>401 rows × 3 columns</p>\n",
              "</div>"
            ],
            "text/plain": [
              "      borough  number_of_pedestrians_injured  number_of_pedestrians_killed\n",
              "26     QUEENS                              1                             0\n",
              "381    QUEENS                              1                             0\n",
              "521    QUEENS                              1                             0\n",
              "1141   QUEENS                              1                             0\n",
              "1282   QUEENS                              1                             0\n",
              "...       ...                            ...                           ...\n",
              "49179  QUEENS                              1                             0\n",
              "49345  QUEENS                              1                             0\n",
              "49392  QUEENS                              1                             0\n",
              "49519  QUEENS                              1                             0\n",
              "49998  QUEENS                              1                             0\n",
              "\n",
              "[401 rows x 3 columns]"
            ]
          },
          "metadata": {
            "tags": []
          },
          "execution_count": 164
        }
      ]
    },
    {
      "cell_type": "markdown",
      "metadata": {
        "id": "oB17ODACpEd4",
        "colab_type": "text"
      },
      "source": [
        "I would like to see how many pedestrians were injured in each single crash recorded for this neighborhood Queens and pedestrians involved in crashes. I will use value counts to look at this information."
      ]
    },
    {
      "cell_type": "code",
      "metadata": {
        "id": "Bszr3qLKnCBP",
        "colab_type": "code",
        "colab": {
          "base_uri": "https://localhost:8080/",
          "height": 85
        },
        "outputId": "8559ac9b-a1ac-453d-f429-ef1287465785"
      },
      "source": [
        "one_ped_mv_data_borough1 = ped_mv_data_borough1['number_of_pedestrians_injured'].value_counts()\n",
        "one_ped_mv_data_borough1"
      ],
      "execution_count": 165,
      "outputs": [
        {
          "output_type": "execute_result",
          "data": {
            "text/plain": [
              "1    385\n",
              "2     15\n",
              "3      1\n",
              "Name: number_of_pedestrians_injured, dtype: int64"
            ]
          },
          "metadata": {
            "tags": []
          },
          "execution_count": 165
        }
      ]
    },
    {
      "cell_type": "markdown",
      "metadata": {
        "id": "u731ctBdpo5n",
        "colab_type": "text"
      },
      "source": [
        "I can see for the neighborhood Queens, there were 517 recorded events involving 1 pedestrian injured in the crash, 22 events involving 2 pedestrians injured in the crash, and 3 events involving 3 pedestrians injured in the single crash episode. "
      ]
    },
    {
      "cell_type": "markdown",
      "metadata": {
        "id": "fb91PXYnp7ik",
        "colab_type": "text"
      },
      "source": [
        "I will also look to see how many pedestrians were killed in crashes in the borough Queens. This information shows there were no episodes of pedestrians killed in these events as no information is returned on the dataframe. "
      ]
    },
    {
      "cell_type": "code",
      "metadata": {
        "id": "NiuwGw3AgeR0",
        "colab_type": "code",
        "colab": {
          "base_uri": "https://localhost:8080/",
          "height": 49
        },
        "outputId": "ce608efb-a00e-4629-bb2b-0c6f725c7f09"
      },
      "source": [
        "ped_mv_data_borough2 = ped_mv_data_borough1[ped_mv_data_borough1.number_of_pedestrians_killed != 0]\n",
        "ped_mv_data_borough2"
      ],
      "execution_count": 166,
      "outputs": [
        {
          "output_type": "execute_result",
          "data": {
            "text/html": [
              "<div>\n",
              "<style scoped>\n",
              "    .dataframe tbody tr th:only-of-type {\n",
              "        vertical-align: middle;\n",
              "    }\n",
              "\n",
              "    .dataframe tbody tr th {\n",
              "        vertical-align: top;\n",
              "    }\n",
              "\n",
              "    .dataframe thead th {\n",
              "        text-align: right;\n",
              "    }\n",
              "</style>\n",
              "<table border=\"1\" class=\"dataframe\">\n",
              "  <thead>\n",
              "    <tr style=\"text-align: right;\">\n",
              "      <th></th>\n",
              "      <th>borough</th>\n",
              "      <th>number_of_pedestrians_injured</th>\n",
              "      <th>number_of_pedestrians_killed</th>\n",
              "    </tr>\n",
              "  </thead>\n",
              "  <tbody>\n",
              "  </tbody>\n",
              "</table>\n",
              "</div>"
            ],
            "text/plain": [
              "Empty DataFrame\n",
              "Columns: [borough, number_of_pedestrians_injured, number_of_pedestrians_killed]\n",
              "Index: []"
            ]
          },
          "metadata": {
            "tags": []
          },
          "execution_count": 166
        }
      ]
    },
    {
      "cell_type": "markdown",
      "metadata": {
        "id": "KrMAnFHvix-t",
        "colab_type": "text"
      },
      "source": [
        "we can also look at total numbers of pedestrians injured for all boroughs for the crashes recorded. Again, most crashes did not involve pedestrian injuries, the majority of the remaining crash data shows pedestrian injuries involving 1 pedestrian in the crash event. "
      ]
    },
    {
      "cell_type": "code",
      "metadata": {
        "id": "Zns0bAm9YH1J",
        "colab_type": "code",
        "colab": {
          "base_uri": "https://localhost:8080/",
          "height": 136
        },
        "outputId": "796cdfe5-b804-4e75-9456-512da35bb29a"
      },
      "source": [
        "ped_mv_data1 = ped_mv_data['number_of_pedestrians_injured'].value_counts()\n",
        "ped_mv_data1"
      ],
      "execution_count": 167,
      "outputs": [
        {
          "output_type": "execute_result",
          "data": {
            "text/plain": [
              "0    47669\n",
              "1     2255\n",
              "2       67\n",
              "3        5\n",
              "4        3\n",
              "6        1\n",
              "Name: number_of_pedestrians_injured, dtype: int64"
            ]
          },
          "metadata": {
            "tags": []
          },
          "execution_count": 167
        }
      ]
    },
    {
      "cell_type": "markdown",
      "metadata": {
        "id": "hDtnZ5Xjrrge",
        "colab_type": "text"
      },
      "source": [
        "For the data on pedestrian deaths, we can also use value counts to look at how many pedestrians killed in all boroughs. This shows most events in all boroughs did not involve any pedestrian deaths. Of those involving pedestrian deaths, there was only one pedestrian killed per event, and 24 total recorded deaths in all boroughs. "
      ]
    },
    {
      "cell_type": "code",
      "metadata": {
        "id": "JWhNpO88asX1",
        "colab_type": "code",
        "colab": {
          "base_uri": "https://localhost:8080/",
          "height": 85
        },
        "outputId": "95ab3885-0de7-4f3e-8506-9f505d9e5081"
      },
      "source": [
        "ped_mv_data2 = ped_mv_data['number_of_pedestrians_killed'].value_counts()\n",
        "ped_mv_data2"
      ],
      "execution_count": 168,
      "outputs": [
        {
          "output_type": "execute_result",
          "data": {
            "text/plain": [
              "0    49972\n",
              "1       27\n",
              "2        1\n",
              "Name: number_of_pedestrians_killed, dtype: int64"
            ]
          },
          "metadata": {
            "tags": []
          },
          "execution_count": 168
        }
      ]
    },
    {
      "cell_type": "markdown",
      "metadata": {
        "id": "Z6K7CtZFsD1w",
        "colab_type": "text"
      },
      "source": [
        "We also look at the reasons why crashes occured. For these factors, the first contributing factor vehicle 1 we can look at how many of each of these occured for the 50,000 rows data.  "
      ]
    },
    {
      "cell_type": "code",
      "metadata": {
        "id": "C8AR2bUCesie",
        "colab_type": "code",
        "outputId": "1adebb57-3ad3-487c-fc47-9dc4ea170267",
        "colab": {
          "base_uri": "https://localhost:8080/",
          "height": 782
        }
      },
      "source": [
        "reason_counts = look_mv_data_df['contributing_factor_vehicle_1'].value_counts()\n",
        "reason_counts"
      ],
      "execution_count": 169,
      "outputs": [
        {
          "output_type": "execute_result",
          "data": {
            "text/plain": [
              "Driver Inattention/Distraction                           2512\n",
              "Unspecified                                              1911\n",
              "Failure to Yield Right-of-Way                             876\n",
              "Backing Unsafely                                          545\n",
              "Following Too Closely                                     525\n",
              "Passing or Lane Usage Improper                            370\n",
              "Passing Too Closely                                       341\n",
              "Turning Improperly                                        214\n",
              "Unsafe Lane Changing                                      173\n",
              "Traffic Control Disregarded                               148\n",
              "Other Vehicular                                           144\n",
              "Driver Inexperience                                       132\n",
              "Reaction to Uninvolved Vehicle                            122\n",
              "Unsafe Speed                                              115\n",
              "Alcohol Involvement                                        89\n",
              "View Obstructed/Limited                                    89\n",
              "Pedestrian/Bicyclist/Other Pedestrian Error/Confusion      46\n",
              "Oversized Vehicle                                          45\n",
              "Brakes Defective                                           38\n",
              "Aggressive Driving/Road Rage                               37\n",
              "Pavement Slippery                                          22\n",
              "Passenger Distraction                                      22\n",
              "Fell Asleep                                                20\n",
              "Glare                                                      20\n",
              "Outside Car Distraction                                    14\n",
              "Failure to Keep Right                                      13\n",
              "Steering Failure                                           12\n",
              "Obstruction/Debris                                         11\n",
              "Animals Action                                             11\n",
              "Illnes                                                     10\n",
              "Pavement Defective                                         10\n",
              "Fatigued/Drowsy                                             9\n",
              "Lost Consciousness                                          9\n",
              "Driverless/Runaway Vehicle                                  9\n",
              "Tire Failure/Inadequate                                     8\n",
              "Lane Marking Improper/Inadequate                            7\n",
              "Drugs (illegal)                                             6\n",
              "Accelerator Defective                                       5\n",
              "Physical Disability                                         5\n",
              "Using On Board Navigation Device                            3\n",
              "Cell Phone (hand-Held)                                      3\n",
              "Tow Hitch Defective                                         1\n",
              "Traffic Control Device Improper/Non-Working                 1\n",
              "Prescription Medication                                     1\n",
              "Name: contributing_factor_vehicle_1, dtype: int64"
            ]
          },
          "metadata": {
            "tags": []
          },
          "execution_count": 169
        }
      ]
    },
    {
      "cell_type": "markdown",
      "metadata": {
        "id": "jHQcDO2EzOKd",
        "colab_type": "text"
      },
      "source": [
        "I can see in order of count the contribution of each of these factors. I would like to see this as a percentage of the total number of count contributing factors. I start by getting the sum of the count of all the factors"
      ]
    },
    {
      "cell_type": "code",
      "metadata": {
        "id": "B9fX9ksAfp1L",
        "colab_type": "code",
        "outputId": "6d13703f-9cda-4b3d-d68a-19b56088e23f",
        "colab": {
          "base_uri": "https://localhost:8080/",
          "height": 34
        }
      },
      "source": [
        "total_reason_counts = reason_counts.sum()\n",
        "total_reason_counts"
      ],
      "execution_count": 170,
      "outputs": [
        {
          "output_type": "execute_result",
          "data": {
            "text/plain": [
              "8704"
            ]
          },
          "metadata": {
            "tags": []
          },
          "execution_count": 170
        }
      ]
    },
    {
      "cell_type": "markdown",
      "metadata": {
        "id": "JkotB1Oh0jwi",
        "colab_type": "text"
      },
      "source": [
        "I would like to find the percentage that Driver Inattention/Distraction contributes to the reasons for crashes. I start by finding the sum of the counts for Driver Inattention/Distraction and then divide by the total sum and multiply by 100 to find the percentage"
      ]
    },
    {
      "cell_type": "markdown",
      "metadata": {
        "id": "DKCJqGct1DbS",
        "colab_type": "text"
      },
      "source": [
        ""
      ]
    },
    {
      "cell_type": "code",
      "metadata": {
        "id": "_r_UAc63gLnQ",
        "colab_type": "code",
        "outputId": "fde3d002-eaa6-45d4-ed09-900f09a9e0c2",
        "colab": {
          "base_uri": "https://localhost:8080/",
          "height": 34
        }
      },
      "source": [
        "Driver_Inattention_Distraction = reason_counts['Driver Inattention/Distraction']\n",
        "Driver_Inattention_Distraction"
      ],
      "execution_count": 171,
      "outputs": [
        {
          "output_type": "execute_result",
          "data": {
            "text/plain": [
              "2512"
            ]
          },
          "metadata": {
            "tags": []
          },
          "execution_count": 171
        }
      ]
    },
    {
      "cell_type": "markdown",
      "metadata": {
        "id": "igoVY4-8DyCP",
        "colab_type": "text"
      },
      "source": [
        "Now find the percentage by dividing and multiplying"
      ]
    },
    {
      "cell_type": "code",
      "metadata": {
        "id": "eufIYKfohDcl",
        "colab_type": "code",
        "outputId": "0899a3e7-c3ca-4d4b-aaad-758d50af7345",
        "colab": {
          "base_uri": "https://localhost:8080/",
          "height": 782
        }
      },
      "source": [
        "reason_counts1 = reason_counts/total_reason_counts*100\n",
        "reason_counts1"
      ],
      "execution_count": 172,
      "outputs": [
        {
          "output_type": "execute_result",
          "data": {
            "text/plain": [
              "Driver Inattention/Distraction                           28.860294\n",
              "Unspecified                                              21.955423\n",
              "Failure to Yield Right-of-Way                            10.064338\n",
              "Backing Unsafely                                          6.261489\n",
              "Following Too Closely                                     6.031710\n",
              "Passing or Lane Usage Improper                            4.250919\n",
              "Passing Too Closely                                       3.917739\n",
              "Turning Improperly                                        2.458640\n",
              "Unsafe Lane Changing                                      1.987592\n",
              "Traffic Control Disregarded                               1.700368\n",
              "Other Vehicular                                           1.654412\n",
              "Driver Inexperience                                       1.516544\n",
              "Reaction to Uninvolved Vehicle                            1.401654\n",
              "Unsafe Speed                                              1.321232\n",
              "Alcohol Involvement                                       1.022518\n",
              "View Obstructed/Limited                                   1.022518\n",
              "Pedestrian/Bicyclist/Other Pedestrian Error/Confusion     0.528493\n",
              "Oversized Vehicle                                         0.517004\n",
              "Brakes Defective                                          0.436581\n",
              "Aggressive Driving/Road Rage                              0.425092\n",
              "Pavement Slippery                                         0.252757\n",
              "Passenger Distraction                                     0.252757\n",
              "Fell Asleep                                               0.229779\n",
              "Glare                                                     0.229779\n",
              "Outside Car Distraction                                   0.160846\n",
              "Failure to Keep Right                                     0.149357\n",
              "Steering Failure                                          0.137868\n",
              "Obstruction/Debris                                        0.126379\n",
              "Animals Action                                            0.126379\n",
              "Illnes                                                    0.114890\n",
              "Pavement Defective                                        0.114890\n",
              "Fatigued/Drowsy                                           0.103401\n",
              "Lost Consciousness                                        0.103401\n",
              "Driverless/Runaway Vehicle                                0.103401\n",
              "Tire Failure/Inadequate                                   0.091912\n",
              "Lane Marking Improper/Inadequate                          0.080423\n",
              "Drugs (illegal)                                           0.068934\n",
              "Accelerator Defective                                     0.057445\n",
              "Physical Disability                                       0.057445\n",
              "Using On Board Navigation Device                          0.034467\n",
              "Cell Phone (hand-Held)                                    0.034467\n",
              "Tow Hitch Defective                                       0.011489\n",
              "Traffic Control Device Improper/Non-Working               0.011489\n",
              "Prescription Medication                                   0.011489\n",
              "Name: contributing_factor_vehicle_1, dtype: float64"
            ]
          },
          "metadata": {
            "tags": []
          },
          "execution_count": 172
        }
      ]
    },
    {
      "cell_type": "code",
      "metadata": {
        "id": "sJv7SQfKhD-O",
        "colab_type": "code",
        "colab": {
          "base_uri": "https://localhost:8080/",
          "height": 34
        },
        "outputId": "6397360e-df83-40be-d391-07dc2d40b433"
      },
      "source": [
        "Driver_Inattention_Distraction"
      ],
      "execution_count": 173,
      "outputs": [
        {
          "output_type": "execute_result",
          "data": {
            "text/plain": [
              "2512"
            ]
          },
          "metadata": {
            "tags": []
          },
          "execution_count": 173
        }
      ]
    },
    {
      "cell_type": "markdown",
      "metadata": {
        "id": "Nsl6qOKBEjOI",
        "colab_type": "text"
      },
      "source": [
        "To look at the contribution of borough to the crash with vehicle type, select for these factors and make into a dataframe as below. "
      ]
    },
    {
      "cell_type": "code",
      "metadata": {
        "id": "5uTexS1K3-iJ",
        "colab_type": "code",
        "outputId": "449de139-a8e7-4172-aed0-21b294dfe838",
        "colab": {
          "base_uri": "https://localhost:8080/",
          "height": 419
        }
      },
      "source": [
        "select_mv_data = look_mv_data.iloc[: , [0,1]]\n",
        "select_mv_data "
      ],
      "execution_count": 174,
      "outputs": [
        {
          "output_type": "execute_result",
          "data": {
            "text/html": [
              "<div>\n",
              "<style scoped>\n",
              "    .dataframe tbody tr th:only-of-type {\n",
              "        vertical-align: middle;\n",
              "    }\n",
              "\n",
              "    .dataframe tbody tr th {\n",
              "        vertical-align: top;\n",
              "    }\n",
              "\n",
              "    .dataframe thead th {\n",
              "        text-align: right;\n",
              "    }\n",
              "</style>\n",
              "<table border=\"1\" class=\"dataframe\">\n",
              "  <thead>\n",
              "    <tr style=\"text-align: right;\">\n",
              "      <th></th>\n",
              "      <th>borough</th>\n",
              "      <th>contributing_factor_vehicle_1</th>\n",
              "    </tr>\n",
              "  </thead>\n",
              "  <tbody>\n",
              "    <tr>\n",
              "      <th>0</th>\n",
              "      <td>NaN</td>\n",
              "      <td>Fatigued/Drowsy</td>\n",
              "    </tr>\n",
              "    <tr>\n",
              "      <th>1</th>\n",
              "      <td>NaN</td>\n",
              "      <td>Unsafe Lane Changing</td>\n",
              "    </tr>\n",
              "    <tr>\n",
              "      <th>2</th>\n",
              "      <td>NaN</td>\n",
              "      <td>Lost Consciousness</td>\n",
              "    </tr>\n",
              "    <tr>\n",
              "      <th>3</th>\n",
              "      <td>BRONX</td>\n",
              "      <td>Unsafe Lane Changing</td>\n",
              "    </tr>\n",
              "    <tr>\n",
              "      <th>4</th>\n",
              "      <td>MANHATTAN</td>\n",
              "      <td>Other Vehicular</td>\n",
              "    </tr>\n",
              "    <tr>\n",
              "      <th>...</th>\n",
              "      <td>...</td>\n",
              "      <td>...</td>\n",
              "    </tr>\n",
              "    <tr>\n",
              "      <th>49995</th>\n",
              "      <td>QUEENS</td>\n",
              "      <td>Failure to Yield Right-of-Way</td>\n",
              "    </tr>\n",
              "    <tr>\n",
              "      <th>49996</th>\n",
              "      <td>NaN</td>\n",
              "      <td>Turning Improperly</td>\n",
              "    </tr>\n",
              "    <tr>\n",
              "      <th>49997</th>\n",
              "      <td>BROOKLYN</td>\n",
              "      <td>Backing Unsafely</td>\n",
              "    </tr>\n",
              "    <tr>\n",
              "      <th>49998</th>\n",
              "      <td>QUEENS</td>\n",
              "      <td>Backing Unsafely</td>\n",
              "    </tr>\n",
              "    <tr>\n",
              "      <th>49999</th>\n",
              "      <td>MANHATTAN</td>\n",
              "      <td>Following Too Closely</td>\n",
              "    </tr>\n",
              "  </tbody>\n",
              "</table>\n",
              "<p>50000 rows × 2 columns</p>\n",
              "</div>"
            ],
            "text/plain": [
              "         borough  contributing_factor_vehicle_1\n",
              "0            NaN                Fatigued/Drowsy\n",
              "1            NaN           Unsafe Lane Changing\n",
              "2            NaN             Lost Consciousness\n",
              "3          BRONX           Unsafe Lane Changing\n",
              "4      MANHATTAN                Other Vehicular\n",
              "...          ...                            ...\n",
              "49995     QUEENS  Failure to Yield Right-of-Way\n",
              "49996        NaN             Turning Improperly\n",
              "49997   BROOKLYN               Backing Unsafely\n",
              "49998     QUEENS               Backing Unsafely\n",
              "49999  MANHATTAN          Following Too Closely\n",
              "\n",
              "[50000 rows x 2 columns]"
            ]
          },
          "metadata": {
            "tags": []
          },
          "execution_count": 174
        }
      ]
    },
    {
      "cell_type": "markdown",
      "metadata": {
        "id": "dPn92HlUEX4v",
        "colab_type": "text"
      },
      "source": [
        ""
      ]
    },
    {
      "cell_type": "markdown",
      "metadata": {
        "id": "vqyWK1SFzDD8",
        "colab_type": "text"
      },
      "source": [
        "### We can further narrow what we are looking at by selecting for vehicle types. We can look at Station Wagon/Sport Utility Vehicle and Sedan. So, in Brooklyn for inexperienced drivers, what can we see for this group driving Station Wagon/Sport Utility Vehicle versus driving a sedan."
      ]
    },
    {
      "cell_type": "markdown",
      "metadata": {
        "id": "pCOMTDLwPq1s",
        "colab_type": "text"
      },
      "source": [
        "### So for Brooklyn and crashes due to inexperience driver, passenger vehicle (? what is this), sports utility/station wagon, sedan, and then station wagon/sport utility were the largest number of vehicles involved in the crashes. We could maybe combine sports utility/station wagon and station wagon/sport utility groups."
      ]
    },
    {
      "cell_type": "code",
      "metadata": {
        "id": "aKL6SH98Jkbm",
        "colab_type": "code",
        "colab": {}
      },
      "source": [
        "number_injured = (\"NUMBER OF PERSONS INJURED\" + \"NUMBER OF PEDESTRIANS INJURED\" + \"NUMBER OF MOTORIST INJURED\" + \"NUMBER OF CYCLIST INJURED\")\n"
      ],
      "execution_count": 0,
      "outputs": []
    },
    {
      "cell_type": "markdown",
      "metadata": {
        "id": "MebqILLPE4gn",
        "colab_type": "text"
      },
      "source": [
        "For the factors contributing to crash, the bar chart summarizes the number of crashes that are due to each of these separate factors. "
      ]
    },
    {
      "cell_type": "markdown",
      "metadata": {
        "id": "Tvj8hExKLr-n",
        "colab_type": "text"
      },
      "source": [
        "The factor driver inattention/distraction contributed the most to the crashes for the burough of Queens, Failure to Yield right of way, unsafe backing, following too closely and passing to closely were contributed the next most to the crashes."
      ]
    },
    {
      "cell_type": "code",
      "metadata": {
        "id": "svyW692ojDO1",
        "colab_type": "code",
        "outputId": "837615d8-f264-43ae-af7a-4341c29ba3d9",
        "colab": {
          "base_uri": "https://localhost:8080/",
          "height": 541
        }
      },
      "source": [
        "reason_counts1.plot.bar()"
      ],
      "execution_count": 176,
      "outputs": [
        {
          "output_type": "execute_result",
          "data": {
            "text/plain": [
              "<matplotlib.axes._subplots.AxesSubplot at 0x7fd830171a90>"
            ]
          },
          "metadata": {
            "tags": []
          },
          "execution_count": 176
        },
        {
          "output_type": "display_data",
          "data": {
            "image/png": "[encoded data removed]",
            "text/plain": [
              "<Figure size 432x288 with 1 Axes>"
            ]
          },
          "metadata": {
            "tags": []
          }
        }
      ]
    },
    {
      "cell_type": "markdown",
      "metadata": {
        "id": "2x45SI82dC4P",
        "colab_type": "text"
      },
      "source": [
        "### We can plot using matplotlib to explore the data, looking for information and patterns.\n",
        "\n"
      ]
    },
    {
      "cell_type": "code",
      "metadata": {
        "id": "r65SiexRzXuX",
        "colab_type": "code",
        "colab": {}
      },
      "source": [
        ""
      ],
      "execution_count": 0,
      "outputs": []
    },
    {
      "cell_type": "markdown",
      "metadata": {
        "id": "7BXQMr0x2QyU",
        "colab_type": "text"
      },
      "source": [
        "### within this plot we see driver inexperience had episdoes of 1,2, and 3 numbers of pedestrians injured."
      ]
    },
    {
      "cell_type": "markdown",
      "metadata": {
        "id": "niV_QFyFzY2Q",
        "colab_type": "text"
      },
      "source": [
        "### Look at data for contributing factor vehicle1  and number of pedestrians injured in boxplot\n"
      ]
    },
    {
      "cell_type": "code",
      "metadata": {
        "id": "irHBMDQ3jxHU",
        "colab_type": "code",
        "outputId": "e44cc584-90f3-4175-8e74-6af231ff43fc",
        "colab": {
          "base_uri": "https://localhost:8080/",
          "height": 584
        }
      },
      "source": [
        "\n",
        "\n",
        "\n",
        "mv_data.boxplot(mv_data['vehicle_type_code1'].value_counts(), by='number_of_motorist_killed')"
      ],
      "execution_count": 0,
      "outputs": [
        {
          "output_type": "error",
          "ename": "KeyError",
          "evalue": "ignored",
          "traceback": [
            "\u001b[0;31m---------------------------------------------------------------------------\u001b[0m",
            "\u001b[0;31mKeyError\u001b[0m                                  Traceback (most recent call last)",
            "\u001b[0;32m<ipython-input-50-1455596c2d78>\u001b[0m in \u001b[0;36m<module>\u001b[0;34m()\u001b[0m\n\u001b[0;32m----> 1\u001b[0;31m \u001b[0mmv_data\u001b[0m\u001b[0;34m.\u001b[0m\u001b[0mboxplot\u001b[0m\u001b[0;34m(\u001b[0m\u001b[0mmv_data\u001b[0m\u001b[0;34m[\u001b[0m\u001b[0;34m'vehicle_type_code1'\u001b[0m\u001b[0;34m]\u001b[0m\u001b[0;34m.\u001b[0m\u001b[0mvalue_counts\u001b[0m\u001b[0;34m(\u001b[0m\u001b[0;34m)\u001b[0m\u001b[0;34m,\u001b[0m \u001b[0mby\u001b[0m\u001b[0;34m=\u001b[0m\u001b[0;34m'number_of_motorist_killed'\u001b[0m\u001b[0;34m)\u001b[0m\u001b[0;34m\u001b[0m\u001b[0;34m\u001b[0m\u001b[0m\n\u001b[0m",
            "\u001b[0;32m/usr/local/lib/python3.6/dist-packages/pandas/plotting/_core.py\u001b[0m in \u001b[0;36mboxplot_frame\u001b[0;34m(self, column, by, ax, fontsize, rot, grid, figsize, layout, return_type, **kwds)\u001b[0m\n\u001b[1;32m   2252\u001b[0m     ax = boxplot(self, column=column, by=by, ax=ax, fontsize=fontsize,\n\u001b[1;32m   2253\u001b[0m                  \u001b[0mgrid\u001b[0m\u001b[0;34m=\u001b[0m\u001b[0mgrid\u001b[0m\u001b[0;34m,\u001b[0m \u001b[0mrot\u001b[0m\u001b[0;34m=\u001b[0m\u001b[0mrot\u001b[0m\u001b[0;34m,\u001b[0m \u001b[0mfigsize\u001b[0m\u001b[0;34m=\u001b[0m\u001b[0mfigsize\u001b[0m\u001b[0;34m,\u001b[0m \u001b[0mlayout\u001b[0m\u001b[0;34m=\u001b[0m\u001b[0mlayout\u001b[0m\u001b[0;34m,\u001b[0m\u001b[0;34m\u001b[0m\u001b[0;34m\u001b[0m\u001b[0m\n\u001b[0;32m-> 2254\u001b[0;31m                  return_type=return_type, **kwds)\n\u001b[0m\u001b[1;32m   2255\u001b[0m     \u001b[0mplt\u001b[0m\u001b[0;34m.\u001b[0m\u001b[0mdraw_if_interactive\u001b[0m\u001b[0;34m(\u001b[0m\u001b[0;34m)\u001b[0m\u001b[0;34m\u001b[0m\u001b[0;34m\u001b[0m\u001b[0m\n\u001b[1;32m   2256\u001b[0m     \u001b[0;32mreturn\u001b[0m \u001b[0max\u001b[0m\u001b[0;34m\u001b[0m\u001b[0;34m\u001b[0m\u001b[0m\n",
            "\u001b[0;32m/usr/local/lib/python3.6/dist-packages/pandas/plotting/_core.py\u001b[0m in \u001b[0;36mboxplot\u001b[0;34m(data, column, by, ax, fontsize, rot, grid, figsize, layout, return_type, **kwds)\u001b[0m\n\u001b[1;32m   2221\u001b[0m                                          \u001b[0mby\u001b[0m\u001b[0;34m=\u001b[0m\u001b[0mby\u001b[0m\u001b[0;34m,\u001b[0m \u001b[0mgrid\u001b[0m\u001b[0;34m=\u001b[0m\u001b[0mgrid\u001b[0m\u001b[0;34m,\u001b[0m \u001b[0mfigsize\u001b[0m\u001b[0;34m=\u001b[0m\u001b[0mfigsize\u001b[0m\u001b[0;34m,\u001b[0m\u001b[0;34m\u001b[0m\u001b[0;34m\u001b[0m\u001b[0m\n\u001b[1;32m   2222\u001b[0m                                          \u001b[0max\u001b[0m\u001b[0;34m=\u001b[0m\u001b[0max\u001b[0m\u001b[0;34m,\u001b[0m \u001b[0mlayout\u001b[0m\u001b[0;34m=\u001b[0m\u001b[0mlayout\u001b[0m\u001b[0;34m,\u001b[0m\u001b[0;34m\u001b[0m\u001b[0;34m\u001b[0m\u001b[0m\n\u001b[0;32m-> 2223\u001b[0;31m                                          return_type=return_type)\n\u001b[0m\u001b[1;32m   2224\u001b[0m     \u001b[0;32melse\u001b[0m\u001b[0;34m:\u001b[0m\u001b[0;34m\u001b[0m\u001b[0;34m\u001b[0m\u001b[0m\n\u001b[1;32m   2225\u001b[0m         \u001b[0;32mif\u001b[0m \u001b[0mreturn_type\u001b[0m \u001b[0;32mis\u001b[0m \u001b[0;32mNone\u001b[0m\u001b[0;34m:\u001b[0m\u001b[0;34m\u001b[0m\u001b[0;34m\u001b[0m\u001b[0m\n",
            "\u001b[0;32m/usr/local/lib/python3.6/dist-packages/pandas/plotting/_core.py\u001b[0m in \u001b[0;36m_grouped_plot_by_column\u001b[0;34m(plotf, data, columns, by, numeric_only, grid, figsize, ax, layout, return_type, **kwargs)\u001b[0m\n\u001b[1;32m   2679\u001b[0m     \u001b[0;32mfor\u001b[0m \u001b[0mi\u001b[0m\u001b[0;34m,\u001b[0m \u001b[0mcol\u001b[0m \u001b[0;32min\u001b[0m \u001b[0menumerate\u001b[0m\u001b[0;34m(\u001b[0m\u001b[0mcolumns\u001b[0m\u001b[0;34m)\u001b[0m\u001b[0;34m:\u001b[0m\u001b[0;34m\u001b[0m\u001b[0;34m\u001b[0m\u001b[0m\n\u001b[1;32m   2680\u001b[0m         \u001b[0max\u001b[0m \u001b[0;34m=\u001b[0m \u001b[0m_axes\u001b[0m\u001b[0;34m[\u001b[0m\u001b[0mi\u001b[0m\u001b[0;34m]\u001b[0m\u001b[0;34m\u001b[0m\u001b[0;34m\u001b[0m\u001b[0m\n\u001b[0;32m-> 2681\u001b[0;31m         \u001b[0mgp_col\u001b[0m \u001b[0;34m=\u001b[0m \u001b[0mgrouped\u001b[0m\u001b[0;34m[\u001b[0m\u001b[0mcol\u001b[0m\u001b[0;34m]\u001b[0m\u001b[0;34m\u001b[0m\u001b[0;34m\u001b[0m\u001b[0m\n\u001b[0m\u001b[1;32m   2682\u001b[0m         \u001b[0mkeys\u001b[0m\u001b[0;34m,\u001b[0m \u001b[0mvalues\u001b[0m \u001b[0;34m=\u001b[0m \u001b[0mzip\u001b[0m\u001b[0;34m(\u001b[0m\u001b[0;34m*\u001b[0m\u001b[0mgp_col\u001b[0m\u001b[0;34m)\u001b[0m\u001b[0;34m\u001b[0m\u001b[0;34m\u001b[0m\u001b[0m\n\u001b[1;32m   2683\u001b[0m         \u001b[0mre_plotf\u001b[0m \u001b[0;34m=\u001b[0m \u001b[0mplotf\u001b[0m\u001b[0;34m(\u001b[0m\u001b[0mkeys\u001b[0m\u001b[0;34m,\u001b[0m \u001b[0mvalues\u001b[0m\u001b[0;34m,\u001b[0m \u001b[0max\u001b[0m\u001b[0;34m,\u001b[0m \u001b[0;34m**\u001b[0m\u001b[0mkwargs\u001b[0m\u001b[0;34m)\u001b[0m\u001b[0;34m\u001b[0m\u001b[0;34m\u001b[0m\u001b[0m\n",
            "\u001b[0;32m/usr/local/lib/python3.6/dist-packages/pandas/core/base.py\u001b[0m in \u001b[0;36m__getitem__\u001b[0;34m(self, key)\u001b[0m\n\u001b[1;32m    263\u001b[0m                 \u001b[0mbad_keys\u001b[0m \u001b[0;34m=\u001b[0m \u001b[0mlist\u001b[0m\u001b[0;34m(\u001b[0m\u001b[0mset\u001b[0m\u001b[0;34m(\u001b[0m\u001b[0mkey\u001b[0m\u001b[0;34m)\u001b[0m\u001b[0;34m.\u001b[0m\u001b[0mdifference\u001b[0m\u001b[0;34m(\u001b[0m\u001b[0mself\u001b[0m\u001b[0;34m.\u001b[0m\u001b[0mobj\u001b[0m\u001b[0;34m.\u001b[0m\u001b[0mcolumns\u001b[0m\u001b[0;34m)\u001b[0m\u001b[0;34m)\u001b[0m\u001b[0;34m\u001b[0m\u001b[0;34m\u001b[0m\u001b[0m\n\u001b[1;32m    264\u001b[0m                 raise KeyError(\"Columns not found: {missing}\"\n\u001b[0;32m--> 265\u001b[0;31m                                .format(missing=str(bad_keys)[1:-1]))\n\u001b[0m\u001b[1;32m    266\u001b[0m             \u001b[0;32mreturn\u001b[0m \u001b[0mself\u001b[0m\u001b[0;34m.\u001b[0m\u001b[0m_gotitem\u001b[0m\u001b[0;34m(\u001b[0m\u001b[0mlist\u001b[0m\u001b[0;34m(\u001b[0m\u001b[0mkey\u001b[0m\u001b[0;34m)\u001b[0m\u001b[0;34m,\u001b[0m \u001b[0mndim\u001b[0m\u001b[0;34m=\u001b[0m\u001b[0;36m2\u001b[0m\u001b[0;34m)\u001b[0m\u001b[0;34m\u001b[0m\u001b[0;34m\u001b[0m\u001b[0m\n\u001b[1;32m    267\u001b[0m \u001b[0;34m\u001b[0m\u001b[0m\n",
            "\u001b[0;31mKeyError\u001b[0m: 'Columns not found: 64, 1, 2, 3, 4, 5, 6, 7, 8, 9, 68, 70, 12, 75, 15, 20, 1240, 30, 31, 35, 548, 43, 45, 49, 2110'"
          ]
        },
        {
          "output_type": "display_data",
          "data": {
            "image/png": "[encoded data removed]",
            "text/plain": [
              "<Figure size 432x288 with 1 Axes>"
            ]
          },
          "metadata": {
            "tags": []
          }
        }
      ]
    },
    {
      "cell_type": "markdown",
      "metadata": {
        "id": "PsqMmtEVzyHe",
        "colab_type": "text"
      },
      "source": [
        "### Look at this same information with seaborn data visualization tool\n"
      ]
    },
    {
      "cell_type": "markdown",
      "metadata": {
        "id": "HPUiRfj3l8DX",
        "colab_type": "text"
      },
      "source": [
        ""
      ]
    },
    {
      "cell_type": "code",
      "metadata": {
        "id": "4AT9MKYml8gS",
        "colab_type": "code",
        "outputId": "9af65b34-0059-4937-fdd5-6e200311ddbf",
        "colab": {
          "base_uri": "https://localhost:8080/",
          "height": 1000
        }
      },
      "source": [
        "import seaborn as sns\n",
        "sns.set(style=\"whitegrid\")\n",
        "\n",
        "f, ax = plt.subplots(figsize=(15, 25))\n",
        "sns.scatterplot(x=\"\", y=\"VEHICLE_TYPE_CODE_1\", \n",
        "               hue=\"number_pedestrians_injured\", linewidth=0, data=mv_data, ax=ax)"
      ],
      "execution_count": 0,
      "outputs": [
        {
          "output_type": "error",
          "ename": "ValueError",
          "evalue": "ignored",
          "traceback": [
            "\u001b[0;31m---------------------------------------------------------------------------\u001b[0m",
            "\u001b[0;31mValueError\u001b[0m                                Traceback (most recent call last)",
            "\u001b[0;32m<ipython-input-48-597cc1da5273>\u001b[0m in \u001b[0;36m<module>\u001b[0;34m()\u001b[0m\n\u001b[1;32m      4\u001b[0m \u001b[0mf\u001b[0m\u001b[0;34m,\u001b[0m \u001b[0max\u001b[0m \u001b[0;34m=\u001b[0m \u001b[0mplt\u001b[0m\u001b[0;34m.\u001b[0m\u001b[0msubplots\u001b[0m\u001b[0;34m(\u001b[0m\u001b[0mfigsize\u001b[0m\u001b[0;34m=\u001b[0m\u001b[0;34m(\u001b[0m\u001b[0;36m15\u001b[0m\u001b[0;34m,\u001b[0m \u001b[0;36m25\u001b[0m\u001b[0;34m)\u001b[0m\u001b[0;34m)\u001b[0m\u001b[0;34m\u001b[0m\u001b[0;34m\u001b[0m\u001b[0m\n\u001b[1;32m      5\u001b[0m sns.scatterplot(x=\"CONTRIBUTING_FACTOR_VEHICLE1\", y=\"VEHICLE_TYPE_CODE_1\", \n\u001b[0;32m----> 6\u001b[0;31m                hue=\"number_pedestrians_injured\", linewidth=0, data=mv_data, ax=ax)\n\u001b[0m",
            "\u001b[0;32m/usr/local/lib/python3.6/dist-packages/seaborn/relational.py\u001b[0m in \u001b[0;36mscatterplot\u001b[0;34m(x, y, hue, style, size, data, palette, hue_order, hue_norm, sizes, size_order, size_norm, markers, style_order, x_bins, y_bins, units, estimator, ci, n_boot, alpha, x_jitter, y_jitter, legend, ax, **kwargs)\u001b[0m\n\u001b[1;32m   1333\u001b[0m         \u001b[0mx_bins\u001b[0m\u001b[0;34m=\u001b[0m\u001b[0mx_bins\u001b[0m\u001b[0;34m,\u001b[0m \u001b[0my_bins\u001b[0m\u001b[0;34m=\u001b[0m\u001b[0my_bins\u001b[0m\u001b[0;34m,\u001b[0m\u001b[0;34m\u001b[0m\u001b[0;34m\u001b[0m\u001b[0m\n\u001b[1;32m   1334\u001b[0m         \u001b[0mestimator\u001b[0m\u001b[0;34m=\u001b[0m\u001b[0mestimator\u001b[0m\u001b[0;34m,\u001b[0m \u001b[0mci\u001b[0m\u001b[0;34m=\u001b[0m\u001b[0mci\u001b[0m\u001b[0;34m,\u001b[0m \u001b[0mn_boot\u001b[0m\u001b[0;34m=\u001b[0m\u001b[0mn_boot\u001b[0m\u001b[0;34m,\u001b[0m\u001b[0;34m\u001b[0m\u001b[0;34m\u001b[0m\u001b[0m\n\u001b[0;32m-> 1335\u001b[0;31m         \u001b[0malpha\u001b[0m\u001b[0;34m=\u001b[0m\u001b[0malpha\u001b[0m\u001b[0;34m,\u001b[0m \u001b[0mx_jitter\u001b[0m\u001b[0;34m=\u001b[0m\u001b[0mx_jitter\u001b[0m\u001b[0;34m,\u001b[0m \u001b[0my_jitter\u001b[0m\u001b[0;34m=\u001b[0m\u001b[0my_jitter\u001b[0m\u001b[0;34m,\u001b[0m \u001b[0mlegend\u001b[0m\u001b[0;34m=\u001b[0m\u001b[0mlegend\u001b[0m\u001b[0;34m,\u001b[0m\u001b[0;34m\u001b[0m\u001b[0;34m\u001b[0m\u001b[0m\n\u001b[0m\u001b[1;32m   1336\u001b[0m     )\n\u001b[1;32m   1337\u001b[0m \u001b[0;34m\u001b[0m\u001b[0m\n",
            "\u001b[0;32m/usr/local/lib/python3.6/dist-packages/seaborn/relational.py\u001b[0m in \u001b[0;36m__init__\u001b[0;34m(self, x, y, hue, size, style, data, palette, hue_order, hue_norm, sizes, size_order, size_norm, dashes, markers, style_order, x_bins, y_bins, units, estimator, ci, n_boot, alpha, x_jitter, y_jitter, legend)\u001b[0m\n\u001b[1;32m    850\u001b[0m \u001b[0;34m\u001b[0m\u001b[0m\n\u001b[1;32m    851\u001b[0m         plot_data = self.establish_variables(\n\u001b[0;32m--> 852\u001b[0;31m             \u001b[0mx\u001b[0m\u001b[0;34m,\u001b[0m \u001b[0my\u001b[0m\u001b[0;34m,\u001b[0m \u001b[0mhue\u001b[0m\u001b[0;34m,\u001b[0m \u001b[0msize\u001b[0m\u001b[0;34m,\u001b[0m \u001b[0mstyle\u001b[0m\u001b[0;34m,\u001b[0m \u001b[0munits\u001b[0m\u001b[0;34m,\u001b[0m \u001b[0mdata\u001b[0m\u001b[0;34m\u001b[0m\u001b[0;34m\u001b[0m\u001b[0m\n\u001b[0m\u001b[1;32m    853\u001b[0m         )\n\u001b[1;32m    854\u001b[0m \u001b[0;34m\u001b[0m\u001b[0m\n",
            "\u001b[0;32m/usr/local/lib/python3.6/dist-packages/seaborn/relational.py\u001b[0m in \u001b[0;36mestablish_variables\u001b[0;34m(self, x, y, hue, size, style, units, data)\u001b[0m\n\u001b[1;32m    140\u001b[0m                 \u001b[0;32mif\u001b[0m \u001b[0misinstance\u001b[0m\u001b[0;34m(\u001b[0m\u001b[0mvar\u001b[0m\u001b[0;34m,\u001b[0m \u001b[0mstring_types\u001b[0m\u001b[0;34m)\u001b[0m\u001b[0;34m:\u001b[0m\u001b[0;34m\u001b[0m\u001b[0;34m\u001b[0m\u001b[0m\n\u001b[1;32m    141\u001b[0m                     \u001b[0merr\u001b[0m \u001b[0;34m=\u001b[0m \u001b[0;34m\"Could not interpret input '{}'\"\u001b[0m\u001b[0;34m.\u001b[0m\u001b[0mformat\u001b[0m\u001b[0;34m(\u001b[0m\u001b[0mvar\u001b[0m\u001b[0;34m)\u001b[0m\u001b[0;34m\u001b[0m\u001b[0;34m\u001b[0m\u001b[0m\n\u001b[0;32m--> 142\u001b[0;31m                     \u001b[0;32mraise\u001b[0m \u001b[0mValueError\u001b[0m\u001b[0;34m(\u001b[0m\u001b[0merr\u001b[0m\u001b[0;34m)\u001b[0m\u001b[0;34m\u001b[0m\u001b[0;34m\u001b[0m\u001b[0m\n\u001b[0m\u001b[1;32m    143\u001b[0m \u001b[0;34m\u001b[0m\u001b[0m\n\u001b[1;32m    144\u001b[0m             \u001b[0;31m# Extract variable names\u001b[0m\u001b[0;34m\u001b[0m\u001b[0;34m\u001b[0m\u001b[0;34m\u001b[0m\u001b[0m\n",
            "\u001b[0;31mValueError\u001b[0m: Could not interpret input 'CONTRIBUTING_FACTOR_VEHICLE1'"
          ]
        },
        {
          "output_type": "display_data",
          "data": {
            "image/png": "[encoded data removed]",
            "text/plain": [
              "<Figure size 1080x1800 with 1 Axes>"
            ]
          },
          "metadata": {
            "tags": []
          }
        }
      ]
    },
    {
      "cell_type": "markdown",
      "metadata": {
        "id": "iSwsHOCY1niB",
        "colab_type": "text"
      },
      "source": [
        "#### So, it looks like for this particular item, crashes with driver inexperience, most vehicles did not have pedestrian injuries. Livery vehicles had 1 pedestrian injury and \"motor\" (what is motor compared to motor vehicle, I'm not sure) had 1 pedestrian injury. "
      ]
    }
  ]
}