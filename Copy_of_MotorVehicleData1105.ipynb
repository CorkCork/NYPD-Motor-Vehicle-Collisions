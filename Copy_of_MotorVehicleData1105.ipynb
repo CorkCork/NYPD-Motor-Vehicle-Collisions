{
  "nbformat": 4,
  "nbformat_minor": 0,
  "metadata": {
    "colab": {
      "name": "Copy of MotorVehicleData1105.ipynb",
      "provenance": [],
      "include_colab_link": true
    },
    "kernelspec": {
      "name": "python3",
      "display_name": "Python 3"
    }
  },
  "cells": [
    {
      "cell_type": "markdown",
      "metadata": {
        "id": "view-in-github",
        "colab_type": "text"
      },
      "source": [
        "<a href=\"https://colab.research.google.com/github/CorkCork/NYPD-Motor-Vehicle-Collisions/blob/master/Copy_of_MotorVehicleData1105.ipynb\" target=\"_parent\"><img src=\"https://colab.research.google.com/assets/colab-badge.svg\" alt=\"Open In Colab\"/></a>"
      ]
    },
    {
      "cell_type": "code",
      "metadata": {
        "id": "mjEh-B6zrlNm",
        "colab_type": "code",
        "colab": {}
      },
      "source": [
        "import pandas as pd\n",
        "mv_data = pd.read_csv('https://data.cityofnewyork.us/resource/h9gi-nx95.csv?$limit=50000')   "
      ],
      "execution_count": 0,
      "outputs": []
    },
    {
      "cell_type": "markdown",
      "metadata": {
        "id": "cD5YrkNcADx4",
        "colab_type": "text"
      },
      "source": [
        ""
      ]
    },
    {
      "cell_type": "markdown",
      "metadata": {
        "id": "iBGNq7q0xQmN",
        "colab_type": "text"
      },
      "source": [
        "### We import the data set from NYPD motor vehicle crash and limit 50,000 rows. This will allow us to work with some of the dataset and look at crashes involving driver inexperience in the borough of Brooklyn.\n"
      ]
    },
    {
      "cell_type": "markdown",
      "metadata": {
        "id": "IUtTPfHlxm_u",
        "colab_type": "text"
      },
      "source": [
        "### Next, look at the number of rows and columns in the data set imported using shape command"
      ]
    },
    {
      "cell_type": "code",
      "metadata": {
        "id": "YOorx-dvrt7o",
        "colab_type": "code",
        "outputId": "2ec809e8-9c16-4af2-acd6-78898794dea7",
        "colab": {
          "base_uri": "https://localhost:8080/",
          "height": 34
        }
      },
      "source": [
        "mv_data.shape\n"
      ],
      "execution_count": 0,
      "outputs": [
        {
          "output_type": "execute_result",
          "data": {
            "text/plain": [
              "(50000, 29)"
            ]
          },
          "metadata": {
            "tags": []
          },
          "execution_count": 8
        }
      ]
    },
    {
      "cell_type": "markdown",
      "metadata": {
        "id": "4qhJq9cwxz5O",
        "colab_type": "text"
      },
      "source": [
        "### We have 50,000 rows and 29 columns of data in the information imported. Let's put it into an array with headers for each column"
      ]
    },
    {
      "cell_type": "code",
      "metadata": {
        "id": "cktt_QJrtuIo",
        "colab_type": "code",
        "outputId": "de4fa069-1b21-4b43-8b13-f2e2331a98c5",
        "colab": {
          "base_uri": "https://localhost:8080/",
          "height": 167
        }
      },
      "source": [
        "mv_data.head()"
      ],
      "execution_count": 0,
      "outputs": [
        {
          "output_type": "error",
          "ename": "NameError",
          "evalue": "ignored",
          "traceback": [
            "\u001b[0;31m---------------------------------------------------------------------------\u001b[0m",
            "\u001b[0;31mNameError\u001b[0m                                 Traceback (most recent call last)",
            "\u001b[0;32m<ipython-input-6-fe0db6f730d6>\u001b[0m in \u001b[0;36m<module>\u001b[0;34m()\u001b[0m\n\u001b[0;32m----> 1\u001b[0;31m \u001b[0mmv_data\u001b[0m\u001b[0;34m.\u001b[0m\u001b[0mhead\u001b[0m\u001b[0;34m(\u001b[0m\u001b[0;34m)\u001b[0m\u001b[0;34m\u001b[0m\u001b[0;34m\u001b[0m\u001b[0m\n\u001b[0m",
            "\u001b[0;31mNameError\u001b[0m: name 'mv_data' is not defined"
          ]
        }
      ]
    },
    {
      "cell_type": "markdown",
      "metadata": {
        "id": "zq3xgngIuTC2",
        "colab_type": "text"
      },
      "source": [
        ""
      ]
    },
    {
      "cell_type": "code",
      "metadata": {
        "id": "MAvz6yxRuUBR",
        "colab_type": "code",
        "outputId": "8bb5e0fa-510f-4c6f-aef3-623a2d361f1c",
        "colab": {
          "base_uri": "https://localhost:8080/",
          "height": 923
        }
      },
      "source": [
        "mv_data['borough'].head(50)"
      ],
      "execution_count": 0,
      "outputs": [
        {
          "output_type": "execute_result",
          "data": {
            "text/plain": [
              "0        QUEENS\n",
              "1      BROOKLYN\n",
              "2        QUEENS\n",
              "3           NaN\n",
              "4        QUEENS\n",
              "5           NaN\n",
              "6           NaN\n",
              "7        QUEENS\n",
              "8     MANHATTAN\n",
              "9        QUEENS\n",
              "10       QUEENS\n",
              "11       QUEENS\n",
              "12          NaN\n",
              "13     BROOKLYN\n",
              "14       QUEENS\n",
              "15        BRONX\n",
              "16          NaN\n",
              "17          NaN\n",
              "18     BROOKLYN\n",
              "19       QUEENS\n",
              "20     BROOKLYN\n",
              "21     BROOKLYN\n",
              "22     BROOKLYN\n",
              "23       QUEENS\n",
              "24     BROOKLYN\n",
              "25       QUEENS\n",
              "26        BRONX\n",
              "27          NaN\n",
              "28       QUEENS\n",
              "29     BROOKLYN\n",
              "30        BRONX\n",
              "31       QUEENS\n",
              "32     BROOKLYN\n",
              "33          NaN\n",
              "34          NaN\n",
              "35          NaN\n",
              "36          NaN\n",
              "37     BROOKLYN\n",
              "38        BRONX\n",
              "39     BROOKLYN\n",
              "40     BROOKLYN\n",
              "41          NaN\n",
              "42        BRONX\n",
              "43          NaN\n",
              "44     BROOKLYN\n",
              "45     BROOKLYN\n",
              "46    MANHATTAN\n",
              "47          NaN\n",
              "48    MANHATTAN\n",
              "49       QUEENS\n",
              "Name: borough, dtype: object"
            ]
          },
          "metadata": {
            "tags": []
          },
          "execution_count": 52
        }
      ]
    },
    {
      "cell_type": "markdown",
      "metadata": {
        "id": "kggqJoTmyONH",
        "colab_type": "text"
      },
      "source": [
        "#### Now we can find the unique types of vehicles involved in these crashes. Let's look at vehcile number one, the first vehicle impacting. This column value is vehicle_type_code1."
      ]
    },
    {
      "cell_type": "code",
      "metadata": {
        "id": "-0vItH7Cs10I",
        "colab_type": "code",
        "outputId": "1daaa437-1306-4834-a250-d39dd4d19d48",
        "colab": {
          "base_uri": "https://localhost:8080/",
          "height": 301
        }
      },
      "source": [
        "mv_data['vehicle_type_code1'].head(15)"
      ],
      "execution_count": 0,
      "outputs": [
        {
          "output_type": "execute_result",
          "data": {
            "text/plain": [
              "0                                    Dump\n",
              "1     Station Wagon/Sport Utility Vehicle\n",
              "2                                   Sedan\n",
              "3                                   Sedan\n",
              "4     Station Wagon/Sport Utility Vehicle\n",
              "5     Station Wagon/Sport Utility Vehicle\n",
              "6                                   Sedan\n",
              "7                                   Sedan\n",
              "8                                   Sedan\n",
              "9                                   Sedan\n",
              "10    Station Wagon/Sport Utility Vehicle\n",
              "11                                  Sedan\n",
              "12                                    Bus\n",
              "13    Station Wagon/Sport Utility Vehicle\n",
              "14    Station Wagon/Sport Utility Vehicle\n",
              "Name: vehicle_type_code1, dtype: object"
            ]
          },
          "metadata": {
            "tags": []
          },
          "execution_count": 53
        }
      ]
    },
    {
      "cell_type": "code",
      "metadata": {
        "id": "kRDqGY2XQtPA",
        "colab_type": "code",
        "outputId": "dd45e2ba-9570-46fe-9bab-028c750f3cc9",
        "colab": {
          "base_uri": "https://localhost:8080/",
          "height": 167
        }
      },
      "source": [
        "top_boroughs = mv_data['borough'].value_counts()"
      ],
      "execution_count": 0,
      "outputs": [
        {
          "output_type": "error",
          "ename": "NameError",
          "evalue": "ignored",
          "traceback": [
            "\u001b[0;31m---------------------------------------------------------------------------\u001b[0m",
            "\u001b[0;31mNameError\u001b[0m                                 Traceback (most recent call last)",
            "\u001b[0;32m<ipython-input-5-f348baf8675a>\u001b[0m in \u001b[0;36m<module>\u001b[0;34m()\u001b[0m\n\u001b[0;32m----> 1\u001b[0;31m \u001b[0mtop_boroughs\u001b[0m \u001b[0;34m=\u001b[0m \u001b[0mmv_data\u001b[0m\u001b[0;34m[\u001b[0m\u001b[0;34m'borough'\u001b[0m\u001b[0;34m]\u001b[0m\u001b[0;34m.\u001b[0m\u001b[0mvalue_counts\u001b[0m\u001b[0;34m(\u001b[0m\u001b[0;34m)\u001b[0m\u001b[0;34m\u001b[0m\u001b[0;34m\u001b[0m\u001b[0m\n\u001b[0m",
            "\u001b[0;31mNameError\u001b[0m: name 'mv_data' is not defined"
          ]
        }
      ]
    },
    {
      "cell_type": "code",
      "metadata": {
        "id": "w3CFhRSvtNPJ",
        "colab_type": "code",
        "colab": {}
      },
      "source": [
        "\n",
        "top_vehicles = mv_data['vehicle_type_code1'].value_counts()"
      ],
      "execution_count": 0,
      "outputs": []
    },
    {
      "cell_type": "code",
      "metadata": {
        "id": "YIRSUJzMvasA",
        "colab_type": "code",
        "outputId": "9335c90f-bd68-4959-ce58-8ef9ee6d8903",
        "colab": {
          "base_uri": "https://localhost:8080/",
          "height": 390
        }
      },
      "source": [
        "top_vehicles.head(20)"
      ],
      "execution_count": 0,
      "outputs": [
        {
          "output_type": "execute_result",
          "data": {
            "text/plain": [
              "Sedan                                  22535\n",
              "Station Wagon/Sport Utility Vehicle    18723\n",
              "Taxi                                    2468\n",
              "Pick-up Truck                           1484\n",
              "Box Truck                                955\n",
              "Bus                                      906\n",
              "Tractor Truck Diesel                     422\n",
              "Bike                                     300\n",
              "Van                                      282\n",
              "Motorcycle                               179\n",
              "Dump                                     138\n",
              "Convertible                              134\n",
              "Ambulance                                113\n",
              "Garbage or Refuse                        113\n",
              "Flat Bed                                 108\n",
              "PK                                        70\n",
              "Carry All                                 69\n",
              "Tractor Truck Gasoline                    52\n",
              "Tow Truck / Wrecker                       49\n",
              "Tanker                                    41\n",
              "Name: vehicle_type_code1, dtype: int64"
            ]
          },
          "metadata": {
            "tags": []
          },
          "execution_count": 35
        }
      ]
    },
    {
      "cell_type": "code",
      "metadata": {
        "id": "RNPSHSe3Q-61",
        "colab_type": "code",
        "outputId": "089a6df8-ab37-4ee1-8869-de6b169015d0",
        "colab": {
          "base_uri": "https://localhost:8080/",
          "height": 123
        }
      },
      "source": [
        "top_boroughs.head(20)"
      ],
      "execution_count": 0,
      "outputs": [
        {
          "output_type": "execute_result",
          "data": {
            "text/plain": [
              "BROOKLYN         10318\n",
              "QUEENS            9223\n",
              "MANHATTAN         6186\n",
              "BRONX             5312\n",
              "STATEN ISLAND     1026\n",
              "Name: borough, dtype: int64"
            ]
          },
          "metadata": {
            "tags": []
          },
          "execution_count": 36
        }
      ]
    },
    {
      "cell_type": "code",
      "metadata": {
        "id": "oygpt2_2SHcK",
        "colab_type": "code",
        "colab": {}
      },
      "source": [
        "look_mv_data = mv_data.loc[:, ['borough', 'contributing_factor_vehicle_1']]"
      ],
      "execution_count": 0,
      "outputs": []
    },
    {
      "cell_type": "code",
      "metadata": {
        "id": "mAsIU1zrSYcw",
        "colab_type": "code",
        "outputId": "b7ce494c-7adb-416a-fdd2-31a44837d3e3",
        "colab": {
          "base_uri": "https://localhost:8080/",
          "height": 1000
        }
      },
      "source": [
        "look_mv_data.head(60)"
      ],
      "execution_count": 0,
      "outputs": [
        {
          "output_type": "execute_result",
          "data": {
            "text/html": [
              "<div>\n",
              "<style scoped>\n",
              "    .dataframe tbody tr th:only-of-type {\n",
              "        vertical-align: middle;\n",
              "    }\n",
              "\n",
              "    .dataframe tbody tr th {\n",
              "        vertical-align: top;\n",
              "    }\n",
              "\n",
              "    .dataframe thead th {\n",
              "        text-align: right;\n",
              "    }\n",
              "</style>\n",
              "<table border=\"1\" class=\"dataframe\">\n",
              "  <thead>\n",
              "    <tr style=\"text-align: right;\">\n",
              "      <th></th>\n",
              "      <th>borough</th>\n",
              "      <th>contributing_factor_vehicle_1</th>\n",
              "    </tr>\n",
              "  </thead>\n",
              "  <tbody>\n",
              "    <tr>\n",
              "      <th>0</th>\n",
              "      <td>NaN</td>\n",
              "      <td>Failure to Yield Right-of-Way</td>\n",
              "    </tr>\n",
              "    <tr>\n",
              "      <th>1</th>\n",
              "      <td>QUEENS</td>\n",
              "      <td>Unspecified</td>\n",
              "    </tr>\n",
              "    <tr>\n",
              "      <th>2</th>\n",
              "      <td>NaN</td>\n",
              "      <td>Backing Unsafely</td>\n",
              "    </tr>\n",
              "    <tr>\n",
              "      <th>3</th>\n",
              "      <td>QUEENS</td>\n",
              "      <td>Failure to Yield Right-of-Way</td>\n",
              "    </tr>\n",
              "    <tr>\n",
              "      <th>4</th>\n",
              "      <td>BRONX</td>\n",
              "      <td>Backing Unsafely</td>\n",
              "    </tr>\n",
              "    <tr>\n",
              "      <th>5</th>\n",
              "      <td>NaN</td>\n",
              "      <td>Driver Inexperience</td>\n",
              "    </tr>\n",
              "    <tr>\n",
              "      <th>6</th>\n",
              "      <td>NaN</td>\n",
              "      <td>Backing Unsafely</td>\n",
              "    </tr>\n",
              "    <tr>\n",
              "      <th>7</th>\n",
              "      <td>NaN</td>\n",
              "      <td>Passing or Lane Usage Improper</td>\n",
              "    </tr>\n",
              "    <tr>\n",
              "      <th>8</th>\n",
              "      <td>NaN</td>\n",
              "      <td>Other Vehicular</td>\n",
              "    </tr>\n",
              "    <tr>\n",
              "      <th>9</th>\n",
              "      <td>NaN</td>\n",
              "      <td>Unspecified</td>\n",
              "    </tr>\n",
              "    <tr>\n",
              "      <th>10</th>\n",
              "      <td>BROOKLYN</td>\n",
              "      <td>Passing Too Closely</td>\n",
              "    </tr>\n",
              "    <tr>\n",
              "      <th>11</th>\n",
              "      <td>QUEENS</td>\n",
              "      <td>Passing Too Closely</td>\n",
              "    </tr>\n",
              "    <tr>\n",
              "      <th>12</th>\n",
              "      <td>QUEENS</td>\n",
              "      <td>Driver Inattention/Distraction</td>\n",
              "    </tr>\n",
              "    <tr>\n",
              "      <th>13</th>\n",
              "      <td>QUEENS</td>\n",
              "      <td>Unspecified</td>\n",
              "    </tr>\n",
              "    <tr>\n",
              "      <th>14</th>\n",
              "      <td>QUEENS</td>\n",
              "      <td>Backing Unsafely</td>\n",
              "    </tr>\n",
              "    <tr>\n",
              "      <th>15</th>\n",
              "      <td>BRONX</td>\n",
              "      <td>Failure to Yield Right-of-Way</td>\n",
              "    </tr>\n",
              "    <tr>\n",
              "      <th>16</th>\n",
              "      <td>MANHATTAN</td>\n",
              "      <td>Passing or Lane Usage Improper</td>\n",
              "    </tr>\n",
              "    <tr>\n",
              "      <th>17</th>\n",
              "      <td>BROOKLYN</td>\n",
              "      <td>Failure to Yield Right-of-Way</td>\n",
              "    </tr>\n",
              "    <tr>\n",
              "      <th>18</th>\n",
              "      <td>NaN</td>\n",
              "      <td>Following Too Closely</td>\n",
              "    </tr>\n",
              "    <tr>\n",
              "      <th>19</th>\n",
              "      <td>BRONX</td>\n",
              "      <td>Backing Unsafely</td>\n",
              "    </tr>\n",
              "    <tr>\n",
              "      <th>20</th>\n",
              "      <td>NaN</td>\n",
              "      <td>Driver Inattention/Distraction</td>\n",
              "    </tr>\n",
              "    <tr>\n",
              "      <th>21</th>\n",
              "      <td>NaN</td>\n",
              "      <td>Backing Unsafely</td>\n",
              "    </tr>\n",
              "    <tr>\n",
              "      <th>22</th>\n",
              "      <td>BROOKLYN</td>\n",
              "      <td>Backing Unsafely</td>\n",
              "    </tr>\n",
              "    <tr>\n",
              "      <th>23</th>\n",
              "      <td>QUEENS</td>\n",
              "      <td>View Obstructed/Limited</td>\n",
              "    </tr>\n",
              "    <tr>\n",
              "      <th>24</th>\n",
              "      <td>NaN</td>\n",
              "      <td>Following Too Closely</td>\n",
              "    </tr>\n",
              "    <tr>\n",
              "      <th>25</th>\n",
              "      <td>QUEENS</td>\n",
              "      <td>Backing Unsafely</td>\n",
              "    </tr>\n",
              "    <tr>\n",
              "      <th>26</th>\n",
              "      <td>NaN</td>\n",
              "      <td>Unspecified</td>\n",
              "    </tr>\n",
              "    <tr>\n",
              "      <th>27</th>\n",
              "      <td>NaN</td>\n",
              "      <td>Failure to Yield Right-of-Way</td>\n",
              "    </tr>\n",
              "    <tr>\n",
              "      <th>28</th>\n",
              "      <td>MANHATTAN</td>\n",
              "      <td>Other Vehicular</td>\n",
              "    </tr>\n",
              "    <tr>\n",
              "      <th>29</th>\n",
              "      <td>NaN</td>\n",
              "      <td>Failure to Yield Right-of-Way</td>\n",
              "    </tr>\n",
              "    <tr>\n",
              "      <th>30</th>\n",
              "      <td>NaN</td>\n",
              "      <td>Unspecified</td>\n",
              "    </tr>\n",
              "    <tr>\n",
              "      <th>31</th>\n",
              "      <td>BROOKLYN</td>\n",
              "      <td>Unspecified</td>\n",
              "    </tr>\n",
              "    <tr>\n",
              "      <th>32</th>\n",
              "      <td>BROOKLYN</td>\n",
              "      <td>Fatigued/Drowsy</td>\n",
              "    </tr>\n",
              "    <tr>\n",
              "      <th>33</th>\n",
              "      <td>BROOKLYN</td>\n",
              "      <td>Failure to Yield Right-of-Way</td>\n",
              "    </tr>\n",
              "    <tr>\n",
              "      <th>34</th>\n",
              "      <td>BROOKLYN</td>\n",
              "      <td>Driver Inattention/Distraction</td>\n",
              "    </tr>\n",
              "    <tr>\n",
              "      <th>35</th>\n",
              "      <td>NaN</td>\n",
              "      <td>Passing or Lane Usage Improper</td>\n",
              "    </tr>\n",
              "    <tr>\n",
              "      <th>36</th>\n",
              "      <td>BROOKLYN</td>\n",
              "      <td>Following Too Closely</td>\n",
              "    </tr>\n",
              "    <tr>\n",
              "      <th>37</th>\n",
              "      <td>MANHATTAN</td>\n",
              "      <td>Backing Unsafely</td>\n",
              "    </tr>\n",
              "    <tr>\n",
              "      <th>38</th>\n",
              "      <td>NaN</td>\n",
              "      <td>Unsafe Speed</td>\n",
              "    </tr>\n",
              "    <tr>\n",
              "      <th>39</th>\n",
              "      <td>NaN</td>\n",
              "      <td>Unspecified</td>\n",
              "    </tr>\n",
              "    <tr>\n",
              "      <th>40</th>\n",
              "      <td>NaN</td>\n",
              "      <td>Turning Improperly</td>\n",
              "    </tr>\n",
              "    <tr>\n",
              "      <th>41</th>\n",
              "      <td>NaN</td>\n",
              "      <td>Backing Unsafely</td>\n",
              "    </tr>\n",
              "    <tr>\n",
              "      <th>42</th>\n",
              "      <td>MANHATTAN</td>\n",
              "      <td>Driver Inattention/Distraction</td>\n",
              "    </tr>\n",
              "    <tr>\n",
              "      <th>43</th>\n",
              "      <td>BROOKLYN</td>\n",
              "      <td>Driver Inexperience</td>\n",
              "    </tr>\n",
              "    <tr>\n",
              "      <th>44</th>\n",
              "      <td>NaN</td>\n",
              "      <td>Following Too Closely</td>\n",
              "    </tr>\n",
              "    <tr>\n",
              "      <th>45</th>\n",
              "      <td>NaN</td>\n",
              "      <td>Failure to Keep Right</td>\n",
              "    </tr>\n",
              "    <tr>\n",
              "      <th>46</th>\n",
              "      <td>NaN</td>\n",
              "      <td>Driver Inattention/Distraction</td>\n",
              "    </tr>\n",
              "    <tr>\n",
              "      <th>47</th>\n",
              "      <td>BRONX</td>\n",
              "      <td>Driver Inattention/Distraction</td>\n",
              "    </tr>\n",
              "    <tr>\n",
              "      <th>48</th>\n",
              "      <td>NaN</td>\n",
              "      <td>Driver Inattention/Distraction</td>\n",
              "    </tr>\n",
              "    <tr>\n",
              "      <th>49</th>\n",
              "      <td>BROOKLYN</td>\n",
              "      <td>Failure to Yield Right-of-Way</td>\n",
              "    </tr>\n",
              "    <tr>\n",
              "      <th>50</th>\n",
              "      <td>MANHATTAN</td>\n",
              "      <td>Driver Inattention/Distraction</td>\n",
              "    </tr>\n",
              "    <tr>\n",
              "      <th>51</th>\n",
              "      <td>BRONX</td>\n",
              "      <td>Passing Too Closely</td>\n",
              "    </tr>\n",
              "    <tr>\n",
              "      <th>52</th>\n",
              "      <td>MANHATTAN</td>\n",
              "      <td>Driver Inattention/Distraction</td>\n",
              "    </tr>\n",
              "    <tr>\n",
              "      <th>53</th>\n",
              "      <td>BROOKLYN</td>\n",
              "      <td>Unspecified</td>\n",
              "    </tr>\n",
              "    <tr>\n",
              "      <th>54</th>\n",
              "      <td>STATEN ISLAND</td>\n",
              "      <td>Unspecified</td>\n",
              "    </tr>\n",
              "    <tr>\n",
              "      <th>55</th>\n",
              "      <td>MANHATTAN</td>\n",
              "      <td>Driver Inattention/Distraction</td>\n",
              "    </tr>\n",
              "    <tr>\n",
              "      <th>56</th>\n",
              "      <td>BRONX</td>\n",
              "      <td>Driver Inattention/Distraction</td>\n",
              "    </tr>\n",
              "    <tr>\n",
              "      <th>57</th>\n",
              "      <td>NaN</td>\n",
              "      <td>Unsafe Lane Changing</td>\n",
              "    </tr>\n",
              "    <tr>\n",
              "      <th>58</th>\n",
              "      <td>QUEENS</td>\n",
              "      <td>Alcohol Involvement</td>\n",
              "    </tr>\n",
              "    <tr>\n",
              "      <th>59</th>\n",
              "      <td>MANHATTAN</td>\n",
              "      <td>Passing or Lane Usage Improper</td>\n",
              "    </tr>\n",
              "  </tbody>\n",
              "</table>\n",
              "</div>"
            ],
            "text/plain": [
              "          borough   contributing_factor_vehicle_1\n",
              "0             NaN   Failure to Yield Right-of-Way\n",
              "1          QUEENS                     Unspecified\n",
              "2             NaN                Backing Unsafely\n",
              "3          QUEENS   Failure to Yield Right-of-Way\n",
              "4           BRONX                Backing Unsafely\n",
              "5             NaN             Driver Inexperience\n",
              "6             NaN                Backing Unsafely\n",
              "7             NaN  Passing or Lane Usage Improper\n",
              "8             NaN                 Other Vehicular\n",
              "9             NaN                     Unspecified\n",
              "10       BROOKLYN             Passing Too Closely\n",
              "11         QUEENS             Passing Too Closely\n",
              "12         QUEENS  Driver Inattention/Distraction\n",
              "13         QUEENS                     Unspecified\n",
              "14         QUEENS                Backing Unsafely\n",
              "15          BRONX   Failure to Yield Right-of-Way\n",
              "16      MANHATTAN  Passing or Lane Usage Improper\n",
              "17       BROOKLYN   Failure to Yield Right-of-Way\n",
              "18            NaN           Following Too Closely\n",
              "19          BRONX                Backing Unsafely\n",
              "20            NaN  Driver Inattention/Distraction\n",
              "21            NaN                Backing Unsafely\n",
              "22       BROOKLYN                Backing Unsafely\n",
              "23         QUEENS         View Obstructed/Limited\n",
              "24            NaN           Following Too Closely\n",
              "25         QUEENS                Backing Unsafely\n",
              "26            NaN                     Unspecified\n",
              "27            NaN   Failure to Yield Right-of-Way\n",
              "28      MANHATTAN                 Other Vehicular\n",
              "29            NaN   Failure to Yield Right-of-Way\n",
              "30            NaN                     Unspecified\n",
              "31       BROOKLYN                     Unspecified\n",
              "32       BROOKLYN                 Fatigued/Drowsy\n",
              "33       BROOKLYN   Failure to Yield Right-of-Way\n",
              "34       BROOKLYN  Driver Inattention/Distraction\n",
              "35            NaN  Passing or Lane Usage Improper\n",
              "36       BROOKLYN           Following Too Closely\n",
              "37      MANHATTAN                Backing Unsafely\n",
              "38            NaN                    Unsafe Speed\n",
              "39            NaN                     Unspecified\n",
              "40            NaN              Turning Improperly\n",
              "41            NaN                Backing Unsafely\n",
              "42      MANHATTAN  Driver Inattention/Distraction\n",
              "43       BROOKLYN             Driver Inexperience\n",
              "44            NaN           Following Too Closely\n",
              "45            NaN           Failure to Keep Right\n",
              "46            NaN  Driver Inattention/Distraction\n",
              "47          BRONX  Driver Inattention/Distraction\n",
              "48            NaN  Driver Inattention/Distraction\n",
              "49       BROOKLYN   Failure to Yield Right-of-Way\n",
              "50      MANHATTAN  Driver Inattention/Distraction\n",
              "51          BRONX             Passing Too Closely\n",
              "52      MANHATTAN  Driver Inattention/Distraction\n",
              "53       BROOKLYN                     Unspecified\n",
              "54  STATEN ISLAND                     Unspecified\n",
              "55      MANHATTAN  Driver Inattention/Distraction\n",
              "56          BRONX  Driver Inattention/Distraction\n",
              "57            NaN            Unsafe Lane Changing\n",
              "58         QUEENS             Alcohol Involvement\n",
              "59      MANHATTAN  Passing or Lane Usage Improper"
            ]
          },
          "metadata": {
            "tags": []
          },
          "execution_count": 13
        }
      ]
    },
    {
      "cell_type": "code",
      "metadata": {
        "id": "hudtyrgVAL47",
        "colab_type": "code",
        "outputId": "4d04ecfd-cbff-4269-e7d5-31d663e015bc",
        "colab": {
          "base_uri": "https://localhost:8080/",
          "height": 406
        }
      },
      "source": [
        "look_mv_data_df = look_mv_data[look_mv_data.borough == 'QUEENS']\n",
        "look_mv_data_df\n"
      ],
      "execution_count": 0,
      "outputs": [
        {
          "output_type": "execute_result",
          "data": {
            "text/html": [
              "<div>\n",
              "<style scoped>\n",
              "    .dataframe tbody tr th:only-of-type {\n",
              "        vertical-align: middle;\n",
              "    }\n",
              "\n",
              "    .dataframe tbody tr th {\n",
              "        vertical-align: top;\n",
              "    }\n",
              "\n",
              "    .dataframe thead th {\n",
              "        text-align: right;\n",
              "    }\n",
              "</style>\n",
              "<table border=\"1\" class=\"dataframe\">\n",
              "  <thead>\n",
              "    <tr style=\"text-align: right;\">\n",
              "      <th></th>\n",
              "      <th>borough</th>\n",
              "      <th>contributing_factor_vehicle_1</th>\n",
              "    </tr>\n",
              "  </thead>\n",
              "  <tbody>\n",
              "    <tr>\n",
              "      <th>1</th>\n",
              "      <td>QUEENS</td>\n",
              "      <td>Unspecified</td>\n",
              "    </tr>\n",
              "    <tr>\n",
              "      <th>3</th>\n",
              "      <td>QUEENS</td>\n",
              "      <td>Failure to Yield Right-of-Way</td>\n",
              "    </tr>\n",
              "    <tr>\n",
              "      <th>11</th>\n",
              "      <td>QUEENS</td>\n",
              "      <td>Passing Too Closely</td>\n",
              "    </tr>\n",
              "    <tr>\n",
              "      <th>12</th>\n",
              "      <td>QUEENS</td>\n",
              "      <td>Driver Inattention/Distraction</td>\n",
              "    </tr>\n",
              "    <tr>\n",
              "      <th>13</th>\n",
              "      <td>QUEENS</td>\n",
              "      <td>Unspecified</td>\n",
              "    </tr>\n",
              "    <tr>\n",
              "      <th>...</th>\n",
              "      <td>...</td>\n",
              "      <td>...</td>\n",
              "    </tr>\n",
              "    <tr>\n",
              "      <th>49985</th>\n",
              "      <td>QUEENS</td>\n",
              "      <td>Driver Inattention/Distraction</td>\n",
              "    </tr>\n",
              "    <tr>\n",
              "      <th>49989</th>\n",
              "      <td>QUEENS</td>\n",
              "      <td>Driver Inattention/Distraction</td>\n",
              "    </tr>\n",
              "    <tr>\n",
              "      <th>49994</th>\n",
              "      <td>QUEENS</td>\n",
              "      <td>Unspecified</td>\n",
              "    </tr>\n",
              "    <tr>\n",
              "      <th>49995</th>\n",
              "      <td>QUEENS</td>\n",
              "      <td>Unsafe Lane Changing</td>\n",
              "    </tr>\n",
              "    <tr>\n",
              "      <th>49998</th>\n",
              "      <td>QUEENS</td>\n",
              "      <td>Turning Improperly</td>\n",
              "    </tr>\n",
              "  </tbody>\n",
              "</table>\n",
              "<p>9140 rows × 2 columns</p>\n",
              "</div>"
            ],
            "text/plain": [
              "      borough   contributing_factor_vehicle_1\n",
              "1      QUEENS                     Unspecified\n",
              "3      QUEENS   Failure to Yield Right-of-Way\n",
              "11     QUEENS             Passing Too Closely\n",
              "12     QUEENS  Driver Inattention/Distraction\n",
              "13     QUEENS                     Unspecified\n",
              "...       ...                             ...\n",
              "49985  QUEENS  Driver Inattention/Distraction\n",
              "49989  QUEENS  Driver Inattention/Distraction\n",
              "49994  QUEENS                     Unspecified\n",
              "49995  QUEENS            Unsafe Lane Changing\n",
              "49998  QUEENS              Turning Improperly\n",
              "\n",
              "[9140 rows x 2 columns]"
            ]
          },
          "metadata": {
            "tags": []
          },
          "execution_count": 19
        }
      ]
    },
    {
      "cell_type": "code",
      "metadata": {
        "id": "ZNQvGd2fg2h8",
        "colab_type": "code",
        "colab": {}
      },
      "source": [
        ""
      ],
      "execution_count": 0,
      "outputs": []
    },
    {
      "cell_type": "code",
      "metadata": {
        "id": "C8AR2bUCesie",
        "colab_type": "code",
        "outputId": "55525e72-1b08-4b04-cb90-5375e6a673aa",
        "colab": {
          "base_uri": "https://localhost:8080/",
          "height": 798
        }
      },
      "source": [
        "reason_counts = look_mv_data_df['contributing_factor_vehicle_1'].value_counts()\n",
        "reason_counts"
      ],
      "execution_count": 0,
      "outputs": [
        {
          "output_type": "execute_result",
          "data": {
            "text/plain": [
              "Driver Inattention/Distraction                           2568\n",
              "Unspecified                                              2025\n",
              "Failure to Yield Right-of-Way                             900\n",
              "Backing Unsafely                                          630\n",
              "Following Too Closely                                     558\n",
              "Passing Too Closely                                       383\n",
              "Passing or Lane Usage Improper                            349\n",
              "Turning Improperly                                        217\n",
              "Other Vehicular                                           195\n",
              "Traffic Control Disregarded                               180\n",
              "Unsafe Lane Changing                                      166\n",
              "Driver Inexperience                                       140\n",
              "Reaction to Uninvolved Vehicle                            129\n",
              "Unsafe Speed                                              109\n",
              "Alcohol Involvement                                        99\n",
              "View Obstructed/Limited                                    81\n",
              "Pedestrian/Bicyclist/Other Pedestrian Error/Confusion      35\n",
              "Oversized Vehicle                                          32\n",
              "Brakes Defective                                           31\n",
              "Passenger Distraction                                      28\n",
              "Fell Asleep                                                27\n",
              "Aggressive Driving/Road Rage                               24\n",
              "Pavement Slippery                                          23\n",
              "Glare                                                      19\n",
              "Tire Failure/Inadequate                                    18\n",
              "Pavement Defective                                         17\n",
              "Steering Failure                                           16\n",
              "Outside Car Distraction                                    15\n",
              "Accelerator Defective                                      11\n",
              "Lost Consciousness                                         10\n",
              "Fatigued/Drowsy                                            10\n",
              "Illnes                                                      9\n",
              "Driverless/Runaway Vehicle                                  9\n",
              "Failure to Keep Right                                       8\n",
              "Obstruction/Debris                                          8\n",
              "Lane Marking Improper/Inadequate                            7\n",
              "Animals Action                                              6\n",
              "Physical Disability                                         5\n",
              "Cell Phone (hand-Held)                                      4\n",
              "Drugs (illegal)                                             3\n",
              "Headlights Defective                                        2\n",
              "Prescription Medication                                     1\n",
              "Tow Hitch Defective                                         1\n",
              "Name: contributing_factor_vehicle_1, dtype: int64"
            ]
          },
          "metadata": {
            "tags": []
          },
          "execution_count": 30
        }
      ]
    },
    {
      "cell_type": "code",
      "metadata": {
        "id": "B9fX9ksAfp1L",
        "colab_type": "code",
        "outputId": "01d34025-e9af-4450-9679-5882572dcb73",
        "colab": {
          "base_uri": "https://localhost:8080/",
          "height": 34
        }
      },
      "source": [
        "total_reason_counts = reason_counts.sum()\n",
        "total_reason_counts"
      ],
      "execution_count": 0,
      "outputs": [
        {
          "output_type": "execute_result",
          "data": {
            "text/plain": [
              "9108"
            ]
          },
          "metadata": {
            "tags": []
          },
          "execution_count": 29
        }
      ]
    },
    {
      "cell_type": "code",
      "metadata": {
        "id": "_r_UAc63gLnQ",
        "colab_type": "code",
        "outputId": "5e5a9359-dc0f-457f-85d6-593f40dab52e",
        "colab": {
          "base_uri": "https://localhost:8080/",
          "height": 34
        }
      },
      "source": [
        "Driver_Inattention_Distraction = reason_counts['Driver Inattention/Distraction']\n",
        "Driver_Inattention_Distraction"
      ],
      "execution_count": 0,
      "outputs": [
        {
          "output_type": "execute_result",
          "data": {
            "text/plain": [
              "2568"
            ]
          },
          "metadata": {
            "tags": []
          },
          "execution_count": 26
        }
      ]
    },
    {
      "cell_type": "code",
      "metadata": {
        "id": "eufIYKfohDcl",
        "colab_type": "code",
        "outputId": "731429e2-8720-41d3-e21b-d2cc4bebba4a",
        "colab": {
          "base_uri": "https://localhost:8080/",
          "height": 798
        }
      },
      "source": [
        "reason_counts1 = reason_counts/total_reason_counts*100\n",
        "reason_counts1"
      ],
      "execution_count": 0,
      "outputs": [
        {
          "output_type": "execute_result",
          "data": {
            "text/plain": [
              "Driver Inattention/Distraction                           28.194993\n",
              "Unspecified                                              22.233202\n",
              "Failure to Yield Right-of-Way                             9.881423\n",
              "Backing Unsafely                                          6.916996\n",
              "Following Too Closely                                     6.126482\n",
              "Passing Too Closely                                       4.205094\n",
              "Passing or Lane Usage Improper                            3.831796\n",
              "Turning Improperly                                        2.382521\n",
              "Other Vehicular                                           2.140975\n",
              "Traffic Control Disregarded                               1.976285\n",
              "Unsafe Lane Changing                                      1.822574\n",
              "Driver Inexperience                                       1.537110\n",
              "Reaction to Uninvolved Vehicle                            1.416337\n",
              "Unsafe Speed                                              1.196750\n",
              "Alcohol Involvement                                       1.086957\n",
              "View Obstructed/Limited                                   0.889328\n",
              "Pedestrian/Bicyclist/Other Pedestrian Error/Confusion     0.384278\n",
              "Oversized Vehicle                                         0.351339\n",
              "Brakes Defective                                          0.340360\n",
              "Passenger Distraction                                     0.307422\n",
              "Fell Asleep                                               0.296443\n",
              "Aggressive Driving/Road Rage                              0.263505\n",
              "Pavement Slippery                                         0.252525\n",
              "Glare                                                     0.208608\n",
              "Tire Failure/Inadequate                                   0.197628\n",
              "Pavement Defective                                        0.186649\n",
              "Steering Failure                                          0.175670\n",
              "Outside Car Distraction                                   0.164690\n",
              "Accelerator Defective                                     0.120773\n",
              "Lost Consciousness                                        0.109794\n",
              "Fatigued/Drowsy                                           0.109794\n",
              "Illnes                                                    0.098814\n",
              "Driverless/Runaway Vehicle                                0.098814\n",
              "Failure to Keep Right                                     0.087835\n",
              "Obstruction/Debris                                        0.087835\n",
              "Lane Marking Improper/Inadequate                          0.076856\n",
              "Animals Action                                            0.065876\n",
              "Physical Disability                                       0.054897\n",
              "Cell Phone (hand-Held)                                    0.043917\n",
              "Drugs (illegal)                                           0.032938\n",
              "Headlights Defective                                      0.021959\n",
              "Prescription Medication                                   0.010979\n",
              "Tow Hitch Defective                                       0.010979\n",
              "Name: contributing_factor_vehicle_1, dtype: float64"
            ]
          },
          "metadata": {
            "tags": []
          },
          "execution_count": 35
        }
      ]
    },
    {
      "cell_type": "code",
      "metadata": {
        "id": "sJv7SQfKhD-O",
        "colab_type": "code",
        "colab": {}
      },
      "source": [
        "Driver_Inattention_Distraction"
      ],
      "execution_count": 0,
      "outputs": []
    },
    {
      "cell_type": "code",
      "metadata": {
        "id": "6EXrqvC4hFUZ",
        "colab_type": "code",
        "colab": {}
      },
      "source": [
        ""
      ],
      "execution_count": 0,
      "outputs": []
    },
    {
      "cell_type": "code",
      "metadata": {
        "id": "FXRf1SlLJiSe",
        "colab_type": "code",
        "colab": {}
      },
      "source": [
        "look_mv_data.head()"
      ],
      "execution_count": 0,
      "outputs": []
    },
    {
      "cell_type": "code",
      "metadata": {
        "id": "5uTexS1K3-iJ",
        "colab_type": "code",
        "outputId": "bd9a1aa0-a73b-42ad-8e56-66cd84a05925",
        "colab": {
          "base_uri": "https://localhost:8080/",
          "height": 406
        }
      },
      "source": [
        "select_mv_data = look_mv_data.iloc[: , [0,1]]\n",
        "select_mv_data "
      ],
      "execution_count": 0,
      "outputs": [
        {
          "output_type": "execute_result",
          "data": {
            "text/html": [
              "<div>\n",
              "<style scoped>\n",
              "    .dataframe tbody tr th:only-of-type {\n",
              "        vertical-align: middle;\n",
              "    }\n",
              "\n",
              "    .dataframe tbody tr th {\n",
              "        vertical-align: top;\n",
              "    }\n",
              "\n",
              "    .dataframe thead th {\n",
              "        text-align: right;\n",
              "    }\n",
              "</style>\n",
              "<table border=\"1\" class=\"dataframe\">\n",
              "  <thead>\n",
              "    <tr style=\"text-align: right;\">\n",
              "      <th></th>\n",
              "      <th>borough</th>\n",
              "      <th>contributing_factor_vehicle_1</th>\n",
              "    </tr>\n",
              "  </thead>\n",
              "  <tbody>\n",
              "    <tr>\n",
              "      <th>0</th>\n",
              "      <td>QUEENS</td>\n",
              "      <td>Passing or Lane Usage Improper</td>\n",
              "    </tr>\n",
              "    <tr>\n",
              "      <th>1</th>\n",
              "      <td>BROOKLYN</td>\n",
              "      <td>Passing Too Closely</td>\n",
              "    </tr>\n",
              "    <tr>\n",
              "      <th>2</th>\n",
              "      <td>QUEENS</td>\n",
              "      <td>Driver Inexperience</td>\n",
              "    </tr>\n",
              "    <tr>\n",
              "      <th>3</th>\n",
              "      <td>NaN</td>\n",
              "      <td>Following Too Closely</td>\n",
              "    </tr>\n",
              "    <tr>\n",
              "      <th>4</th>\n",
              "      <td>QUEENS</td>\n",
              "      <td>Driver Inattention/Distraction</td>\n",
              "    </tr>\n",
              "    <tr>\n",
              "      <th>...</th>\n",
              "      <td>...</td>\n",
              "      <td>...</td>\n",
              "    </tr>\n",
              "    <tr>\n",
              "      <th>49995</th>\n",
              "      <td>NaN</td>\n",
              "      <td>Driver Inattention/Distraction</td>\n",
              "    </tr>\n",
              "    <tr>\n",
              "      <th>49996</th>\n",
              "      <td>BROOKLYN</td>\n",
              "      <td>Driver Inattention/Distraction</td>\n",
              "    </tr>\n",
              "    <tr>\n",
              "      <th>49997</th>\n",
              "      <td>BROOKLYN</td>\n",
              "      <td>Alcohol Involvement</td>\n",
              "    </tr>\n",
              "    <tr>\n",
              "      <th>49998</th>\n",
              "      <td>QUEENS</td>\n",
              "      <td>Unspecified</td>\n",
              "    </tr>\n",
              "    <tr>\n",
              "      <th>49999</th>\n",
              "      <td>NaN</td>\n",
              "      <td>Following Too Closely</td>\n",
              "    </tr>\n",
              "  </tbody>\n",
              "</table>\n",
              "<p>50000 rows × 2 columns</p>\n",
              "</div>"
            ],
            "text/plain": [
              "        borough   contributing_factor_vehicle_1\n",
              "0        QUEENS  Passing or Lane Usage Improper\n",
              "1      BROOKLYN             Passing Too Closely\n",
              "2        QUEENS             Driver Inexperience\n",
              "3           NaN           Following Too Closely\n",
              "4        QUEENS  Driver Inattention/Distraction\n",
              "...         ...                             ...\n",
              "49995       NaN  Driver Inattention/Distraction\n",
              "49996  BROOKLYN  Driver Inattention/Distraction\n",
              "49997  BROOKLYN             Alcohol Involvement\n",
              "49998    QUEENS                     Unspecified\n",
              "49999       NaN           Following Too Closely\n",
              "\n",
              "[50000 rows x 2 columns]"
            ]
          },
          "metadata": {
            "tags": []
          },
          "execution_count": 55
        }
      ]
    },
    {
      "cell_type": "code",
      "metadata": {
        "id": "a4ZmKtSTw3pi",
        "colab_type": "code",
        "outputId": "f1a5fd36-c740-4ec4-99c2-4613bc80a37d",
        "colab": {
          "base_uri": "https://localhost:8080/",
          "height": 585
        }
      },
      "source": [
        "mv_data['vehicle_type_code1'].unique()"
      ],
      "execution_count": 0,
      "outputs": [
        {
          "output_type": "execute_result",
          "data": {
            "text/plain": [
              "array(['Dump', 'Station Wagon/Sport Utility Vehicle', 'Sedan', 'Bus',\n",
              "       'Box Truck', 'Pick-up Truck', 'Taxi', 'Van', 'Convertible', nan,\n",
              "       'Hopper', 'Concrete Mixer', 'Motorcycle', 'fdny', 'Bike',\n",
              "       'Carry All', 'Garbage or Refuse', 'Ambulance',\n",
              "       'Tractor Truck Diesel', 'ROAD', 'Motorscooter', 'van', 'PK',\n",
              "       'AMBU', 'Tanker', 'SPORT UTILITY / STATION WAGON', 'SCHOO',\n",
              "       'Tractor Truck Gasoline', 'Flat Bed', 'AMBUL', 'Chassis Cab',\n",
              "       'semi', 'Tow Truck / Wrecker', '3-Door', 'BOX T', 'Moped', 'TANKE',\n",
              "       'Stree', 'st', 'TRUCK', 'UTILI', 'Vanette', 'FDNY', 'Motorbike',\n",
              "       'PASSENGER VEHICLE', 'TRACK', 'Trail', 'SCOOT', 'TRACT', 'dumps',\n",
              "       'picku', 'TAXI', 'Beverage Truck', 'ambul', 'Stake or Rack',\n",
              "       'Scoot', 'Refrigerated Van', 'Deliv', 'OTHER', 'TOW T',\n",
              "       'Multi-Wheeled Vehicle', 'garba', 'Flat Rack', 'ELECT',\n",
              "       'Armored Truck', 'UNKNOWN', 'MAIL', 'RMP', 'tow t', 'FIRE',\n",
              "       'Livestock Rack', 'TRAIL', 'Box t', 'COMME', 'HORSE', 'MACK',\n",
              "       'Pallet', 'DUMP', 'C3', 'FIRET', 'FORD', 'Ambul', 'USPS', 'P/SH',\n",
              "       'concr', 'TRAC', 'Tow Truck', 'COURI', 'COM', 'Comme', 'CRANE',\n",
              "       'other', 'School Bus', 'MTA B', 'FORKL', 'usps', 'HINO', 'Truck',\n",
              "       'E-Sco', 'Lift Boom', 'CONST', 'Motor Home', 'mta b', 'fire',\n",
              "       'FRIEG', 'moter', 'CAT P', 'Well Driller', 'Fire', 'Garba',\n",
              "       'motor', 'Van Camper', 'Snow Plow', 'com', 'Delv', 'SELF', 'Schoo',\n",
              "       'SC', 'Posta', 'dump', 'YELLO',\n",
              "       'Enclosed Body - Nonremovable Enclosure', 'Glass Rack', 'SEGWA',\n",
              "       'DELIV', 'Pick', 'DIRT', 'comme', 'NYCHA', 'BOOM', 'power',\n",
              "       'wagon', 'PASSE', 'Open Body', 'GARBA', 'MTA T', 'GOLF', 'Sanit',\n",
              "       'Picku', 'UNK', 'C1', 'SANIT', 'E-Bik', 'Snow', 'FORK', 'BK',\n",
              "       'BUCKE', 'truck', 'REFG', 'Bulk Agriculture', 'VAN', 'Hrse',\n",
              "       'Pickup with mounted Camper', 'elect', 'PICK-', 'MAC T', 'TRANS',\n",
              "       'GATOR', 'US PO', 'A', 'STREE', 'BACKH', 'BUS', 'scoot', 'GOVER',\n",
              "       'rv', 'G COM', 'Road', 'stree', 'PKUP', 'EXCAV', 'PICK-UP TRUCK',\n",
              "       'SPC', 'none', 'POSTA', 'ambu', '4 dr sedan', 'LIMO', '2 dr sedan',\n",
              "       'Pedicab'], dtype=object)"
            ]
          },
          "metadata": {
            "tags": []
          },
          "execution_count": 56
        }
      ]
    },
    {
      "cell_type": "markdown",
      "metadata": {
        "id": "vqyWK1SFzDD8",
        "colab_type": "text"
      },
      "source": [
        "### We can further narrow what we are looking at by selecting for vehicle types. We can look at Station Wagon/Sport Utility Vehicle and Sedan. So, in Brooklyn for inexperienced drivers, what can we see for this group driving Station Wagon/Sport Utility Vehicle versus driving a sedan."
      ]
    },
    {
      "cell_type": "code",
      "metadata": {
        "id": "-lDL1gwpzBT8",
        "colab_type": "code",
        "outputId": "3ade0409-e251-4352-dc94-b55475caf615",
        "colab": {
          "base_uri": "https://localhost:8080/",
          "height": 230
        }
      },
      "source": [
        "mv_data['vehicle_type_code1'].value_counts()"
      ],
      "execution_count": 0,
      "outputs": [
        {
          "output_type": "execute_result",
          "data": {
            "text/plain": [
              "Sedan                                  22535\n",
              "Station Wagon/Sport Utility Vehicle    18723\n",
              "Taxi                                    2468\n",
              "Pick-up Truck                           1484\n",
              "Box Truck                                955\n",
              "                                       ...  \n",
              "US PO                                      1\n",
              "none                                       1\n",
              "C3                                         1\n",
              "PICK-                                      1\n",
              "wagon                                      1\n",
              "Name: vehicle_type_code1, Length: 179, dtype: int64"
            ]
          },
          "metadata": {
            "tags": []
          },
          "execution_count": 57
        }
      ]
    },
    {
      "cell_type": "markdown",
      "metadata": {
        "id": "pCOMTDLwPq1s",
        "colab_type": "text"
      },
      "source": [
        "### So for Brooklyn and crashes due to inexperience driver, passenger vehicle (? what is this), sports utility/station wagon, sedan, and then station wagon/sport utility were the largest number of vehicles involved in the crashes. We could maybe combine sports utility/station wagon and station wagon/sport utility groups."
      ]
    },
    {
      "cell_type": "code",
      "metadata": {
        "id": "HmYgxaJyRG1_",
        "colab_type": "code",
        "colab": {}
      },
      "source": [
        "mv_data['vehicle_type_code1'] = mv_data['vehicle_type_code1'].str.replace('SPORT UTILITY / STATION WAGON', 'SUV')\n",
        "mv_data['vehicle_type_code1'] = mv_data['vehicle_type_code1'].str.replace('Station Wagon/Sport Utility Vehicle', 'SUV')\n"
      ],
      "execution_count": 0,
      "outputs": []
    },
    {
      "cell_type": "code",
      "metadata": {
        "id": "aKL6SH98Jkbm",
        "colab_type": "code",
        "colab": {}
      },
      "source": [
        "number_injured = (\"NUMBER OF PERSONS INJURED\" + \"NUMBER OF PEDESTRIANS INJURED\" + \"NUMBER OF MOTORIST INJURED\" + \"NUMBER OF CYCLIST INJURED\")\n"
      ],
      "execution_count": 0,
      "outputs": []
    },
    {
      "cell_type": "code",
      "metadata": {
        "id": "55VvZoFe6qZQ",
        "colab_type": "code",
        "colab": {}
      },
      "source": [
        "new_mv_data1 = mv_data.drop(columns = [('vehicle_type_code1')])"
      ],
      "execution_count": 0,
      "outputs": []
    },
    {
      "cell_type": "code",
      "metadata": {
        "id": "svyW692ojDO1",
        "colab_type": "code",
        "outputId": "c5d5f290-3305-4fe8-92f7-d73d80b4241a",
        "colab": {
          "base_uri": "https://localhost:8080/",
          "height": 540
        }
      },
      "source": [
        "reason_counts1.plot.bar()"
      ],
      "execution_count": 0,
      "outputs": [
        {
          "output_type": "execute_result",
          "data": {
            "text/plain": [
              "<matplotlib.axes._subplots.AxesSubplot at 0x7f07a329fcf8>"
            ]
          },
          "metadata": {
            "tags": []
          },
          "execution_count": 38
        },
        {
          "output_type": "display_data",
          "data": {
            "image/png": "[encoded data removed]",
            "text/plain": [
              "<Figure size 432x288 with 1 Axes>"
            ]
          },
          "metadata": {
            "tags": []
          }
        }
      ]
    },
    {
      "cell_type": "markdown",
      "metadata": {
        "id": "2x45SI82dC4P",
        "colab_type": "text"
      },
      "source": [
        "### We can plot using matplotlib to explore the data, looking for information and patterns.\n",
        "\n"
      ]
    },
    {
      "cell_type": "code",
      "metadata": {
        "id": "JQUeWW1pLs9F",
        "colab_type": "code",
        "colab": {}
      },
      "source": [
        ""
      ],
      "execution_count": 0,
      "outputs": []
    },
    {
      "cell_type": "code",
      "metadata": {
        "id": "aKL1-Q2pdiuv",
        "colab_type": "code",
        "outputId": "410f9707-806f-4a07-b0c0-a4622d502204",
        "colab": {
          "base_uri": "https://localhost:8080/",
          "height": 1000
        }
      },
      "source": [
        "import matplotlib.pyplot as plt\n",
        "%matplotlib inline \n",
        "\n",
        "fig, ax = plt.subplots(figsize=(13,16))\n",
        "ax.margins(0.05)\n",
        "ax.plot(mv_data['QUEENS'],\n",
        "       mv_data['number_of_pedestrians_injured'],\n",
        "         marker='o',\n",
        "       linestyle='',\n",
        "       alpha=0.5)\n",
        "plt.show()"
      ],
      "execution_count": 0,
      "outputs": [
        {
          "output_type": "error",
          "ename": "NameError",
          "evalue": "ignored",
          "traceback": [
            "\u001b[0;31m---------------------------------------------------------------------------\u001b[0m",
            "\u001b[0;31mNameError\u001b[0m                                 Traceback (most recent call last)",
            "\u001b[0;32m<ipython-input-3-b5176d09c604>\u001b[0m in \u001b[0;36m<module>\u001b[0;34m()\u001b[0m\n\u001b[1;32m      4\u001b[0m \u001b[0mfig\u001b[0m\u001b[0;34m,\u001b[0m \u001b[0max\u001b[0m \u001b[0;34m=\u001b[0m \u001b[0mplt\u001b[0m\u001b[0;34m.\u001b[0m\u001b[0msubplots\u001b[0m\u001b[0;34m(\u001b[0m\u001b[0mfigsize\u001b[0m\u001b[0;34m=\u001b[0m\u001b[0;34m(\u001b[0m\u001b[0;36m13\u001b[0m\u001b[0;34m,\u001b[0m\u001b[0;36m16\u001b[0m\u001b[0;34m)\u001b[0m\u001b[0;34m)\u001b[0m\u001b[0;34m\u001b[0m\u001b[0;34m\u001b[0m\u001b[0m\n\u001b[1;32m      5\u001b[0m \u001b[0max\u001b[0m\u001b[0;34m.\u001b[0m\u001b[0mmargins\u001b[0m\u001b[0;34m(\u001b[0m\u001b[0;36m0.05\u001b[0m\u001b[0;34m)\u001b[0m\u001b[0;34m\u001b[0m\u001b[0;34m\u001b[0m\u001b[0m\n\u001b[0;32m----> 6\u001b[0;31m ax.plot(mv_data['contributing_factor_vehicle_1'],\n\u001b[0m\u001b[1;32m      7\u001b[0m        \u001b[0mmv_data\u001b[0m\u001b[0;34m[\u001b[0m\u001b[0;34m'number_of_pedestrians_injured'\u001b[0m\u001b[0;34m]\u001b[0m\u001b[0;34m,\u001b[0m\u001b[0;34m\u001b[0m\u001b[0;34m\u001b[0m\u001b[0m\n\u001b[1;32m      8\u001b[0m          \u001b[0mmarker\u001b[0m\u001b[0;34m=\u001b[0m\u001b[0;34m'o'\u001b[0m\u001b[0;34m,\u001b[0m\u001b[0;34m\u001b[0m\u001b[0;34m\u001b[0m\u001b[0m\n",
            "\u001b[0;31mNameError\u001b[0m: name 'mv_data' is not defined"
          ]
        },
        {
          "output_type": "display_data",
          "data": {
            "image/png": "[encoded data removed]",
            "text/plain": [
              "<Figure size 936x1152 with 1 Axes>"
            ]
          },
          "metadata": {
            "tags": []
          }
        }
      ]
    },
    {
      "cell_type": "code",
      "metadata": {
        "id": "r65SiexRzXuX",
        "colab_type": "code",
        "colab": {}
      },
      "source": [
        ""
      ],
      "execution_count": 0,
      "outputs": []
    },
    {
      "cell_type": "markdown",
      "metadata": {
        "id": "7BXQMr0x2QyU",
        "colab_type": "text"
      },
      "source": [
        "### within this plot we see driver inexperience had episdoes of 1,2, and 3 numbers of pedestrians injured."
      ]
    },
    {
      "cell_type": "markdown",
      "metadata": {
        "id": "niV_QFyFzY2Q",
        "colab_type": "text"
      },
      "source": [
        "### Look at data for contributing factor vehicle1  and number of pedestrians injured in boxplot\n"
      ]
    },
    {
      "cell_type": "code",
      "metadata": {
        "id": "irHBMDQ3jxHU",
        "colab_type": "code",
        "outputId": "e44cc584-90f3-4175-8e74-6af231ff43fc",
        "colab": {
          "base_uri": "https://localhost:8080/",
          "height": 584
        }
      },
      "source": [
        "\n",
        "\n",
        "\n",
        "mv_data.boxplot(mv_data['vehicle_type_code1'].value_counts(), by='number_of_motorist_killed')"
      ],
      "execution_count": 0,
      "outputs": [
        {
          "output_type": "error",
          "ename": "KeyError",
          "evalue": "ignored",
          "traceback": [
            "\u001b[0;31m---------------------------------------------------------------------------\u001b[0m",
            "\u001b[0;31mKeyError\u001b[0m                                  Traceback (most recent call last)",
            "\u001b[0;32m<ipython-input-50-1455596c2d78>\u001b[0m in \u001b[0;36m<module>\u001b[0;34m()\u001b[0m\n\u001b[0;32m----> 1\u001b[0;31m \u001b[0mmv_data\u001b[0m\u001b[0;34m.\u001b[0m\u001b[0mboxplot\u001b[0m\u001b[0;34m(\u001b[0m\u001b[0mmv_data\u001b[0m\u001b[0;34m[\u001b[0m\u001b[0;34m'vehicle_type_code1'\u001b[0m\u001b[0;34m]\u001b[0m\u001b[0;34m.\u001b[0m\u001b[0mvalue_counts\u001b[0m\u001b[0;34m(\u001b[0m\u001b[0;34m)\u001b[0m\u001b[0;34m,\u001b[0m \u001b[0mby\u001b[0m\u001b[0;34m=\u001b[0m\u001b[0;34m'number_of_motorist_killed'\u001b[0m\u001b[0;34m)\u001b[0m\u001b[0;34m\u001b[0m\u001b[0;34m\u001b[0m\u001b[0m\n\u001b[0m",
            "\u001b[0;32m/usr/local/lib/python3.6/dist-packages/pandas/plotting/_core.py\u001b[0m in \u001b[0;36mboxplot_frame\u001b[0;34m(self, column, by, ax, fontsize, rot, grid, figsize, layout, return_type, **kwds)\u001b[0m\n\u001b[1;32m   2252\u001b[0m     ax = boxplot(self, column=column, by=by, ax=ax, fontsize=fontsize,\n\u001b[1;32m   2253\u001b[0m                  \u001b[0mgrid\u001b[0m\u001b[0;34m=\u001b[0m\u001b[0mgrid\u001b[0m\u001b[0;34m,\u001b[0m \u001b[0mrot\u001b[0m\u001b[0;34m=\u001b[0m\u001b[0mrot\u001b[0m\u001b[0;34m,\u001b[0m \u001b[0mfigsize\u001b[0m\u001b[0;34m=\u001b[0m\u001b[0mfigsize\u001b[0m\u001b[0;34m,\u001b[0m \u001b[0mlayout\u001b[0m\u001b[0;34m=\u001b[0m\u001b[0mlayout\u001b[0m\u001b[0;34m,\u001b[0m\u001b[0;34m\u001b[0m\u001b[0;34m\u001b[0m\u001b[0m\n\u001b[0;32m-> 2254\u001b[0;31m                  return_type=return_type, **kwds)\n\u001b[0m\u001b[1;32m   2255\u001b[0m     \u001b[0mplt\u001b[0m\u001b[0;34m.\u001b[0m\u001b[0mdraw_if_interactive\u001b[0m\u001b[0;34m(\u001b[0m\u001b[0;34m)\u001b[0m\u001b[0;34m\u001b[0m\u001b[0;34m\u001b[0m\u001b[0m\n\u001b[1;32m   2256\u001b[0m     \u001b[0;32mreturn\u001b[0m \u001b[0max\u001b[0m\u001b[0;34m\u001b[0m\u001b[0;34m\u001b[0m\u001b[0m\n",
            "\u001b[0;32m/usr/local/lib/python3.6/dist-packages/pandas/plotting/_core.py\u001b[0m in \u001b[0;36mboxplot\u001b[0;34m(data, column, by, ax, fontsize, rot, grid, figsize, layout, return_type, **kwds)\u001b[0m\n\u001b[1;32m   2221\u001b[0m                                          \u001b[0mby\u001b[0m\u001b[0;34m=\u001b[0m\u001b[0mby\u001b[0m\u001b[0;34m,\u001b[0m \u001b[0mgrid\u001b[0m\u001b[0;34m=\u001b[0m\u001b[0mgrid\u001b[0m\u001b[0;34m,\u001b[0m \u001b[0mfigsize\u001b[0m\u001b[0;34m=\u001b[0m\u001b[0mfigsize\u001b[0m\u001b[0;34m,\u001b[0m\u001b[0;34m\u001b[0m\u001b[0;34m\u001b[0m\u001b[0m\n\u001b[1;32m   2222\u001b[0m                                          \u001b[0max\u001b[0m\u001b[0;34m=\u001b[0m\u001b[0max\u001b[0m\u001b[0;34m,\u001b[0m \u001b[0mlayout\u001b[0m\u001b[0;34m=\u001b[0m\u001b[0mlayout\u001b[0m\u001b[0;34m,\u001b[0m\u001b[0;34m\u001b[0m\u001b[0;34m\u001b[0m\u001b[0m\n\u001b[0;32m-> 2223\u001b[0;31m                                          return_type=return_type)\n\u001b[0m\u001b[1;32m   2224\u001b[0m     \u001b[0;32melse\u001b[0m\u001b[0;34m:\u001b[0m\u001b[0;34m\u001b[0m\u001b[0;34m\u001b[0m\u001b[0m\n\u001b[1;32m   2225\u001b[0m         \u001b[0;32mif\u001b[0m \u001b[0mreturn_type\u001b[0m \u001b[0;32mis\u001b[0m \u001b[0;32mNone\u001b[0m\u001b[0;34m:\u001b[0m\u001b[0;34m\u001b[0m\u001b[0;34m\u001b[0m\u001b[0m\n",
            "\u001b[0;32m/usr/local/lib/python3.6/dist-packages/pandas/plotting/_core.py\u001b[0m in \u001b[0;36m_grouped_plot_by_column\u001b[0;34m(plotf, data, columns, by, numeric_only, grid, figsize, ax, layout, return_type, **kwargs)\u001b[0m\n\u001b[1;32m   2679\u001b[0m     \u001b[0;32mfor\u001b[0m \u001b[0mi\u001b[0m\u001b[0;34m,\u001b[0m \u001b[0mcol\u001b[0m \u001b[0;32min\u001b[0m \u001b[0menumerate\u001b[0m\u001b[0;34m(\u001b[0m\u001b[0mcolumns\u001b[0m\u001b[0;34m)\u001b[0m\u001b[0;34m:\u001b[0m\u001b[0;34m\u001b[0m\u001b[0;34m\u001b[0m\u001b[0m\n\u001b[1;32m   2680\u001b[0m         \u001b[0max\u001b[0m \u001b[0;34m=\u001b[0m \u001b[0m_axes\u001b[0m\u001b[0;34m[\u001b[0m\u001b[0mi\u001b[0m\u001b[0;34m]\u001b[0m\u001b[0;34m\u001b[0m\u001b[0;34m\u001b[0m\u001b[0m\n\u001b[0;32m-> 2681\u001b[0;31m         \u001b[0mgp_col\u001b[0m \u001b[0;34m=\u001b[0m \u001b[0mgrouped\u001b[0m\u001b[0;34m[\u001b[0m\u001b[0mcol\u001b[0m\u001b[0;34m]\u001b[0m\u001b[0;34m\u001b[0m\u001b[0;34m\u001b[0m\u001b[0m\n\u001b[0m\u001b[1;32m   2682\u001b[0m         \u001b[0mkeys\u001b[0m\u001b[0;34m,\u001b[0m \u001b[0mvalues\u001b[0m \u001b[0;34m=\u001b[0m \u001b[0mzip\u001b[0m\u001b[0;34m(\u001b[0m\u001b[0;34m*\u001b[0m\u001b[0mgp_col\u001b[0m\u001b[0;34m)\u001b[0m\u001b[0;34m\u001b[0m\u001b[0;34m\u001b[0m\u001b[0m\n\u001b[1;32m   2683\u001b[0m         \u001b[0mre_plotf\u001b[0m \u001b[0;34m=\u001b[0m \u001b[0mplotf\u001b[0m\u001b[0;34m(\u001b[0m\u001b[0mkeys\u001b[0m\u001b[0;34m,\u001b[0m \u001b[0mvalues\u001b[0m\u001b[0;34m,\u001b[0m \u001b[0max\u001b[0m\u001b[0;34m,\u001b[0m \u001b[0;34m**\u001b[0m\u001b[0mkwargs\u001b[0m\u001b[0;34m)\u001b[0m\u001b[0;34m\u001b[0m\u001b[0;34m\u001b[0m\u001b[0m\n",
            "\u001b[0;32m/usr/local/lib/python3.6/dist-packages/pandas/core/base.py\u001b[0m in \u001b[0;36m__getitem__\u001b[0;34m(self, key)\u001b[0m\n\u001b[1;32m    263\u001b[0m                 \u001b[0mbad_keys\u001b[0m \u001b[0;34m=\u001b[0m \u001b[0mlist\u001b[0m\u001b[0;34m(\u001b[0m\u001b[0mset\u001b[0m\u001b[0;34m(\u001b[0m\u001b[0mkey\u001b[0m\u001b[0;34m)\u001b[0m\u001b[0;34m.\u001b[0m\u001b[0mdifference\u001b[0m\u001b[0;34m(\u001b[0m\u001b[0mself\u001b[0m\u001b[0;34m.\u001b[0m\u001b[0mobj\u001b[0m\u001b[0;34m.\u001b[0m\u001b[0mcolumns\u001b[0m\u001b[0;34m)\u001b[0m\u001b[0;34m)\u001b[0m\u001b[0;34m\u001b[0m\u001b[0;34m\u001b[0m\u001b[0m\n\u001b[1;32m    264\u001b[0m                 raise KeyError(\"Columns not found: {missing}\"\n\u001b[0;32m--> 265\u001b[0;31m                                .format(missing=str(bad_keys)[1:-1]))\n\u001b[0m\u001b[1;32m    266\u001b[0m             \u001b[0;32mreturn\u001b[0m \u001b[0mself\u001b[0m\u001b[0;34m.\u001b[0m\u001b[0m_gotitem\u001b[0m\u001b[0;34m(\u001b[0m\u001b[0mlist\u001b[0m\u001b[0;34m(\u001b[0m\u001b[0mkey\u001b[0m\u001b[0;34m)\u001b[0m\u001b[0;34m,\u001b[0m \u001b[0mndim\u001b[0m\u001b[0;34m=\u001b[0m\u001b[0;36m2\u001b[0m\u001b[0;34m)\u001b[0m\u001b[0;34m\u001b[0m\u001b[0;34m\u001b[0m\u001b[0m\n\u001b[1;32m    267\u001b[0m \u001b[0;34m\u001b[0m\u001b[0m\n",
            "\u001b[0;31mKeyError\u001b[0m: 'Columns not found: 64, 1, 2, 3, 4, 5, 6, 7, 8, 9, 68, 70, 12, 75, 15, 20, 1240, 30, 31, 35, 548, 43, 45, 49, 2110'"
          ]
        },
        {
          "output_type": "display_data",
          "data": {
            "image/png": "[encoded data removed]",
            "text/plain": [
              "<Figure size 432x288 with 1 Axes>"
            ]
          },
          "metadata": {
            "tags": []
          }
        }
      ]
    },
    {
      "cell_type": "markdown",
      "metadata": {
        "id": "PsqMmtEVzyHe",
        "colab_type": "text"
      },
      "source": [
        "### Look at this same information with seaborn data visualization tool\n"
      ]
    },
    {
      "cell_type": "markdown",
      "metadata": {
        "id": "HPUiRfj3l8DX",
        "colab_type": "text"
      },
      "source": [
        ""
      ]
    },
    {
      "cell_type": "code",
      "metadata": {
        "id": "4AT9MKYml8gS",
        "colab_type": "code",
        "outputId": "9af65b34-0059-4937-fdd5-6e200311ddbf",
        "colab": {
          "base_uri": "https://localhost:8080/",
          "height": 1000
        }
      },
      "source": [
        "import seaborn as sns\n",
        "sns.set(style=\"whitegrid\")\n",
        "\n",
        "f, ax = plt.subplots(figsize=(15, 25))\n",
        "sns.scatterplot(x=\"CONTRIBUTING_FACTOR_VEHICLE1\", y=\"VEHICLE_TYPE_CODE_1\", \n",
        "               hue=\"number_pedestrians_injured\", linewidth=0, data=mv_data, ax=ax)"
      ],
      "execution_count": 0,
      "outputs": [
        {
          "output_type": "error",
          "ename": "ValueError",
          "evalue": "ignored",
          "traceback": [
            "\u001b[0;31m---------------------------------------------------------------------------\u001b[0m",
            "\u001b[0;31mValueError\u001b[0m                                Traceback (most recent call last)",
            "\u001b[0;32m<ipython-input-48-597cc1da5273>\u001b[0m in \u001b[0;36m<module>\u001b[0;34m()\u001b[0m\n\u001b[1;32m      4\u001b[0m \u001b[0mf\u001b[0m\u001b[0;34m,\u001b[0m \u001b[0max\u001b[0m \u001b[0;34m=\u001b[0m \u001b[0mplt\u001b[0m\u001b[0;34m.\u001b[0m\u001b[0msubplots\u001b[0m\u001b[0;34m(\u001b[0m\u001b[0mfigsize\u001b[0m\u001b[0;34m=\u001b[0m\u001b[0;34m(\u001b[0m\u001b[0;36m15\u001b[0m\u001b[0;34m,\u001b[0m \u001b[0;36m25\u001b[0m\u001b[0;34m)\u001b[0m\u001b[0;34m)\u001b[0m\u001b[0;34m\u001b[0m\u001b[0;34m\u001b[0m\u001b[0m\n\u001b[1;32m      5\u001b[0m sns.scatterplot(x=\"CONTRIBUTING_FACTOR_VEHICLE1\", y=\"VEHICLE_TYPE_CODE_1\", \n\u001b[0;32m----> 6\u001b[0;31m                hue=\"number_pedestrians_injured\", linewidth=0, data=mv_data, ax=ax)\n\u001b[0m",
            "\u001b[0;32m/usr/local/lib/python3.6/dist-packages/seaborn/relational.py\u001b[0m in \u001b[0;36mscatterplot\u001b[0;34m(x, y, hue, style, size, data, palette, hue_order, hue_norm, sizes, size_order, size_norm, markers, style_order, x_bins, y_bins, units, estimator, ci, n_boot, alpha, x_jitter, y_jitter, legend, ax, **kwargs)\u001b[0m\n\u001b[1;32m   1333\u001b[0m         \u001b[0mx_bins\u001b[0m\u001b[0;34m=\u001b[0m\u001b[0mx_bins\u001b[0m\u001b[0;34m,\u001b[0m \u001b[0my_bins\u001b[0m\u001b[0;34m=\u001b[0m\u001b[0my_bins\u001b[0m\u001b[0;34m,\u001b[0m\u001b[0;34m\u001b[0m\u001b[0;34m\u001b[0m\u001b[0m\n\u001b[1;32m   1334\u001b[0m         \u001b[0mestimator\u001b[0m\u001b[0;34m=\u001b[0m\u001b[0mestimator\u001b[0m\u001b[0;34m,\u001b[0m \u001b[0mci\u001b[0m\u001b[0;34m=\u001b[0m\u001b[0mci\u001b[0m\u001b[0;34m,\u001b[0m \u001b[0mn_boot\u001b[0m\u001b[0;34m=\u001b[0m\u001b[0mn_boot\u001b[0m\u001b[0;34m,\u001b[0m\u001b[0;34m\u001b[0m\u001b[0;34m\u001b[0m\u001b[0m\n\u001b[0;32m-> 1335\u001b[0;31m         \u001b[0malpha\u001b[0m\u001b[0;34m=\u001b[0m\u001b[0malpha\u001b[0m\u001b[0;34m,\u001b[0m \u001b[0mx_jitter\u001b[0m\u001b[0;34m=\u001b[0m\u001b[0mx_jitter\u001b[0m\u001b[0;34m,\u001b[0m \u001b[0my_jitter\u001b[0m\u001b[0;34m=\u001b[0m\u001b[0my_jitter\u001b[0m\u001b[0;34m,\u001b[0m \u001b[0mlegend\u001b[0m\u001b[0;34m=\u001b[0m\u001b[0mlegend\u001b[0m\u001b[0;34m,\u001b[0m\u001b[0;34m\u001b[0m\u001b[0;34m\u001b[0m\u001b[0m\n\u001b[0m\u001b[1;32m   1336\u001b[0m     )\n\u001b[1;32m   1337\u001b[0m \u001b[0;34m\u001b[0m\u001b[0m\n",
            "\u001b[0;32m/usr/local/lib/python3.6/dist-packages/seaborn/relational.py\u001b[0m in \u001b[0;36m__init__\u001b[0;34m(self, x, y, hue, size, style, data, palette, hue_order, hue_norm, sizes, size_order, size_norm, dashes, markers, style_order, x_bins, y_bins, units, estimator, ci, n_boot, alpha, x_jitter, y_jitter, legend)\u001b[0m\n\u001b[1;32m    850\u001b[0m \u001b[0;34m\u001b[0m\u001b[0m\n\u001b[1;32m    851\u001b[0m         plot_data = self.establish_variables(\n\u001b[0;32m--> 852\u001b[0;31m             \u001b[0mx\u001b[0m\u001b[0;34m,\u001b[0m \u001b[0my\u001b[0m\u001b[0;34m,\u001b[0m \u001b[0mhue\u001b[0m\u001b[0;34m,\u001b[0m \u001b[0msize\u001b[0m\u001b[0;34m,\u001b[0m \u001b[0mstyle\u001b[0m\u001b[0;34m,\u001b[0m \u001b[0munits\u001b[0m\u001b[0;34m,\u001b[0m \u001b[0mdata\u001b[0m\u001b[0;34m\u001b[0m\u001b[0;34m\u001b[0m\u001b[0m\n\u001b[0m\u001b[1;32m    853\u001b[0m         )\n\u001b[1;32m    854\u001b[0m \u001b[0;34m\u001b[0m\u001b[0m\n",
            "\u001b[0;32m/usr/local/lib/python3.6/dist-packages/seaborn/relational.py\u001b[0m in \u001b[0;36mestablish_variables\u001b[0;34m(self, x, y, hue, size, style, units, data)\u001b[0m\n\u001b[1;32m    140\u001b[0m                 \u001b[0;32mif\u001b[0m \u001b[0misinstance\u001b[0m\u001b[0;34m(\u001b[0m\u001b[0mvar\u001b[0m\u001b[0;34m,\u001b[0m \u001b[0mstring_types\u001b[0m\u001b[0;34m)\u001b[0m\u001b[0;34m:\u001b[0m\u001b[0;34m\u001b[0m\u001b[0;34m\u001b[0m\u001b[0m\n\u001b[1;32m    141\u001b[0m                     \u001b[0merr\u001b[0m \u001b[0;34m=\u001b[0m \u001b[0;34m\"Could not interpret input '{}'\"\u001b[0m\u001b[0;34m.\u001b[0m\u001b[0mformat\u001b[0m\u001b[0;34m(\u001b[0m\u001b[0mvar\u001b[0m\u001b[0;34m)\u001b[0m\u001b[0;34m\u001b[0m\u001b[0;34m\u001b[0m\u001b[0m\n\u001b[0;32m--> 142\u001b[0;31m                     \u001b[0;32mraise\u001b[0m \u001b[0mValueError\u001b[0m\u001b[0;34m(\u001b[0m\u001b[0merr\u001b[0m\u001b[0;34m)\u001b[0m\u001b[0;34m\u001b[0m\u001b[0;34m\u001b[0m\u001b[0m\n\u001b[0m\u001b[1;32m    143\u001b[0m \u001b[0;34m\u001b[0m\u001b[0m\n\u001b[1;32m    144\u001b[0m             \u001b[0;31m# Extract variable names\u001b[0m\u001b[0;34m\u001b[0m\u001b[0;34m\u001b[0m\u001b[0;34m\u001b[0m\u001b[0m\n",
            "\u001b[0;31mValueError\u001b[0m: Could not interpret input 'CONTRIBUTING_FACTOR_VEHICLE1'"
          ]
        },
        {
          "output_type": "display_data",
          "data": {
            "image/png": "[encoded data removed]",
            "text/plain": [
              "<Figure size 1080x1800 with 1 Axes>"
            ]
          },
          "metadata": {
            "tags": []
          }
        }
      ]
    },
    {
      "cell_type": "markdown",
      "metadata": {
        "id": "iSwsHOCY1niB",
        "colab_type": "text"
      },
      "source": [
        "#### So, it looks like for this particular item, crashes with driver inexperience, most vehicles did not have pedestrian injuries. Livery vehicles had 1 pedestrian injury and \"motor\" (what is motor compared to motor vehicle, I'm not sure) had 1 pedestrian injury. "
      ]
    }
  ]
}